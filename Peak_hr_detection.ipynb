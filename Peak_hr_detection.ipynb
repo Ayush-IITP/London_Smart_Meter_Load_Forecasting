{
 "cells": [
  {
   "cell_type": "code",
   "execution_count": 1,
   "metadata": {},
   "outputs": [],
   "source": [
    "from pyspark.sql import SQLContext\n",
    "from pyspark.sql import functions as sf\n",
    "from pyspark.ml.feature import OneHotEncoder\n",
    "from pyspark.ml.feature import VectorAssembler\n",
    "from pyspark.sql.types import DateType\n",
    "from datetime import date, timedelta\n",
    "import datetime as dt\n",
    "from pyspark.ml.tuning import ParamGridBuilder, TrainValidationSplit\n",
    "from pyspark.ml.regression import RandomForestRegressionModel,RandomForestRegressor\n",
    "from pyspark.sql.functions import col, avg, sum\n",
    "import numpy as np\n",
    "import matplotlib.dates as mdates\n",
    "from matplotlib import pyplot as plt\n",
    "import pandas as pd\n",
    "import pyspark\n",
    "from collections import Counter"
   ]
  },
  {
   "cell_type": "code",
   "execution_count": 3,
   "metadata": {},
   "outputs": [
    {
     "data": {
      "text/html": [
       "\n",
       "        <div>\n",
       "            <p><b>SparkContext</b></p>\n",
       "\n",
       "            <p><a href=\"http://master:4041\">Spark UI</a></p>\n",
       "\n",
       "            <dl>\n",
       "              <dt>Version</dt>\n",
       "                <dd><code>v2.4.0</code></dd>\n",
       "              <dt>Master</dt>\n",
       "                <dd><code>spark://172.16.27.208:7077</code></dd>\n",
       "              <dt>AppName</dt>\n",
       "                <dd><code>spark</code></dd>\n",
       "            </dl>\n",
       "        </div>\n",
       "        "
      ],
      "text/plain": [
       "<SparkContext master=spark://172.16.27.208:7077 appName=spark>"
      ]
     },
     "execution_count": 3,
     "metadata": {},
     "output_type": "execute_result"
    }
   ],
   "source": [
    "sc.stop()\n",
    "sc = pyspark.SparkContext(master=\"spark://172.16.27.208:7077\",appName=\"spark\")\n",
    "sc"
   ]
  },
  {
   "cell_type": "code",
   "execution_count": 4,
   "metadata": {},
   "outputs": [],
   "source": [
    "base_path = \"/home/test5/Desktop/smart-meters-in-london/\"\n",
    "sqlcontext = SQLContext(sc)"
   ]
  },
  {
   "cell_type": "code",
   "execution_count": 5,
   "metadata": {},
   "outputs": [
    {
     "name": "stdout",
     "output_type": "stream",
     "text": [
      "root\n",
      " |-- _c0: integer (nullable = true)\n",
      " |-- cluster_id: integer (nullable = true)\n",
      " |-- date: timestamp (nullable = true)\n",
      " |-- hour: integer (nullable = true)\n",
      " |-- energy(kWh/h): double (nullable = true)\n",
      " |-- month: integer (nullable = true)\n",
      " |-- weekDay: string (nullable = true)\n",
      " |-- 1_diff_energy_t_0: double (nullable = true)\n",
      " |-- 2_diff_energy_t_0: double (nullable = true)\n",
      " |-- 3_diff_energy_t_0: double (nullable = true)\n",
      " |-- 4_diff_energy_t_0: double (nullable = true)\n",
      " |-- 5_diff_energy_t_0: double (nullable = true)\n",
      " |-- 6_diff_energy_t_0: double (nullable = true)\n",
      " |-- 7_diff_energy_t_0: double (nullable = true)\n",
      " |-- 1_diff_energy_t_1: double (nullable = true)\n",
      " |-- 2_diff_energy_t_1: double (nullable = true)\n",
      " |-- 3_diff_energy_t_1: double (nullable = true)\n",
      " |-- 4_diff_energy_t_1: double (nullable = true)\n",
      " |-- 5_diff_energy_t_1: double (nullable = true)\n",
      " |-- 6_diff_energy_t_1: double (nullable = true)\n",
      " |-- 7_diff_energy_t_1: double (nullable = true)\n",
      " |-- 1_diff_energy_t_2: double (nullable = true)\n",
      " |-- 2_diff_energy_t_2: double (nullable = true)\n",
      " |-- 3_diff_energy_t_2: double (nullable = true)\n",
      " |-- 4_diff_energy_t_2: double (nullable = true)\n",
      " |-- 5_diff_energy_t_2: double (nullable = true)\n",
      " |-- 6_diff_energy_t_2: double (nullable = true)\n",
      " |-- 7_diff_energy_t_2: double (nullable = true)\n",
      " |-- diff_energy_week_t_1: double (nullable = true)\n",
      " |-- diff_energy_week_t_2: double (nullable = true)\n",
      " |-- diff_energy_week_t_3: double (nullable = true)\n",
      " |-- diff_energy_week_t_4: double (nullable = true)\n",
      " |-- rnk: integer (nullable = true)\n",
      " |-- mean_1: double (nullable = true)\n",
      " |-- mean_2: double (nullable = true)\n",
      " |-- mean_3: double (nullable = true)\n",
      " |-- mean_4: double (nullable = true)\n",
      " |-- mean_5: double (nullable = true)\n",
      " |-- mean_6: double (nullable = true)\n",
      " |-- mean_7: double (nullable = true)\n",
      " |-- min_1: double (nullable = true)\n",
      " |-- max_1: double (nullable = true)\n",
      " |-- min_2: double (nullable = true)\n",
      " |-- max_2: double (nullable = true)\n",
      " |-- min_3: double (nullable = true)\n",
      " |-- max_3: double (nullable = true)\n",
      " |-- min_4: double (nullable = true)\n",
      " |-- max_4: double (nullable = true)\n",
      " |-- min_5: double (nullable = true)\n",
      " |-- max_5: double (nullable = true)\n",
      " |-- min_6: double (nullable = true)\n",
      " |-- max_6: double (nullable = true)\n",
      " |-- min_7: double (nullable = true)\n",
      " |-- max_7: double (nullable = true)\n",
      " |-- visibility: double (nullable = true)\n",
      " |-- windBearing: integer (nullable = true)\n",
      " |-- dewPoint: double (nullable = true)\n",
      " |-- pressure: double (nullable = true)\n",
      " |-- apparentTemperature: double (nullable = true)\n",
      " |-- windSpeed: double (nullable = true)\n",
      " |-- precipType: string (nullable = true)\n",
      " |-- humidity: double (nullable = true)\n",
      " |-- summary: string (nullable = true)\n",
      " |-- date2: timestamp (nullable = true)\n",
      " |-- temperatureMax: double (nullable = true)\n",
      " |-- temperatureMin: double (nullable = true)\n",
      " |-- holiday: integer (nullable = true)\n",
      " |-- Weekday/end: integer (nullable = true)\n",
      " |-- weekDay_index: double (nullable = true)\n",
      " |-- precipType_index: double (nullable = true)\n",
      " |-- summary_index: double (nullable = true)\n",
      "\n"
     ]
    },
    {
     "data": {
      "text/plain": [
       "pyspark.sql.dataframe.DataFrame"
      ]
     },
     "execution_count": 5,
     "metadata": {},
     "output_type": "execute_result"
    }
   ],
   "source": [
    "cluster_feature = sqlcontext.read.csv(path=base_path+\"bk=8_means_Feature.csv\",header=True,inferSchema=True)\n",
    "# cluster_feature = cluster_feature.drop(\"_c0\",\"date2\")\n",
    "# cluster_feature = cluster_feature.withColumn(\"windSpeed\",cluster_feature[\"windSpeed\"].cast(\"float\"))\n",
    "# cluster_feature = cluster_feature.withColumn(\"dewPoint\",cluster_feature[\"dewPoint\"].cast(\"float\"))\n",
    "cluster_feature.printSchema()\n",
    "type(cluster_feature)"
   ]
  },
  {
   "cell_type": "code",
   "execution_count": 6,
   "metadata": {},
   "outputs": [
    {
     "data": {
      "text/plain": [
       "[Row(cluster_id=1, date=datetime.datetime(2013, 1, 1, 0, 0), hour=0, energy(kWh/h)=265.413, weekDay='Tue', 1_diff_energy_t_0=230.108, 2_diff_energy_t_0=242.838, 3_diff_energy_t_0=239.363, 4_diff_energy_t_0=231.928, 5_diff_energy_t_0=230.906, 6_diff_energy_t_0=236.636, 7_diff_energy_t_0=235.955, 1_diff_energy_t_1=278.6, 2_diff_energy_t_1=282.455, 3_diff_energy_t_1=289.14, 4_diff_energy_t_1=281.541, 5_diff_energy_t_1=268.213, 6_diff_energy_t_1=272.572, 7_diff_energy_t_1=277.427, 1_diff_energy_t_2=346.241, 2_diff_energy_t_2=334.529, 3_diff_energy_t_2=342.058, 4_diff_energy_t_2=342.666, 5_diff_energy_t_2=326.166, 6_diff_energy_t_2=304.912, 7_diff_energy_t_2=333.314, diff_energy_week_t_2=217.882, diff_energy_week_t_3=218.23, diff_energy_week_t_4=212.166, rnk=32, mean_1=283.6334583333333, mean_2=283.55745833333333, mean_3=283.9150833333333, mean_4=279.71179166666667, mean_5=276.9005, mean_6=269.6797916666667, mean_7=286.57225, min_1=136.298, max_1=468.535, min_2=133.018, max_2=438.373, min_3=130.779, max_3=461.318, min_4=132.471, max_4=443.296, min_5=129.196, max_5=438.833, min_6=132.342, max_6=392.676, min_7=134.089, max_7=407.235, visibility=13.28, windBearing=269, dewPoint=2.6, pressure=1008.19, apparentTemperature=3.66, windSpeed=5.46, precipType='rain', humidity=0.73, summary='Partly Cloudy', temperatureMax=7.49, temperatureMin=3.31, weekDay_index=5.0, precipType_index=0.0, summary_index=2.0, holiday=1)]"
      ]
     },
     "execution_count": 6,
     "metadata": {},
     "output_type": "execute_result"
    }
   ],
   "source": [
    "cluster_feature = cluster_feature.withColumn(\"holiday1\",sf.when((col(\"Weekday/end\")==1) | (col(\"holiday\")==1),1).otherwise(0))\n",
    "cluster_feature = cluster_feature.drop(\"_c0\",\"diff_energy_week_t_1\",\"date2\",\"holiday\",\"month\",\"Weekday/end\")\n",
    "cluster_feature = cluster_feature.withColumnRenamed(\"holiday1\",\"holiday\")\n",
    "cluster_feature.take(1)"
   ]
  },
  {
   "cell_type": "code",
   "execution_count": 7,
   "metadata": {},
   "outputs": [
    {
     "name": "stdout",
     "output_type": "stream",
     "text": [
      "root\n",
      " |-- cluster_id: integer (nullable = true)\n",
      " |-- date: timestamp (nullable = true)\n",
      " |-- hour: integer (nullable = true)\n",
      " |-- energy(kWh/h): double (nullable = true)\n",
      " |-- weekDay: string (nullable = true)\n",
      " |-- 1_diff_energy_t_0: double (nullable = true)\n",
      " |-- 2_diff_energy_t_0: double (nullable = true)\n",
      " |-- 3_diff_energy_t_0: double (nullable = true)\n",
      " |-- 4_diff_energy_t_0: double (nullable = true)\n",
      " |-- 5_diff_energy_t_0: double (nullable = true)\n",
      " |-- 6_diff_energy_t_0: double (nullable = true)\n",
      " |-- 7_diff_energy_t_0: double (nullable = true)\n",
      " |-- 1_diff_energy_t_1: double (nullable = true)\n",
      " |-- 2_diff_energy_t_1: double (nullable = true)\n",
      " |-- 3_diff_energy_t_1: double (nullable = true)\n",
      " |-- 4_diff_energy_t_1: double (nullable = true)\n",
      " |-- 5_diff_energy_t_1: double (nullable = true)\n",
      " |-- 6_diff_energy_t_1: double (nullable = true)\n",
      " |-- 7_diff_energy_t_1: double (nullable = true)\n",
      " |-- 1_diff_energy_t_2: double (nullable = true)\n",
      " |-- 2_diff_energy_t_2: double (nullable = true)\n",
      " |-- 3_diff_energy_t_2: double (nullable = true)\n",
      " |-- 4_diff_energy_t_2: double (nullable = true)\n",
      " |-- 5_diff_energy_t_2: double (nullable = true)\n",
      " |-- 6_diff_energy_t_2: double (nullable = true)\n",
      " |-- 7_diff_energy_t_2: double (nullable = true)\n",
      " |-- diff_energy_week_t_2: double (nullable = true)\n",
      " |-- diff_energy_week_t_3: double (nullable = true)\n",
      " |-- diff_energy_week_t_4: double (nullable = true)\n",
      " |-- mean_1: double (nullable = true)\n",
      " |-- mean_2: double (nullable = true)\n",
      " |-- mean_3: double (nullable = true)\n",
      " |-- mean_4: double (nullable = true)\n",
      " |-- mean_5: double (nullable = true)\n",
      " |-- mean_6: double (nullable = true)\n",
      " |-- mean_7: double (nullable = true)\n",
      " |-- min_1: double (nullable = true)\n",
      " |-- max_1: double (nullable = true)\n",
      " |-- min_2: double (nullable = true)\n",
      " |-- max_2: double (nullable = true)\n",
      " |-- min_3: double (nullable = true)\n",
      " |-- max_3: double (nullable = true)\n",
      " |-- min_4: double (nullable = true)\n",
      " |-- max_4: double (nullable = true)\n",
      " |-- min_5: double (nullable = true)\n",
      " |-- max_5: double (nullable = true)\n",
      " |-- min_6: double (nullable = true)\n",
      " |-- max_6: double (nullable = true)\n",
      " |-- min_7: double (nullable = true)\n",
      " |-- max_7: double (nullable = true)\n",
      " |-- visibility: double (nullable = true)\n",
      " |-- windBearing: integer (nullable = true)\n",
      " |-- dewPoint: double (nullable = true)\n",
      " |-- pressure: double (nullable = true)\n",
      " |-- apparentTemperature: double (nullable = true)\n",
      " |-- windSpeed: double (nullable = true)\n",
      " |-- precipType: string (nullable = true)\n",
      " |-- humidity: double (nullable = true)\n",
      " |-- summary: string (nullable = true)\n",
      " |-- temperatureMax: double (nullable = true)\n",
      " |-- temperatureMin: double (nullable = true)\n",
      " |-- weekDay_index: double (nullable = true)\n",
      " |-- precipType_index: double (nullable = true)\n",
      " |-- summary_index: double (nullable = true)\n",
      " |-- holiday: integer (nullable = false)\n",
      " |-- category_weekDay_index: vector (nullable = true)\n",
      " |-- category_precipType_index: vector (nullable = true)\n",
      " |-- category_summary_index: vector (nullable = true)\n",
      "\n"
     ]
    }
   ],
   "source": [
    "outputCols = [\"weekDay_index\",\"precipType_index\",\"summary_index\"]\n",
    "df_encoded = cluster_feature\n",
    "df_encoded = df_encoded.na.drop()\n",
    "for col in outputCols: \n",
    "    encoder = OneHotEncoder(inputCol=col, outputCol=\"category_{}\".format(col))\n",
    "    df_encoded = encoder.transform(df_encoded).cache()\n",
    "df_encoded = df_encoded.drop(\"rnk\")\n",
    "df_encoded.printSchema()"
   ]
  },
  {
   "cell_type": "code",
   "execution_count": 8,
   "metadata": {},
   "outputs": [
    {
     "data": {
      "text/plain": [
       "[Row(cluster_id=1, date=datetime.datetime(2013, 1, 1, 0, 0), hour=0, energy(kWh/h)=265.413, weekDay='Tue', 1_diff_energy_t_0=230.108, 2_diff_energy_t_0=242.838, 3_diff_energy_t_0=239.363, 4_diff_energy_t_0=231.928, 5_diff_energy_t_0=230.906, 6_diff_energy_t_0=236.636, 7_diff_energy_t_0=235.955, 1_diff_energy_t_1=278.6, 2_diff_energy_t_1=282.455, 3_diff_energy_t_1=289.14, 4_diff_energy_t_1=281.541, 5_diff_energy_t_1=268.213, 6_diff_energy_t_1=272.572, 7_diff_energy_t_1=277.427, 1_diff_energy_t_2=346.241, 2_diff_energy_t_2=334.529, 3_diff_energy_t_2=342.058, 4_diff_energy_t_2=342.666, 5_diff_energy_t_2=326.166, 6_diff_energy_t_2=304.912, 7_diff_energy_t_2=333.314, diff_energy_week_t_2=217.882, diff_energy_week_t_3=218.23, diff_energy_week_t_4=212.166, mean_1=283.6334583333333, mean_2=283.55745833333333, mean_3=283.9150833333333, mean_4=279.71179166666667, mean_5=276.9005, mean_6=269.6797916666667, mean_7=286.57225, min_1=136.298, max_1=468.535, min_2=133.018, max_2=438.373, min_3=130.779, max_3=461.318, min_4=132.471, max_4=443.296, min_5=129.196, max_5=438.833, min_6=132.342, max_6=392.676, min_7=134.089, max_7=407.235, visibility=13.28, windBearing=269, dewPoint=2.6, pressure=1008.19, apparentTemperature=3.66, windSpeed=5.46, precipType='rain', humidity=0.73, summary='Partly Cloudy', temperatureMax=7.49, temperatureMin=3.31, weekDay_index=5.0, precipType_index=0.0, summary_index=2.0, holiday=1, category_weekDay_index=SparseVector(6, {5: 1.0}), category_precipType_index=SparseVector(1, {0: 1.0}), category_summary_index=SparseVector(11, {2: 1.0}), features=DenseVector([0.73, 0.0, 0.0, 0.0, 0.0, 0.0, 1.0, 134.089, 461.318, 443.296, 5.46, 1008.19, 268.213, 333.314, 212.166, 283.6335, 392.676, 346.241, 239.363, 468.535, 132.342, 342.058, 279.7118, 0.0, 230.906, 283.5575, 136.298, 1.0, 231.928, 236.636, 130.779, 0.0, 0.0, 1.0, 0.0, 0.0, 0.0, 0.0, 0.0, 0.0, 0.0, 0.0, 133.018, 342.666, 283.9151, 217.882, 3.31, 276.9005, 218.23, 277.427, 13.28, 334.529, 278.6, 269.0, 235.955, 129.196, 269.6798, 407.235, 2.6, 289.14, 272.572, 286.5722, 132.471, 242.838, 230.108, 438.373, 3.66, 326.166, 7.49, 1.0, 281.541, 438.833, 304.912, 282.455]))]"
      ]
     },
     "execution_count": 8,
     "metadata": {},
     "output_type": "execute_result"
    }
   ],
   "source": [
    "inputCols = [\"weekDay\",\"precipType\",\"summary\",]\n",
    "columns = df_encoded.columns\n",
    "feature_col = columns[4:]\n",
    "feature_col.append(columns[2])\n",
    "feature_col = set(feature_col) - set(inputCols)\n",
    "feature_col = feature_col - set(outputCols)\n",
    "feature_col = list(feature_col)\n",
    "df_encoded = df_encoded.na.drop()\n",
    "len(feature_col)\n",
    "\n",
    "vecAssembler = VectorAssembler(inputCols=feature_col, outputCol=\"features\")\n",
    "df_feature = vecAssembler.transform(df_encoded)\n",
    "df_feature.take(1)"
   ]
  },
  {
   "cell_type": "code",
   "execution_count": 9,
   "metadata": {},
   "outputs": [
    {
     "name": "stdout",
     "output_type": "stream",
     "text": [
      "root\n",
      " |-- cluster_id: integer (nullable = true)\n",
      " |-- date: date (nullable = true)\n",
      " |-- hour: integer (nullable = true)\n",
      " |-- label: double (nullable = true)\n",
      " |-- weekDay: string (nullable = true)\n",
      " |-- 1_diff_energy_t_0: double (nullable = true)\n",
      " |-- 2_diff_energy_t_0: double (nullable = true)\n",
      " |-- 3_diff_energy_t_0: double (nullable = true)\n",
      " |-- 4_diff_energy_t_0: double (nullable = true)\n",
      " |-- 5_diff_energy_t_0: double (nullable = true)\n",
      " |-- 6_diff_energy_t_0: double (nullable = true)\n",
      " |-- 7_diff_energy_t_0: double (nullable = true)\n",
      " |-- 1_diff_energy_t_1: double (nullable = true)\n",
      " |-- 2_diff_energy_t_1: double (nullable = true)\n",
      " |-- 3_diff_energy_t_1: double (nullable = true)\n",
      " |-- 4_diff_energy_t_1: double (nullable = true)\n",
      " |-- 5_diff_energy_t_1: double (nullable = true)\n",
      " |-- 6_diff_energy_t_1: double (nullable = true)\n",
      " |-- 7_diff_energy_t_1: double (nullable = true)\n",
      " |-- 1_diff_energy_t_2: double (nullable = true)\n",
      " |-- 2_diff_energy_t_2: double (nullable = true)\n",
      " |-- 3_diff_energy_t_2: double (nullable = true)\n",
      " |-- 4_diff_energy_t_2: double (nullable = true)\n",
      " |-- 5_diff_energy_t_2: double (nullable = true)\n",
      " |-- 6_diff_energy_t_2: double (nullable = true)\n",
      " |-- 7_diff_energy_t_2: double (nullable = true)\n",
      " |-- diff_energy_week_t_2: double (nullable = true)\n",
      " |-- diff_energy_week_t_3: double (nullable = true)\n",
      " |-- diff_energy_week_t_4: double (nullable = true)\n",
      " |-- mean_1: double (nullable = true)\n",
      " |-- mean_2: double (nullable = true)\n",
      " |-- mean_3: double (nullable = true)\n",
      " |-- mean_4: double (nullable = true)\n",
      " |-- mean_5: double (nullable = true)\n",
      " |-- mean_6: double (nullable = true)\n",
      " |-- mean_7: double (nullable = true)\n",
      " |-- min_1: double (nullable = true)\n",
      " |-- max_1: double (nullable = true)\n",
      " |-- min_2: double (nullable = true)\n",
      " |-- max_2: double (nullable = true)\n",
      " |-- min_3: double (nullable = true)\n",
      " |-- max_3: double (nullable = true)\n",
      " |-- min_4: double (nullable = true)\n",
      " |-- max_4: double (nullable = true)\n",
      " |-- min_5: double (nullable = true)\n",
      " |-- max_5: double (nullable = true)\n",
      " |-- min_6: double (nullable = true)\n",
      " |-- max_6: double (nullable = true)\n",
      " |-- min_7: double (nullable = true)\n",
      " |-- max_7: double (nullable = true)\n",
      " |-- visibility: double (nullable = true)\n",
      " |-- windBearing: integer (nullable = true)\n",
      " |-- dewPoint: double (nullable = true)\n",
      " |-- pressure: double (nullable = true)\n",
      " |-- apparentTemperature: double (nullable = true)\n",
      " |-- windSpeed: double (nullable = true)\n",
      " |-- precipType: string (nullable = true)\n",
      " |-- humidity: double (nullable = true)\n",
      " |-- summary: string (nullable = true)\n",
      " |-- temperatureMax: double (nullable = true)\n",
      " |-- temperatureMin: double (nullable = true)\n",
      " |-- weekDay_index: double (nullable = true)\n",
      " |-- precipType_index: double (nullable = true)\n",
      " |-- summary_index: double (nullable = true)\n",
      " |-- holiday: integer (nullable = false)\n",
      " |-- category_weekDay_index: vector (nullable = true)\n",
      " |-- category_precipType_index: vector (nullable = true)\n",
      " |-- category_summary_index: vector (nullable = true)\n",
      " |-- features: vector (nullable = true)\n",
      "\n"
     ]
    }
   ],
   "source": [
    "df_feature = df_feature.withColumnRenamed(\"energy(kWh/h)\",\"label\")\n",
    "df_feature = df_feature.withColumn(\"date\",df_feature[\"date\"].cast(DateType()))\n",
    "df_feature.printSchema()"
   ]
  },
  {
   "cell_type": "code",
   "execution_count": 10,
   "metadata": {},
   "outputs": [],
   "source": [
    "def get_aggregate(df):\n",
    "    list = [\"date\",\"hour\"]\n",
    "    df = df.groupBy(list).agg(sum(\"label\"),sum(\"prediction\"))    \n",
    "    return df\n",
    "def select_predicted_actual(df,date,LCLid=None):\n",
    "    list = []\n",
    "    if LCLid != None:\n",
    "        list = df.where((df[\"LCLid\"] == LCLid) & (df[\"date\"] == date)).select(\"label\",\"prediction\").collect()\n",
    "    else:\n",
    "        list = df.where((df[\"date\"] == date)).select(\"label\",\"prediction\").collect()\n",
    "    actual = [int(row['label']) for row in list]\n",
    "    predicted = [int(row['prediction']) for row in list]\n",
    "    return actual,predicted\n",
    "\n",
    "def populate_precision_recall(actual,predicted,precision,recall,predicted_peak_period,actual_peak_period):\n",
    "    actual, predicted = np.array(actual),np.array(predicted)\n",
    "    actual_std, predicted_std = np.std(actual), np.std(predicted)\n",
    "    actual_mean, predicted_mean = np.mean(actual),np.mean(predicted)\n",
    "    actual_threshhold, predicted_threshhold = actual_std + actual_mean,predicted_std+predicted_mean\n",
    "    \n",
    "    y_label, y_predicted = [],[]\n",
    "    for power,power1 in zip(actual,predicted):\n",
    "        y_label.append(1) if power > actual_threshhold else y_label.append(0)\n",
    "        y_predicted.append(1) if power1 > predicted_threshhold else y_predicted.append(0)\n",
    "    \n",
    "    predicted_peak_period.append(y_predicted)\n",
    "    actual_peak_period.append(y_label)\n",
    "    \n",
    "    counts = Counter(zip(y_predicted,y_label))\n",
    "    tp = counts[1,1]\n",
    "    fp = counts[1,0]\n",
    "    tn = counts[0,0]\n",
    "    fn = counts[0,1]\n",
    "    \n",
    "    recall.append((tp/float(tp+fn)) if tp+fn else 0)\n",
    "    precision.append((tp+tn)/24.0)\n",
    "    return precision,recall, predicted_peak_period,actual_peak_period"
   ]
  },
  {
   "cell_type": "code",
   "execution_count": 11,
   "metadata": {},
   "outputs": [
    {
     "name": "stdout",
     "output_type": "stream",
     "text": [
      "Train_point = 7288, Test_point = 1464, cId = 0\n",
      "Train_point = 7288, Test_point = 1464, cId = 1\n",
      "Train_point = 7288, Test_point = 1464, cId = 2\n",
      "Train_point = 7288, Test_point = 1464, cId = 3\n",
      "Train_point = 7288, Test_point = 1464, cId = 4\n",
      "Train_point = 7288, Test_point = 1464, cId = 5\n",
      "Train_point = 7288, Test_point = 1464, cId = 6\n",
      "Train_point = 7288, Test_point = 1464, cId = 7\n"
     ]
    }
   ],
   "source": [
    "train_df_cluster = []\n",
    "test_df_cluster = []\n",
    "num_of_cluster = 8\n",
    "for cluster_id in range(num_of_cluster):\n",
    "    train_df = df_feature.where((df_feature[\"cluster_id\"] == cluster_id) & (df_feature[\"date\"] <= date(2013,10,31)))\n",
    "    test_df = df_feature.where((df_feature[\"cluster_id\"] == cluster_id) & (df_feature[\"date\"] > date(2013,10,31)))# & (df_feature[\"date\"] <= date(2013,1,2)))\n",
    "    print(\"Train_point = {}, Test_point = {}, cId = {}\".format(train_df.count(),test_df.count(),cluster_id))\n",
    "    train_df_cluster.append(train_df)\n",
    "    test_df_cluster.append(test_df)"
   ]
  },
  {
   "cell_type": "code",
   "execution_count": 12,
   "metadata": {
    "scrolled": true
   },
   "outputs": [],
   "source": [
    "pred_val = []\n",
    "flag = 0\n",
    "for cluster_id in range(num_of_cluster):\n",
    "    rf = RandomForestRegressor(numTrees=20,maxDepth=10,maxBins=128,seed=4)\n",
    "    model = rf.fit(train_df_cluster[cluster_id])\n",
    "#     model.save(base_path+\"/Model/rf_bkm/rf_model_bkm_{}\".format(cluster_id))\n",
    "    rf_pred_val = model.transform(test_df_cluster[cluster_id])\n",
    "    if flag == 0:\n",
    "        pred_val = sqlcontext.createDataFrame([],rf_pred_val.schema)\n",
    "        flag = 1\n",
    "    pred_val = pred_val.union(rf_pred_val)\n",
    "    pred_val = pred_val.cache()"
   ]
  },
  {
   "cell_type": "code",
   "execution_count": 13,
   "metadata": {},
   "outputs": [],
   "source": [
    "aggregate_df = get_aggregate(pred_val)\n",
    "aggregate_df = aggregate_df.withColumnRenamed(\"sum(label)\",\"label\")\n",
    "aggregate_df = aggregate_df.withColumnRenamed(\"sum(prediction)\",\"prediction\")"
   ]
  },
  {
   "cell_type": "code",
   "execution_count": 66,
   "metadata": {
    "scrolled": true
   },
   "outputs": [
    {
     "name": "stdout",
     "output_type": "stream",
     "text": [
      "2013-12-31\n"
     ]
    }
   ],
   "source": [
    "train_start_date = date(2013,12,31)\n",
    "train_end_date = date(2013,12,31)\n",
    "y_date = []\n",
    "predicted_peak_period = []\n",
    "actual_peak_period = []\n",
    "precision = []\n",
    "recall = [] \n",
    "while train_start_date <= train_end_date:\n",
    "    print(train_start_date)\n",
    "    y_actual,y_pred = select_predicted_actual(aggregate_df,train_start_date)\n",
    "    if len(y_actual) == 0:\n",
    "        train_start_date = train_start_date + timedelta(1)\n",
    "        continue\n",
    "    precision,recall,predicted_peak_period,actual_peak_period = populate_precision_recall(y_actual,y_pred,precision,recall,predicted_peak_period,actual_peak_period)\n",
    "    y_date.append(train_start_date)\n",
    "    train_start_date = train_start_date + timedelta(1)"
   ]
  },
  {
   "cell_type": "code",
   "execution_count": 67,
   "metadata": {},
   "outputs": [
    {
     "name": "stdout",
     "output_type": "stream",
     "text": [
      "[1944, 2641, 2448, 2219, 2815, 2840, 1821, 2532, 1101, 2591, 2257, 1332, 2608, 1478, 1837, 2334, 987, 1003, 2724, 2588, 2435, 2637, 1058, 1207]\n",
      "[2025, 2759, 1930, 2392, 1904, 1921, 1864, 3012, 1174, 2292, 1940, 1585, 1937, 1360, 1773, 2589, 966, 983, 1903, 2983, 2846, 1888, 1016, 1120]\n",
      "2059.875 636.1624735146937\n",
      "1923.4166666666667 610.943595096052\n"
     ]
    }
   ],
   "source": [
    "y_actual,y_pred = select_predicted_actual(aggregate_df,date(2013,12,25))\n",
    "print(y_actual)\n",
    "print(y_pred)\n",
    "print(np.mean(np.array(y_actual)),np.std(np.array(y_actual)))\n",
    "print(np.mean(np.array(y_pred)),np.std(np.array(y_pred)))"
   ]
  },
  {
   "cell_type": "code",
   "execution_count": 68,
   "metadata": {},
   "outputs": [
    {
     "name": "stdout",
     "output_type": "stream",
     "text": [
      "Mean accuracy = 0.9583333333333334, Mean recall = 1.0\n"
     ]
    }
   ],
   "source": [
    "from statistics import mean\n",
    "print(\"Mean accuracy = {}, Mean recall = {}\".format(mean(precision),mean(recall)))"
   ]
  },
  {
   "cell_type": "code",
   "execution_count": 72,
   "metadata": {},
   "outputs": [],
   "source": [
    "actual_predicted = aggregate_df.where((aggregate_df.date==date(2013,12,31))).select(\"label\",\"prediction\").toPandas()"
   ]
  },
  {
   "cell_type": "code",
   "execution_count": 73,
   "metadata": {},
   "outputs": [
    {
     "data": {
      "text/plain": [
       "[[0, 0, 0, 0, 0, 1, 0, 0, 0, 1, 0, 1, 0, 0, 1, 0, 0, 0, 0, 0, 0, 0, 0, 1]]"
      ]
     },
     "execution_count": 73,
     "metadata": {},
     "output_type": "execute_result"
    }
   ],
   "source": [
    "predicted_peak_period"
   ]
  },
  {
   "cell_type": "code",
   "execution_count": null,
   "metadata": {},
   "outputs": [],
   "source": []
  },
  {
   "cell_type": "code",
   "execution_count": 79,
   "metadata": {
    "scrolled": true
   },
   "outputs": [
    {
     "name": "stdout",
     "output_type": "stream",
     "text": [
      "[5, 9, 11, 14, 23] [5, 9, 11, 23]\n"
     ]
    },
    {
     "data": {
      "text/plain": [
       "Text(0, 0.5, 'Aggregated Load(Kw/h)')"
      ]
     },
     "execution_count": 79,
     "metadata": {},
     "output_type": "execute_result"
    },
    {
     "data": {
      "image/png": "[encoded data removed]",
      "text/plain": [
       "<Figure size 576x432 with 1 Axes>"
      ]
     },
     "metadata": {
      "needs_background": "light"
     },
     "output_type": "display_data"
    }
   ],
   "source": [
    "fig,ax = plt.subplots(1,1,figsize=(8,6))\n",
    "mark_actual,mark_predicted = [],[]\n",
    "for i in range(24):\n",
    "    if predicted_peak_period[0][i] == 1:\n",
    "        mark_predicted.append(i)\n",
    "    if actual_peak_period[0][i] == 1:\n",
    "        mark_actual.append(i)\n",
    "print(mark_predicted,mark_actual)\n",
    "ax.plot(np.arange(1,25),actual_predicted[\"label\"],linestyle = '--',marker=\"d\",markevery=mark_actual, label = \"Actual\")\n",
    "ax.plot(np.arange(1,25),actual_predicted[\"prediction\"],linestyle = ':',marker=\"^\",markevery=mark_predicted,label = \"Predicted\")\n",
    "ax.plot(np.arange(1,25),[actual_predicted[\"prediction\"].mean()]*24,linestyle='--',label=\"Predicted Mean\")\n",
    "ax.plot(np.arange(1,25),[actual_predicted[\"prediction\"].mean()+actual_predicted[\"prediction\"].std()]*24,linestyle='--',label = \"Predicted Peak Threshold\")\n",
    "ax.plot(np.arange(1,25),[actual_predicted[\"label\"].mean()]*24,linestyle='-',label = \"Actual Mean\")\n",
    "ax.plot(np.arange(1,25),[actual_predicted[\"label\"].mean()+actual_predicted[\"label\"].std()]*24,linestyle='-',label = \"Actual Peak Threshold\")\n",
    "fig.legend()\n",
    "ax.set_xlabel(\"Hours of Day\")\n",
    "ax.set_ylabel(\"Aggregated Load(Kw/h)\" )"
   ]
  },
  {
   "cell_type": "code",
   "execution_count": 80,
   "metadata": {},
   "outputs": [],
   "source": [
    "fig.savefig(base_path+\"/plot/peak.png\",dpi=600)"
   ]
  },
  {
   "cell_type": "code",
   "execution_count": 77,
   "metadata": {},
   "outputs": [
    {
     "data": {
      "text/plain": [
       "596.9613014336046"
      ]
     },
     "execution_count": 77,
     "metadata": {},
     "output_type": "execute_result"
    }
   ],
   "source": [
    "actual_predicted[\"prediction\"].std()"
   ]
  },
  {
   "cell_type": "code",
   "execution_count": 78,
   "metadata": {},
   "outputs": [
    {
     "ename": "IndexError",
     "evalue": "list index out of range",
     "output_type": "error",
     "traceback": [
      "\u001b[0;31m---------------------------------------------------------------------------\u001b[0m",
      "\u001b[0;31mIndexError\u001b[0m                                Traceback (most recent call last)",
      "\u001b[0;32m<ipython-input-78-096747c5983c>\u001b[0m in \u001b[0;36m<module>\u001b[0;34m\u001b[0m\n\u001b[0;32m----> 1\u001b[0;31m \u001b[0my_date\u001b[0m\u001b[0;34m[\u001b[0m\u001b[0;36m54\u001b[0m\u001b[0;34m]\u001b[0m\u001b[0;34m\u001b[0m\u001b[0m\n\u001b[0m",
      "\u001b[0;31mIndexError\u001b[0m: list index out of range"
     ]
    }
   ],
   "source": [
    "y_date[54]"
   ]
  },
  {
   "cell_type": "code",
   "execution_count": 92,
   "metadata": {},
   "outputs": [
    {
     "data": {
      "text/plain": [
       "[0, 1, 0, 0, 0, 0, 0, 1, 0, 0, 0, 0, 0, 0, 0, 1, 0, 0, 0, 1, 1, 0, 0, 0]"
      ]
     },
     "execution_count": 92,
     "metadata": {},
     "output_type": "execute_result"
    }
   ],
   "source": [
    "predicted_peak_period[54]"
   ]
  },
  {
   "cell_type": "code",
   "execution_count": 93,
   "metadata": {},
   "outputs": [
    {
     "data": {
      "text/plain": [
       "[0, 0, 0, 0, 1, 1, 0, 0, 0, 0, 0, 0, 0, 0, 0, 0, 0, 0, 1, 0, 0, 0, 0, 0]"
      ]
     },
     "execution_count": 93,
     "metadata": {},
     "output_type": "execute_result"
    }
   ],
   "source": [
    "actual_peak_period[54]"
   ]
  },
  {
   "cell_type": "code",
   "execution_count": null,
   "metadata": {},
   "outputs": [],
   "source": []
  }
 ],
 "metadata": {
  "kernelspec": {
   "display_name": "Python 3",
   "language": "python",
   "name": "python3"
  },
  "language_info": {
   "codemirror_mode": {
    "name": "ipython",
    "version": 3
   },
   "file_extension": ".py",
   "mimetype": "text/x-python",
   "name": "python",
   "nbconvert_exporter": "python",
   "pygments_lexer": "ipython3",
   "version": "3.5.2+"
  }
 },
 "nbformat": 4,
 "nbformat_minor": 2
}
