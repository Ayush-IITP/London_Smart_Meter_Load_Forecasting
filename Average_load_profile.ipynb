{
 "cells": [
  {
   "cell_type": "markdown",
   "metadata": {},
   "source": [
    "## Import Statement"
   ]
  },
  {
   "cell_type": "code",
   "execution_count": 1,
   "metadata": {},
   "outputs": [],
   "source": [
    "from pyspark.sql import SQLContext\n",
    "from pyspark.sql import functions as sf\n",
    "from matplotlib import pyplot as plt\n",
    "from pyspark.sql.functions import col, avg\n",
    "import pandas as pd\n",
    "import pyspark\n",
    "from datetime import datetime, timedelta, date\n",
    "from pyspark.sql.functions import broadcast\n",
    "from pyspark.sql.types import DateType\n",
    "from pyspark.sql.functions import col, avg, date_format,month,hour,lag, date_sub,lit"
   ]
  },
  {
   "cell_type": "code",
   "execution_count": 2,
   "metadata": {},
   "outputs": [],
   "source": [
    "log4jLogger = sc._jvm.org.apache.log4j\n",
    "LOGGER = log4jLogger.LogManager.getLogger(__name__)\n",
    "LOGGER.error(\"pyspark script logger initialized\")"
   ]
  },
  {
   "cell_type": "code",
   "execution_count": 3,
   "metadata": {},
   "outputs": [
    {
     "data": {
      "text/html": [
       "\n",
       "        <div>\n",
       "            <p><b>SparkContext</b></p>\n",
       "\n",
       "            <p><a href=\"http://master:4043\">Spark UI</a></p>\n",
       "\n",
       "            <dl>\n",
       "              <dt>Version</dt>\n",
       "                <dd><code>v2.4.0</code></dd>\n",
       "              <dt>Master</dt>\n",
       "                <dd><code>spark://172.16.27.208:7077</code></dd>\n",
       "              <dt>AppName</dt>\n",
       "                <dd><code>spark</code></dd>\n",
       "            </dl>\n",
       "        </div>\n",
       "        "
      ],
      "text/plain": [
       "<SparkContext master=spark://172.16.27.208:7077 appName=spark>"
      ]
     },
     "execution_count": 3,
     "metadata": {},
     "output_type": "execute_result"
    }
   ],
   "source": [
    "sc.stop()\n",
    "sc = pyspark.SparkContext(master=\"spark://172.16.27.208:7077\",appName=\"spark\")\n",
    "sc"
   ]
  },
  {
   "cell_type": "code",
   "execution_count": 4,
   "metadata": {},
   "outputs": [],
   "source": [
    "base_path = \"/home/test5/Desktop/smart-meters-in-london/\"\n",
    "sqlcontext = SQLContext(sc)"
   ]
  },
  {
   "cell_type": "code",
   "execution_count": 5,
   "metadata": {
    "scrolled": true
   },
   "outputs": [],
   "source": [
    "#sqlcontext\n",
    "household_info = sqlcontext.read.csv(base_path+\"informations_households.csv\",header=True,inferSchema=True)\n",
    "#household_mini = sc.parallelize(household_info.take(1)).toDF()\n",
    "household_mini = household_info"
   ]
  },
  {
   "cell_type": "code",
   "execution_count": 6,
   "metadata": {
    "scrolled": true
   },
   "outputs": [
    {
     "name": "stdout",
     "output_type": "stream",
     "text": [
      "root\n",
      " |-- LCLid: string (nullable = true)\n",
      " |-- stdorToU: string (nullable = true)\n",
      " |-- Acorn: string (nullable = true)\n",
      " |-- Acorn_grouped: string (nullable = true)\n",
      " |-- file: string (nullable = true)\n",
      "\n"
     ]
    }
   ],
   "source": [
    "household_mini.printSchema()"
   ]
  },
  {
   "cell_type": "code",
   "execution_count": 7,
   "metadata": {},
   "outputs": [],
   "source": [
    "column_list = []\n",
    "for i in range(48):\n",
    "    column_list.append(\"hh_\"+str(i))\n",
    "column_list\n",
    "new_column_list = []\n",
    "for i in range(1,49):\n",
    "    if i<20:\n",
    "        new_column_list.append(\"0\"+str(i*0.5))\n",
    "    else:\n",
    "        new_column_list.append(str(i*0.5))"
   ]
  },
  {
   "cell_type": "code",
   "execution_count": 8,
   "metadata": {
    "scrolled": true
   },
   "outputs": [
    {
     "name": "stdout",
     "output_type": "stream",
     "text": [
      "block_64 0\n",
      "block_91 1\n",
      "block_39 2\n",
      "block_43 3\n",
      "block_77 4\n",
      "block_19 5\n",
      "block_35 6\n",
      "block_53 7\n",
      "block_26 8\n",
      "block_20 9\n",
      "block_52 10\n",
      "block_12 11\n",
      "block_21 12\n",
      "block_36 13\n",
      "block_89 14\n",
      "block_84 15\n",
      "block_49 16\n",
      "block_93 17\n",
      "block_99 18\n",
      "block_18 19\n",
      "block_44 20\n",
      "block_8 21\n",
      "block_71 22\n",
      "block_104 23\n",
      "block_4 24\n",
      "block_29 25\n",
      "block_38 26\n",
      "block_47 27\n",
      "block_48 28\n",
      "block_42 29\n",
      "block_85 30\n",
      "block_27 31\n",
      "block_108 32\n",
      "block_76 33\n",
      "block_1 34\n",
      "block_3 35\n",
      "block_56 36\n",
      "block_94 37\n",
      "block_72 38\n",
      "block_75 39\n",
      "block_78 40\n",
      "block_62 41\n",
      "block_101 42\n",
      "block_46 43\n",
      "block_110 44\n",
      "block_32 45\n",
      "block_51 46\n",
      "block_45 47\n",
      "block_59 48\n",
      "block_40 49\n",
      "block_15 50\n",
      "block_95 51\n",
      "block_96 52\n",
      "block_5 53\n",
      "block_68 54\n",
      "block_28 55\n",
      "block_97 56\n",
      "block_82 57\n",
      "block_69 58\n",
      "block_70 59\n",
      "block_61 60\n",
      "block_24 61\n",
      "block_33 62\n",
      "block_23 63\n",
      "block_31 64\n",
      "block_67 65\n",
      "block_0 66\n",
      "block_14 67\n",
      "block_41 68\n",
      "block_100 69\n",
      "block_22 70\n",
      "block_109 71\n",
      "block_83 72\n",
      "block_30 73\n",
      "block_88 74\n",
      "block_98 75\n",
      "block_106 76\n",
      "block_37 77\n",
      "block_10 78\n",
      "block_80 79\n",
      "block_103 80\n",
      "block_55 81\n",
      "block_73 82\n",
      "block_111 83\n",
      "block_86 84\n",
      "block_63 85\n",
      "block_105 86\n",
      "block_9 87\n",
      "block_92 88\n",
      "block_11 89\n",
      "block_54 90\n",
      "block_107 91\n",
      "block_6 92\n",
      "block_2 93\n",
      "block_66 94\n",
      "block_7 95\n",
      "block_25 96\n",
      "block_74 97\n",
      "block_87 98\n",
      "block_60 99\n",
      "block_57 100\n",
      "block_79 101\n",
      "block_16 102\n",
      "block_102 103\n",
      "block_13 104\n",
      "block_34 105\n",
      "block_58 106\n",
      "block_50 107\n",
      "block_17 108\n",
      "block_81 109\n",
      "block_90 110\n",
      "block_65 111\n"
     ]
    }
   ],
   "source": [
    "flag = 0\n",
    "df_full = []\n",
    "df_file = household_mini.select(\"file\").distinct()\n",
    "# exprs = {x: \"avg\" for x in new_column_list}\n",
    "exprs1 = [avg(x) for x in column_list[0:40]]\n",
    "exprs2 = [avg(x) for x in column_list[40:48]]        #due to the fact large number of column giving error so divide\n",
    "count = 0\n",
    "for row in df_file.rdd.collect():\n",
    "    file = row.file\n",
    "    print(file,count)\n",
    "    count += 1\n",
    "    file_path = base_path + \"hhblock_dataset/\"+ file+\".csv\"\n",
    "    half_hourly_consumption_data = sqlcontext.read.csv(file_path,header=True,inferSchema=True).cache()\n",
    "    half_hourly_consumption_data.dropna(how='any')\n",
    "    #half_hourly_consumption_data2 = half_hourly_consumption_data.groupBy('LCLid').agg(*exprs2)\n",
    "    #half_hourly_consumption_data = half_hourly_consumption_data.groupBy('LCLid').agg(*exprs1)\n",
    "    #half_hourly_consumption_data = half_hourly_consumption_data.join(half_hourly_consumption_data2,[\"LCLid\"])\n",
    "    #half_hourly_consumption_data.dropna(how='any')\n",
    "    #half_hourly_consumption_data.printSchema()\n",
    "    if flag == 0:\n",
    "        df_full = sqlcontext.createDataFrame([],half_hourly_consumption_data.schema)\n",
    "        flag = 1\n",
    "    df_full = df_full.union(half_hourly_consumption_data)\n",
    "    df_full = df_full.cache()"
   ]
  },
  {
   "cell_type": "code",
   "execution_count": 9,
   "metadata": {},
   "outputs": [
    {
     "name": "stdout",
     "output_type": "stream",
     "text": [
      "root\n",
      " |-- LCLid: string (nullable = true)\n",
      " |-- day: timestamp (nullable = true)\n",
      " |-- hh_0: double (nullable = true)\n",
      " |-- hh_1: double (nullable = true)\n",
      " |-- hh_2: double (nullable = true)\n",
      " |-- hh_3: double (nullable = true)\n",
      " |-- hh_4: double (nullable = true)\n",
      " |-- hh_5: double (nullable = true)\n",
      " |-- hh_6: double (nullable = true)\n",
      " |-- hh_7: double (nullable = true)\n",
      " |-- hh_8: double (nullable = true)\n",
      " |-- hh_9: double (nullable = true)\n",
      " |-- hh_10: double (nullable = true)\n",
      " |-- hh_11: double (nullable = true)\n",
      " |-- hh_12: double (nullable = true)\n",
      " |-- hh_13: double (nullable = true)\n",
      " |-- hh_14: double (nullable = true)\n",
      " |-- hh_15: double (nullable = true)\n",
      " |-- hh_16: double (nullable = true)\n",
      " |-- hh_17: double (nullable = true)\n",
      " |-- hh_18: double (nullable = true)\n",
      " |-- hh_19: double (nullable = true)\n",
      " |-- hh_20: double (nullable = true)\n",
      " |-- hh_21: double (nullable = true)\n",
      " |-- hh_22: double (nullable = true)\n",
      " |-- hh_23: double (nullable = true)\n",
      " |-- hh_24: double (nullable = true)\n",
      " |-- hh_25: double (nullable = true)\n",
      " |-- hh_26: double (nullable = true)\n",
      " |-- hh_27: double (nullable = true)\n",
      " |-- hh_28: double (nullable = true)\n",
      " |-- hh_29: double (nullable = true)\n",
      " |-- hh_30: double (nullable = true)\n",
      " |-- hh_31: double (nullable = true)\n",
      " |-- hh_32: double (nullable = true)\n",
      " |-- hh_33: double (nullable = true)\n",
      " |-- hh_34: double (nullable = true)\n",
      " |-- hh_35: double (nullable = true)\n",
      " |-- hh_36: double (nullable = true)\n",
      " |-- hh_37: double (nullable = true)\n",
      " |-- hh_38: double (nullable = true)\n",
      " |-- hh_39: double (nullable = true)\n",
      " |-- hh_40: double (nullable = true)\n",
      " |-- hh_41: double (nullable = true)\n",
      " |-- hh_42: double (nullable = true)\n",
      " |-- hh_43: double (nullable = true)\n",
      " |-- hh_44: double (nullable = true)\n",
      " |-- hh_45: double (nullable = true)\n",
      " |-- hh_46: double (nullable = true)\n",
      " |-- hh_47: double (nullable = true)\n",
      "\n"
     ]
    }
   ],
   "source": [
    "#avg_house_data.take(1)\n",
    "df_full.printSchema()"
   ]
  },
  {
   "cell_type": "markdown",
   "metadata": {},
   "source": [
    "## filtering data as per requirement\n",
    "Total user in 2013  5528\n",
    "\n",
    "Total user in 2013 with full evidence  3961\n"
   ]
  },
  {
   "cell_type": "code",
   "execution_count": 10,
   "metadata": {},
   "outputs": [
    {
     "name": "stdout",
     "output_type": "stream",
     "text": [
      "root\n",
      " |-- LCLid: string (nullable = true)\n",
      " |-- day: date (nullable = true)\n",
      " |-- hh_0: double (nullable = true)\n",
      " |-- hh_1: double (nullable = true)\n",
      " |-- hh_2: double (nullable = true)\n",
      " |-- hh_3: double (nullable = true)\n",
      " |-- hh_4: double (nullable = true)\n",
      " |-- hh_5: double (nullable = true)\n",
      " |-- hh_6: double (nullable = true)\n",
      " |-- hh_7: double (nullable = true)\n",
      " |-- hh_8: double (nullable = true)\n",
      " |-- hh_9: double (nullable = true)\n",
      " |-- hh_10: double (nullable = true)\n",
      " |-- hh_11: double (nullable = true)\n",
      " |-- hh_12: double (nullable = true)\n",
      " |-- hh_13: double (nullable = true)\n",
      " |-- hh_14: double (nullable = true)\n",
      " |-- hh_15: double (nullable = true)\n",
      " |-- hh_16: double (nullable = true)\n",
      " |-- hh_17: double (nullable = true)\n",
      " |-- hh_18: double (nullable = true)\n",
      " |-- hh_19: double (nullable = true)\n",
      " |-- hh_20: double (nullable = true)\n",
      " |-- hh_21: double (nullable = true)\n",
      " |-- hh_22: double (nullable = true)\n",
      " |-- hh_23: double (nullable = true)\n",
      " |-- hh_24: double (nullable = true)\n",
      " |-- hh_25: double (nullable = true)\n",
      " |-- hh_26: double (nullable = true)\n",
      " |-- hh_27: double (nullable = true)\n",
      " |-- hh_28: double (nullable = true)\n",
      " |-- hh_29: double (nullable = true)\n",
      " |-- hh_30: double (nullable = true)\n",
      " |-- hh_31: double (nullable = true)\n",
      " |-- hh_32: double (nullable = true)\n",
      " |-- hh_33: double (nullable = true)\n",
      " |-- hh_34: double (nullable = true)\n",
      " |-- hh_35: double (nullable = true)\n",
      " |-- hh_36: double (nullable = true)\n",
      " |-- hh_37: double (nullable = true)\n",
      " |-- hh_38: double (nullable = true)\n",
      " |-- hh_39: double (nullable = true)\n",
      " |-- hh_40: double (nullable = true)\n",
      " |-- hh_41: double (nullable = true)\n",
      " |-- hh_42: double (nullable = true)\n",
      " |-- hh_43: double (nullable = true)\n",
      " |-- hh_44: double (nullable = true)\n",
      " |-- hh_45: double (nullable = true)\n",
      " |-- hh_46: double (nullable = true)\n",
      " |-- hh_47: double (nullable = true)\n",
      "\n"
     ]
    }
   ],
   "source": [
    "df_full = df_full.withColumn(\"day\",df_full[\"day\"].cast(DateType()))\n",
    "df_full.printSchema()"
   ]
  },
  {
   "cell_type": "code",
   "execution_count": 11,
   "metadata": {},
   "outputs": [
    {
     "name": "stdout",
     "output_type": "stream",
     "text": [
      "Total user in 2013  5528\n"
     ]
    }
   ],
   "source": [
    "#df_full = df_full.withColum(\"date\",date_format(df_full[\"date\"],\"yyyy-MM-dd\").cast(Datetype()))\n",
    "df_full = df_full.filter((df_full.day >= date(2013,1,1)) & (df_full.day <= date(2013,12,31)))\n",
    "df_full = df_full.na.drop()\n",
    "print (\"Total user in 2013 \", df_full.select(\"LCLid\").distinct().count())\n",
    "# year_df = df_full.groupBy(\"LCLid\").count()\n",
    "# year_df = year_df.filter(year_df[\"count\"] >= 365 )\n",
    "# print(\"Total user in 2013 with full evidence \", year_df.select(\"LCLid\").distinct().count())"
   ]
  },
  {
   "cell_type": "code",
   "execution_count": 12,
   "metadata": {},
   "outputs": [],
   "source": [
    "# year_df = df_full.groupBy(\"LCLid\").count()\n",
    "# year_df.take(1)\n",
    "# year_df = year_df.filter(year_df[\"count\"] >= 365 )"
   ]
  },
  {
   "cell_type": "code",
   "execution_count": 13,
   "metadata": {},
   "outputs": [
    {
     "data": {
      "text/plain": [
       "[Row(LCLid='MAC000008', day=datetime.date(2013, 1, 1), hh_0=0.244, hh_1=0.245, hh_2=0.263, hh_3=0.261, hh_4=0.255, hh_5=0.27, hh_6=0.25, hh_7=0.255, hh_8=0.321, hh_9=0.319, hh_10=0.289, hh_11=0.28600000000000003, hh_12=0.243, hh_13=0.257, hh_14=0.276, hh_15=0.237, hh_16=0.26899999999999996, hh_17=0.259, hh_18=0.23800000000000002, hh_19=0.27, hh_20=0.354, hh_21=0.226, hh_22=0.213, hh_23=0.19699999999999998, hh_24=0.223, hh_25=0.205, hh_26=0.209, hh_27=0.214, hh_28=0.213, hh_29=0.20600000000000002, hh_30=0.207, hh_31=0.23, hh_32=0.221, hh_33=0.237, hh_34=0.223, hh_35=0.192, hh_36=0.24100000000000002, hh_37=0.226, hh_38=0.209, hh_39=0.23800000000000002, hh_40=0.22399999999999998, hh_41=0.267, hh_42=0.29100000000000004, hh_43=0.264, hh_44=0.27, hh_45=0.233, hh_46=0.243, hh_47=0.23)]"
      ]
     },
     "execution_count": 13,
     "metadata": {},
     "output_type": "execute_result"
    }
   ],
   "source": [
    "half_hourly_consumption_df = df_full#.join(broadcast(year_df),[\"LCLid\"])\n",
    "half_hourly_consumption_df.take(1)"
   ]
  },
  {
   "cell_type": "code",
   "execution_count": 14,
   "metadata": {
    "scrolled": true
   },
   "outputs": [],
   "source": [
    "#flag = 0\n",
    "#avg_house_data = []\n",
    "#block_read = set([])\n",
    "#for row in household_mini.rdd.collect():\n",
    "#    house_id = row.LCLid\n",
    "#    file = row.file\n",
    "#    print(house_id,file)\n",
    "#    file_path = base_path + \"hhblock_dataset/\"+ file+\".csv\"\n",
    "#    if file not in block_read:\n",
    "##         print(\"hi\")\n",
    "#        block_read.add(file)\n",
    "#        half_hourly_consumption_data = sqlcontext.read.csv(file_path,header=True,inferSchema=True)\n",
    "#        half_hourly_consumption_data.dropna(how='any')\n",
    "#        for c,n in zip(column_list,new_column_list):\n",
    "#            half_hourly_consumption_data=half_hourly_consumption_data.withColumnRenamed(c,n)\n",
    "#    indiv_house_data = half_hourly_consumption_data.where(col(\"LCLid\") == house_id)\n",
    "#    indiv_house_data = indiv_house_data.toHandy()\n",
    "#    if indiv_house_data.rdd.isEmpty():\n",
    "#        print(\"Missing Id = {} in file = {}\".format(house_id,file))\n",
    "#        continue\n",
    "#    indiv_house_data = sqlcontext.createDataFrame(indiv_house_data.stratify(['LCLid']).cols[new_column_list].mean().reset_index())\n",
    "#     indiv_house_data.printSchema()\n",
    "#    if flag == 0:\n",
    "#        avg_house_data = sqlcontext.createDataFrame([],indiv_house_data.schema)\n",
    "#        flag = 1\n",
    "#    avg_house_data = avg_house_data.union(indiv_house_data)"
   ]
  },
  {
   "cell_type": "code",
   "execution_count": 15,
   "metadata": {},
   "outputs": [
    {
     "name": "stdout",
     "output_type": "stream",
     "text": [
      "root\n",
      " |-- LCLid: string (nullable = true)\n",
      " |-- avg(hh_0): double (nullable = true)\n",
      " |-- avg(hh_1): double (nullable = true)\n",
      " |-- avg(hh_2): double (nullable = true)\n",
      " |-- avg(hh_3): double (nullable = true)\n",
      " |-- avg(hh_4): double (nullable = true)\n",
      " |-- avg(hh_5): double (nullable = true)\n",
      " |-- avg(hh_6): double (nullable = true)\n",
      " |-- avg(hh_7): double (nullable = true)\n",
      " |-- avg(hh_8): double (nullable = true)\n",
      " |-- avg(hh_9): double (nullable = true)\n",
      " |-- avg(hh_10): double (nullable = true)\n",
      " |-- avg(hh_11): double (nullable = true)\n",
      " |-- avg(hh_12): double (nullable = true)\n",
      " |-- avg(hh_13): double (nullable = true)\n",
      " |-- avg(hh_14): double (nullable = true)\n",
      " |-- avg(hh_15): double (nullable = true)\n",
      " |-- avg(hh_16): double (nullable = true)\n",
      " |-- avg(hh_17): double (nullable = true)\n",
      " |-- avg(hh_18): double (nullable = true)\n",
      " |-- avg(hh_19): double (nullable = true)\n",
      " |-- avg(hh_20): double (nullable = true)\n",
      " |-- avg(hh_21): double (nullable = true)\n",
      " |-- avg(hh_22): double (nullable = true)\n",
      " |-- avg(hh_23): double (nullable = true)\n",
      " |-- avg(hh_24): double (nullable = true)\n",
      " |-- avg(hh_25): double (nullable = true)\n",
      " |-- avg(hh_26): double (nullable = true)\n",
      " |-- avg(hh_27): double (nullable = true)\n",
      " |-- avg(hh_28): double (nullable = true)\n",
      " |-- avg(hh_29): double (nullable = true)\n",
      " |-- avg(hh_30): double (nullable = true)\n",
      " |-- avg(hh_31): double (nullable = true)\n",
      " |-- avg(hh_32): double (nullable = true)\n",
      " |-- avg(hh_33): double (nullable = true)\n",
      " |-- avg(hh_34): double (nullable = true)\n",
      " |-- avg(hh_35): double (nullable = true)\n",
      " |-- avg(hh_36): double (nullable = true)\n",
      " |-- avg(hh_37): double (nullable = true)\n",
      " |-- avg(hh_38): double (nullable = true)\n",
      " |-- avg(hh_39): double (nullable = true)\n",
      " |-- avg(hh_40): double (nullable = true)\n",
      " |-- avg(hh_41): double (nullable = true)\n",
      " |-- avg(hh_42): double (nullable = true)\n",
      " |-- avg(hh_43): double (nullable = true)\n",
      " |-- avg(hh_44): double (nullable = true)\n",
      " |-- avg(hh_45): double (nullable = true)\n",
      " |-- avg(hh_46): double (nullable = true)\n",
      " |-- avg(hh_47): double (nullable = true)\n",
      "\n"
     ]
    }
   ],
   "source": [
    "half_hourly_consumption_data2 = half_hourly_consumption_df.groupBy('LCLid').agg(*exprs2)\n",
    "half_hourly_consumption_data = half_hourly_consumption_df.groupBy('LCLid').agg(*exprs1)\n",
    "avg_house_data = half_hourly_consumption_data.join(half_hourly_consumption_data2,[\"LCLid\"])\n",
    "avg_house_data=avg_house_data.dropna(how='any')\n",
    "avg_house_data.printSchema()\n"
   ]
  },
  {
   "cell_type": "code",
   "execution_count": 16,
   "metadata": {},
   "outputs": [
    {
     "name": "stdout",
     "output_type": "stream",
     "text": [
      "root\n",
      " |-- LCLid: string (nullable = true)\n",
      " |-- 00.5: double (nullable = true)\n",
      " |-- 01.0: double (nullable = true)\n",
      " |-- 01.5: double (nullable = true)\n",
      " |-- 02.0: double (nullable = true)\n",
      " |-- 02.5: double (nullable = true)\n",
      " |-- 03.0: double (nullable = true)\n",
      " |-- 03.5: double (nullable = true)\n",
      " |-- 04.0: double (nullable = true)\n",
      " |-- 04.5: double (nullable = true)\n",
      " |-- 05.0: double (nullable = true)\n",
      " |-- 05.5: double (nullable = true)\n",
      " |-- 06.0: double (nullable = true)\n",
      " |-- 06.5: double (nullable = true)\n",
      " |-- 07.0: double (nullable = true)\n",
      " |-- 07.5: double (nullable = true)\n",
      " |-- 08.0: double (nullable = true)\n",
      " |-- 08.5: double (nullable = true)\n",
      " |-- 09.0: double (nullable = true)\n",
      " |-- 09.5: double (nullable = true)\n",
      " |-- 10.0: double (nullable = true)\n",
      " |-- 10.5: double (nullable = true)\n",
      " |-- 11.0: double (nullable = true)\n",
      " |-- 11.5: double (nullable = true)\n",
      " |-- 12.0: double (nullable = true)\n",
      " |-- 12.5: double (nullable = true)\n",
      " |-- 13.0: double (nullable = true)\n",
      " |-- 13.5: double (nullable = true)\n",
      " |-- 14.0: double (nullable = true)\n",
      " |-- 14.5: double (nullable = true)\n",
      " |-- 15.0: double (nullable = true)\n",
      " |-- 15.5: double (nullable = true)\n",
      " |-- 16.0: double (nullable = true)\n",
      " |-- 16.5: double (nullable = true)\n",
      " |-- 17.0: double (nullable = true)\n",
      " |-- 17.5: double (nullable = true)\n",
      " |-- 18.0: double (nullable = true)\n",
      " |-- 18.5: double (nullable = true)\n",
      " |-- 19.0: double (nullable = true)\n",
      " |-- 19.5: double (nullable = true)\n",
      " |-- 20.0: double (nullable = true)\n",
      " |-- 20.5: double (nullable = true)\n",
      " |-- 21.0: double (nullable = true)\n",
      " |-- 21.5: double (nullable = true)\n",
      " |-- 22.0: double (nullable = true)\n",
      " |-- 22.5: double (nullable = true)\n",
      " |-- 23.0: double (nullable = true)\n",
      " |-- 23.5: double (nullable = true)\n",
      " |-- 24.0: double (nullable = true)\n",
      "\n"
     ]
    }
   ],
   "source": [
    "for c,n in zip(avg_house_data.columns[1:],new_column_list):\n",
    "    avg_house_data=avg_house_data.withColumnRenamed(c,n)\n",
    "avg_house_data.printSchema()"
   ]
  },
  {
   "cell_type": "code",
   "execution_count": 17,
   "metadata": {
    "scrolled": false
   },
   "outputs": [],
   "source": [
    "avg_house_data = avg_house_data.toPandas()"
   ]
  },
  {
   "cell_type": "code",
   "execution_count": 18,
   "metadata": {
    "scrolled": true
   },
   "outputs": [
    {
     "data": {
      "text/plain": [
       "(5528, 49)"
      ]
     },
     "execution_count": 18,
     "metadata": {},
     "output_type": "execute_result"
    }
   ],
   "source": [
    "# pd.options.display.max_columns = None\n",
    "avg_house_data.shape"
   ]
  },
  {
   "cell_type": "code",
   "execution_count": 19,
   "metadata": {},
   "outputs": [
    {
     "data": {
      "image/png": "[encoded data removed]",
      "text/plain": [
       "<Figure size 936x576 with 1 Axes>"
      ]
     },
     "metadata": {
      "needs_background": "light"
     },
     "output_type": "display_data"
    }
   ],
   "source": [
    "plot = avg_house_data.set_index(\"LCLid\").T.plot(figsize=(13,8), legend=False, color='blue',alpha=0.5)"
   ]
  },
  {
   "cell_type": "code",
   "execution_count": 20,
   "metadata": {},
   "outputs": [],
   "source": [
    "#avg_house_data1 = sqlcontext.createDataFrame(avg_house_data) \n",
    "#avg_house_data1.write.format(\"csv\").save(base_path+\"avg.csv\")"
   ]
  },
  {
   "cell_type": "code",
   "execution_count": 21,
   "metadata": {},
   "outputs": [],
   "source": [
    "plot.get_figure().savefig(base_path+\"../London_Smart_Meter_Load_Forecasting/Avg_LP.png\")"
   ]
  },
  {
   "cell_type": "code",
   "execution_count": 22,
   "metadata": {},
   "outputs": [],
   "source": [
    "avg_house_data.to_csv(base_path+\"avg.csv\", header=True)"
   ]
  },
  {
   "cell_type": "code",
   "execution_count": null,
   "metadata": {},
   "outputs": [],
   "source": []
  }
 ],
 "metadata": {
  "kernelspec": {
   "display_name": "Python 3",
   "language": "python",
   "name": "python3"
  },
  "language_info": {
   "codemirror_mode": {
    "name": "ipython",
    "version": 3
   },
   "file_extension": ".py",
   "mimetype": "text/x-python",
   "name": "python",
   "nbconvert_exporter": "python",
   "pygments_lexer": "ipython3",
   "version": "3.5.2+"
  }
 },
 "nbformat": 4,
 "nbformat_minor": 2
}
