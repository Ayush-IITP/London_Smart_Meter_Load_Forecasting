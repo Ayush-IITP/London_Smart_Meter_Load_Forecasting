{
 "cells": [
  {
   "cell_type": "code",
   "execution_count": 1,
   "metadata": {},
   "outputs": [],
   "source": [
    "from pyspark.sql import SQLContext\n",
    "from pyspark.sql import functions as sf\n",
    "from pyspark.ml.feature import OneHotEncoder\n",
    "from pyspark.ml.feature import VectorAssembler\n",
    "from pyspark.sql.types import DateType\n",
    "from datetime import date, timedelta\n",
    "import datetime as dt\n",
    "from pyspark.ml.tuning import ParamGridBuilder, TrainValidationSplit\n",
    "from pyspark.ml.regression import RandomForestRegressor\n",
    "from pyspark.ml.evaluation import RegressionEvaluator\n",
    "from pyspark.ml.regression import GBTRegressor\n",
    "from pyspark.sql.functions import col, avg, sum\n",
    "import numpy as np\n",
    "import matplotlib.dates as mdates\n",
    "from matplotlib import pyplot as plt\n",
    "import pandas as pd\n",
    "import pyspark"
   ]
  },
  {
   "cell_type": "code",
   "execution_count": 2,
   "metadata": {},
   "outputs": [],
   "source": [
    "log4jLogger = sc._jvm.org.apache.log4j\n",
    "LOGGER = log4jLogger.LogManager.getLogger(__name__)\n",
    "LOGGER.error(\"pyspark script logger initialized\")"
   ]
  },
  {
   "cell_type": "code",
   "execution_count": 3,
   "metadata": {},
   "outputs": [
    {
     "data": {
      "text/html": [
       "\n",
       "        <div>\n",
       "            <p><b>SparkContext</b></p>\n",
       "\n",
       "            <p><a href=\"http://master:4040\">Spark UI</a></p>\n",
       "\n",
       "            <dl>\n",
       "              <dt>Version</dt>\n",
       "                <dd><code>v2.4.0</code></dd>\n",
       "              <dt>Master</dt>\n",
       "                <dd><code>spark://172.16.27.208:7077</code></dd>\n",
       "              <dt>AppName</dt>\n",
       "                <dd><code>spark</code></dd>\n",
       "            </dl>\n",
       "        </div>\n",
       "        "
      ],
      "text/plain": [
       "<SparkContext master=spark://172.16.27.208:7077 appName=spark>"
      ]
     },
     "execution_count": 3,
     "metadata": {},
     "output_type": "execute_result"
    }
   ],
   "source": [
    "sc.stop()\n",
    "sc = pyspark.SparkContext(master=\"spark://172.16.27.208:7077\",appName=\"spark\")\n",
    "sc"
   ]
  },
  {
   "cell_type": "code",
   "execution_count": 4,
   "metadata": {},
   "outputs": [],
   "source": [
    "base_path = \"/home/test5/Desktop/smart-meters-in-london/\"\n",
    "sqlcontext = SQLContext(sc)"
   ]
  },
  {
   "cell_type": "code",
   "execution_count": 5,
   "metadata": {
    "scrolled": true
   },
   "outputs": [
    {
     "name": "stdout",
     "output_type": "stream",
     "text": [
      "root\n",
      " |-- _c0: integer (nullable = true)\n",
      " |-- cluster_id: integer (nullable = true)\n",
      " |-- date: timestamp (nullable = true)\n",
      " |-- hour: integer (nullable = true)\n",
      " |-- energy(kWh/h): double (nullable = true)\n",
      " |-- month: integer (nullable = true)\n",
      " |-- weekDay: string (nullable = true)\n",
      " |-- 1_diff_energy_t_0: double (nullable = true)\n",
      " |-- 2_diff_energy_t_0: double (nullable = true)\n",
      " |-- 3_diff_energy_t_0: double (nullable = true)\n",
      " |-- 4_diff_energy_t_0: double (nullable = true)\n",
      " |-- 5_diff_energy_t_0: double (nullable = true)\n",
      " |-- 6_diff_energy_t_0: double (nullable = true)\n",
      " |-- 7_diff_energy_t_0: double (nullable = true)\n",
      " |-- 1_diff_energy_t_1: double (nullable = true)\n",
      " |-- 2_diff_energy_t_1: double (nullable = true)\n",
      " |-- 3_diff_energy_t_1: double (nullable = true)\n",
      " |-- 4_diff_energy_t_1: double (nullable = true)\n",
      " |-- 5_diff_energy_t_1: double (nullable = true)\n",
      " |-- 6_diff_energy_t_1: double (nullable = true)\n",
      " |-- 7_diff_energy_t_1: double (nullable = true)\n",
      " |-- 1_diff_energy_t_2: double (nullable = true)\n",
      " |-- 2_diff_energy_t_2: double (nullable = true)\n",
      " |-- 3_diff_energy_t_2: double (nullable = true)\n",
      " |-- 4_diff_energy_t_2: double (nullable = true)\n",
      " |-- 5_diff_energy_t_2: double (nullable = true)\n",
      " |-- 6_diff_energy_t_2: double (nullable = true)\n",
      " |-- 7_diff_energy_t_2: double (nullable = true)\n",
      " |-- diff_energy_week_t_1: double (nullable = true)\n",
      " |-- diff_energy_week_t_2: double (nullable = true)\n",
      " |-- diff_energy_week_t_3: double (nullable = true)\n",
      " |-- diff_energy_week_t_4: double (nullable = true)\n",
      " |-- rnk: integer (nullable = true)\n",
      " |-- mean_1: double (nullable = true)\n",
      " |-- mean_2: double (nullable = true)\n",
      " |-- mean_3: double (nullable = true)\n",
      " |-- mean_4: double (nullable = true)\n",
      " |-- mean_5: double (nullable = true)\n",
      " |-- mean_6: double (nullable = true)\n",
      " |-- mean_7: double (nullable = true)\n",
      " |-- min_1: double (nullable = true)\n",
      " |-- max_1: double (nullable = true)\n",
      " |-- min_2: double (nullable = true)\n",
      " |-- max_2: double (nullable = true)\n",
      " |-- min_3: double (nullable = true)\n",
      " |-- max_3: double (nullable = true)\n",
      " |-- min_4: double (nullable = true)\n",
      " |-- max_4: double (nullable = true)\n",
      " |-- min_5: double (nullable = true)\n",
      " |-- max_5: double (nullable = true)\n",
      " |-- min_6: double (nullable = true)\n",
      " |-- max_6: double (nullable = true)\n",
      " |-- min_7: double (nullable = true)\n",
      " |-- max_7: double (nullable = true)\n",
      " |-- visibility: double (nullable = true)\n",
      " |-- windBearing: integer (nullable = true)\n",
      " |-- dewPoint: double (nullable = true)\n",
      " |-- pressure: double (nullable = true)\n",
      " |-- apparentTemperature: double (nullable = true)\n",
      " |-- windSpeed: double (nullable = true)\n",
      " |-- precipType: string (nullable = true)\n",
      " |-- humidity: double (nullable = true)\n",
      " |-- summary: string (nullable = true)\n",
      " |-- date2: timestamp (nullable = true)\n",
      " |-- temperatureMax: double (nullable = true)\n",
      " |-- temperatureMin: double (nullable = true)\n",
      " |-- holiday: integer (nullable = true)\n",
      " |-- Weekday/end: integer (nullable = true)\n",
      " |-- weekDay_index: double (nullable = true)\n",
      " |-- precipType_index: double (nullable = true)\n",
      " |-- summary_index: double (nullable = true)\n",
      "\n"
     ]
    },
    {
     "data": {
      "text/plain": [
       "pyspark.sql.dataframe.DataFrame"
      ]
     },
     "execution_count": 5,
     "metadata": {},
     "output_type": "execute_result"
    }
   ],
   "source": [
    "cluster_feature = sqlcontext.read.csv(path=base_path+\"bk=8_means_Feature.csv\",header=True,inferSchema=True)\n",
    "# cluster_feature = cluster_feature.drop(\"_c0\",\"date2\")\n",
    "# cluster_feature = cluster_feature.withColumn(\"windSpeed\",cluster_feature[\"windSpeed\"].cast(\"float\"))\n",
    "# cluster_feature = cluster_feature.withColumn(\"dewPoint\",cluster_feature[\"dewPoint\"].cast(\"float\"))\n",
    "cluster_feature.printSchema()\n",
    "type(cluster_feature)"
   ]
  },
  {
   "cell_type": "code",
   "execution_count": 6,
   "metadata": {},
   "outputs": [
    {
     "data": {
      "text/plain": [
       "[Row(cluster_id=1, date=datetime.datetime(2013, 1, 1, 0, 0), hour=0, energy(kWh/h)=265.413, weekDay='Tue', 1_diff_energy_t_0=230.108, 2_diff_energy_t_0=242.838, 3_diff_energy_t_0=239.363, 4_diff_energy_t_0=231.928, 5_diff_energy_t_0=230.906, 6_diff_energy_t_0=236.636, 7_diff_energy_t_0=235.955, 1_diff_energy_t_1=278.6, 2_diff_energy_t_1=282.455, 3_diff_energy_t_1=289.14, 4_diff_energy_t_1=281.541, 5_diff_energy_t_1=268.213, 6_diff_energy_t_1=272.572, 7_diff_energy_t_1=277.427, 1_diff_energy_t_2=346.241, 2_diff_energy_t_2=334.529, 3_diff_energy_t_2=342.058, 4_diff_energy_t_2=342.666, 5_diff_energy_t_2=326.166, 6_diff_energy_t_2=304.912, 7_diff_energy_t_2=333.314, diff_energy_week_t_2=217.882, diff_energy_week_t_3=218.23, diff_energy_week_t_4=212.166, rnk=32, mean_1=283.6334583333333, mean_2=283.55745833333333, mean_3=283.9150833333333, mean_4=279.71179166666667, mean_5=276.9005, mean_6=269.6797916666667, mean_7=286.57225, min_1=136.298, max_1=468.535, min_2=133.018, max_2=438.373, min_3=130.779, max_3=461.318, min_4=132.471, max_4=443.296, min_5=129.196, max_5=438.833, min_6=132.342, max_6=392.676, min_7=134.089, max_7=407.235, visibility=13.28, windBearing=269, dewPoint=2.6, pressure=1008.19, apparentTemperature=3.66, windSpeed=5.46, precipType='rain', humidity=0.73, summary='Partly Cloudy', temperatureMax=7.49, temperatureMin=3.31, weekDay_index=5.0, precipType_index=0.0, summary_index=2.0, holiday=1)]"
      ]
     },
     "execution_count": 6,
     "metadata": {},
     "output_type": "execute_result"
    }
   ],
   "source": [
    "cluster_feature = cluster_feature.withColumn(\"holiday1\",sf.when((col(\"Weekday/end\")==1) | (col(\"holiday\")==1),1).otherwise(0))\n",
    "cluster_feature = cluster_feature.drop(\"_c0\",\"diff_energy_week_t_1\",\"date2\",\"holiday\",\"month\",\"Weekday/end\")\n",
    "cluster_feature = cluster_feature.withColumnRenamed(\"holiday1\",\"holiday\")\n",
    "cluster_feature.take(1)"
   ]
  },
  {
   "cell_type": "code",
   "execution_count": 7,
   "metadata": {},
   "outputs": [
    {
     "name": "stdout",
     "output_type": "stream",
     "text": [
      "root\n",
      " |-- cluster_id: integer (nullable = true)\n",
      " |-- date: timestamp (nullable = true)\n",
      " |-- hour: integer (nullable = true)\n",
      " |-- energy(kWh/h): double (nullable = true)\n",
      " |-- weekDay: string (nullable = true)\n",
      " |-- 1_diff_energy_t_0: double (nullable = true)\n",
      " |-- 2_diff_energy_t_0: double (nullable = true)\n",
      " |-- 3_diff_energy_t_0: double (nullable = true)\n",
      " |-- 4_diff_energy_t_0: double (nullable = true)\n",
      " |-- 5_diff_energy_t_0: double (nullable = true)\n",
      " |-- 6_diff_energy_t_0: double (nullable = true)\n",
      " |-- 7_diff_energy_t_0: double (nullable = true)\n",
      " |-- 1_diff_energy_t_1: double (nullable = true)\n",
      " |-- 2_diff_energy_t_1: double (nullable = true)\n",
      " |-- 3_diff_energy_t_1: double (nullable = true)\n",
      " |-- 4_diff_energy_t_1: double (nullable = true)\n",
      " |-- 5_diff_energy_t_1: double (nullable = true)\n",
      " |-- 6_diff_energy_t_1: double (nullable = true)\n",
      " |-- 7_diff_energy_t_1: double (nullable = true)\n",
      " |-- 1_diff_energy_t_2: double (nullable = true)\n",
      " |-- 2_diff_energy_t_2: double (nullable = true)\n",
      " |-- 3_diff_energy_t_2: double (nullable = true)\n",
      " |-- 4_diff_energy_t_2: double (nullable = true)\n",
      " |-- 5_diff_energy_t_2: double (nullable = true)\n",
      " |-- 6_diff_energy_t_2: double (nullable = true)\n",
      " |-- 7_diff_energy_t_2: double (nullable = true)\n",
      " |-- diff_energy_week_t_2: double (nullable = true)\n",
      " |-- diff_energy_week_t_3: double (nullable = true)\n",
      " |-- diff_energy_week_t_4: double (nullable = true)\n",
      " |-- mean_1: double (nullable = true)\n",
      " |-- mean_2: double (nullable = true)\n",
      " |-- mean_3: double (nullable = true)\n",
      " |-- mean_4: double (nullable = true)\n",
      " |-- mean_5: double (nullable = true)\n",
      " |-- mean_6: double (nullable = true)\n",
      " |-- mean_7: double (nullable = true)\n",
      " |-- min_1: double (nullable = true)\n",
      " |-- max_1: double (nullable = true)\n",
      " |-- min_2: double (nullable = true)\n",
      " |-- max_2: double (nullable = true)\n",
      " |-- min_3: double (nullable = true)\n",
      " |-- max_3: double (nullable = true)\n",
      " |-- min_4: double (nullable = true)\n",
      " |-- max_4: double (nullable = true)\n",
      " |-- min_5: double (nullable = true)\n",
      " |-- max_5: double (nullable = true)\n",
      " |-- min_6: double (nullable = true)\n",
      " |-- max_6: double (nullable = true)\n",
      " |-- min_7: double (nullable = true)\n",
      " |-- max_7: double (nullable = true)\n",
      " |-- visibility: double (nullable = true)\n",
      " |-- windBearing: integer (nullable = true)\n",
      " |-- dewPoint: double (nullable = true)\n",
      " |-- pressure: double (nullable = true)\n",
      " |-- apparentTemperature: double (nullable = true)\n",
      " |-- windSpeed: double (nullable = true)\n",
      " |-- precipType: string (nullable = true)\n",
      " |-- humidity: double (nullable = true)\n",
      " |-- summary: string (nullable = true)\n",
      " |-- temperatureMax: double (nullable = true)\n",
      " |-- temperatureMin: double (nullable = true)\n",
      " |-- weekDay_index: double (nullable = true)\n",
      " |-- precipType_index: double (nullable = true)\n",
      " |-- summary_index: double (nullable = true)\n",
      " |-- holiday: integer (nullable = false)\n",
      " |-- category_weekDay_index: vector (nullable = true)\n",
      " |-- category_precipType_index: vector (nullable = true)\n",
      " |-- category_summary_index: vector (nullable = true)\n",
      "\n"
     ]
    }
   ],
   "source": [
    "outputCols = [\"weekDay_index\",\"precipType_index\",\"summary_index\"]\n",
    "df_encoded = cluster_feature\n",
    "df_encoded = df_encoded.na.drop()\n",
    "for col in outputCols: \n",
    "    encoder = OneHotEncoder(inputCol=col, outputCol=\"category_{}\".format(col))\n",
    "    df_encoded = encoder.transform(df_encoded).cache()\n",
    "df_encoded = df_encoded.drop(\"rnk\")\n",
    "df_encoded.printSchema()\n"
   ]
  },
  {
   "cell_type": "code",
   "execution_count": 8,
   "metadata": {},
   "outputs": [
    {
     "data": {
      "text/plain": [
       "59"
      ]
     },
     "execution_count": 8,
     "metadata": {},
     "output_type": "execute_result"
    }
   ],
   "source": [
    "inputCols = [\"weekDay\",\"precipType\",\"summary\",]\n",
    "columns = df_encoded.columns\n",
    "feature_col = columns[4:]\n",
    "feature_col.append(columns[2])\n",
    "feature_col = set(feature_col) - set(inputCols)\n",
    "feature_col = feature_col - set(outputCols)\n",
    "feature_col = list(feature_col)\n",
    "df_encoded = df_encoded.na.drop()\n",
    "len(feature_col)"
   ]
  },
  {
   "cell_type": "code",
   "execution_count": 9,
   "metadata": {},
   "outputs": [
    {
     "data": {
      "text/plain": [
       "[Row(cluster_id=1, date=datetime.datetime(2013, 1, 1, 0, 0), hour=0, energy(kWh/h)=265.413, weekDay='Tue', 1_diff_energy_t_0=230.108, 2_diff_energy_t_0=242.838, 3_diff_energy_t_0=239.363, 4_diff_energy_t_0=231.928, 5_diff_energy_t_0=230.906, 6_diff_energy_t_0=236.636, 7_diff_energy_t_0=235.955, 1_diff_energy_t_1=278.6, 2_diff_energy_t_1=282.455, 3_diff_energy_t_1=289.14, 4_diff_energy_t_1=281.541, 5_diff_energy_t_1=268.213, 6_diff_energy_t_1=272.572, 7_diff_energy_t_1=277.427, 1_diff_energy_t_2=346.241, 2_diff_energy_t_2=334.529, 3_diff_energy_t_2=342.058, 4_diff_energy_t_2=342.666, 5_diff_energy_t_2=326.166, 6_diff_energy_t_2=304.912, 7_diff_energy_t_2=333.314, diff_energy_week_t_2=217.882, diff_energy_week_t_3=218.23, diff_energy_week_t_4=212.166, mean_1=283.6334583333333, mean_2=283.55745833333333, mean_3=283.9150833333333, mean_4=279.71179166666667, mean_5=276.9005, mean_6=269.6797916666667, mean_7=286.57225, min_1=136.298, max_1=468.535, min_2=133.018, max_2=438.373, min_3=130.779, max_3=461.318, min_4=132.471, max_4=443.296, min_5=129.196, max_5=438.833, min_6=132.342, max_6=392.676, min_7=134.089, max_7=407.235, visibility=13.28, windBearing=269, dewPoint=2.6, pressure=1008.19, apparentTemperature=3.66, windSpeed=5.46, precipType='rain', humidity=0.73, summary='Partly Cloudy', temperatureMax=7.49, temperatureMin=3.31, weekDay_index=5.0, precipType_index=0.0, summary_index=2.0, holiday=1, category_weekDay_index=SparseVector(6, {5: 1.0}), category_precipType_index=SparseVector(1, {0: 1.0}), category_summary_index=SparseVector(11, {2: 1.0}), features=DenseVector([0.73, 0.0, 0.0, 0.0, 0.0, 0.0, 1.0, 134.089, 461.318, 443.296, 5.46, 1008.19, 268.213, 333.314, 212.166, 283.6335, 392.676, 346.241, 239.363, 468.535, 132.342, 342.058, 279.7118, 0.0, 230.906, 283.5575, 136.298, 1.0, 231.928, 236.636, 130.779, 0.0, 0.0, 1.0, 0.0, 0.0, 0.0, 0.0, 0.0, 0.0, 0.0, 0.0, 133.018, 342.666, 283.9151, 217.882, 3.31, 276.9005, 218.23, 277.427, 13.28, 334.529, 278.6, 269.0, 235.955, 129.196, 269.6798, 407.235, 2.6, 289.14, 272.572, 286.5722, 132.471, 242.838, 230.108, 438.373, 3.66, 326.166, 7.49, 1.0, 281.541, 438.833, 304.912, 282.455]))]"
      ]
     },
     "execution_count": 9,
     "metadata": {},
     "output_type": "execute_result"
    }
   ],
   "source": [
    "vecAssembler = VectorAssembler(inputCols=feature_col, outputCol=\"features\")\n",
    "df_feature = vecAssembler.transform(df_encoded)\n",
    "df_feature.take(1)"
   ]
  },
  {
   "cell_type": "code",
   "execution_count": 10,
   "metadata": {
    "scrolled": true
   },
   "outputs": [
    {
     "name": "stdout",
     "output_type": "stream",
     "text": [
      "root\n",
      " |-- cluster_id: integer (nullable = true)\n",
      " |-- date: date (nullable = true)\n",
      " |-- hour: integer (nullable = true)\n",
      " |-- label: double (nullable = true)\n",
      " |-- weekDay: string (nullable = true)\n",
      " |-- 1_diff_energy_t_0: double (nullable = true)\n",
      " |-- 2_diff_energy_t_0: double (nullable = true)\n",
      " |-- 3_diff_energy_t_0: double (nullable = true)\n",
      " |-- 4_diff_energy_t_0: double (nullable = true)\n",
      " |-- 5_diff_energy_t_0: double (nullable = true)\n",
      " |-- 6_diff_energy_t_0: double (nullable = true)\n",
      " |-- 7_diff_energy_t_0: double (nullable = true)\n",
      " |-- 1_diff_energy_t_1: double (nullable = true)\n",
      " |-- 2_diff_energy_t_1: double (nullable = true)\n",
      " |-- 3_diff_energy_t_1: double (nullable = true)\n",
      " |-- 4_diff_energy_t_1: double (nullable = true)\n",
      " |-- 5_diff_energy_t_1: double (nullable = true)\n",
      " |-- 6_diff_energy_t_1: double (nullable = true)\n",
      " |-- 7_diff_energy_t_1: double (nullable = true)\n",
      " |-- 1_diff_energy_t_2: double (nullable = true)\n",
      " |-- 2_diff_energy_t_2: double (nullable = true)\n",
      " |-- 3_diff_energy_t_2: double (nullable = true)\n",
      " |-- 4_diff_energy_t_2: double (nullable = true)\n",
      " |-- 5_diff_energy_t_2: double (nullable = true)\n",
      " |-- 6_diff_energy_t_2: double (nullable = true)\n",
      " |-- 7_diff_energy_t_2: double (nullable = true)\n",
      " |-- diff_energy_week_t_2: double (nullable = true)\n",
      " |-- diff_energy_week_t_3: double (nullable = true)\n",
      " |-- diff_energy_week_t_4: double (nullable = true)\n",
      " |-- mean_1: double (nullable = true)\n",
      " |-- mean_2: double (nullable = true)\n",
      " |-- mean_3: double (nullable = true)\n",
      " |-- mean_4: double (nullable = true)\n",
      " |-- mean_5: double (nullable = true)\n",
      " |-- mean_6: double (nullable = true)\n",
      " |-- mean_7: double (nullable = true)\n",
      " |-- min_1: double (nullable = true)\n",
      " |-- max_1: double (nullable = true)\n",
      " |-- min_2: double (nullable = true)\n",
      " |-- max_2: double (nullable = true)\n",
      " |-- min_3: double (nullable = true)\n",
      " |-- max_3: double (nullable = true)\n",
      " |-- min_4: double (nullable = true)\n",
      " |-- max_4: double (nullable = true)\n",
      " |-- min_5: double (nullable = true)\n",
      " |-- max_5: double (nullable = true)\n",
      " |-- min_6: double (nullable = true)\n",
      " |-- max_6: double (nullable = true)\n",
      " |-- min_7: double (nullable = true)\n",
      " |-- max_7: double (nullable = true)\n",
      " |-- visibility: double (nullable = true)\n",
      " |-- windBearing: integer (nullable = true)\n",
      " |-- dewPoint: double (nullable = true)\n",
      " |-- pressure: double (nullable = true)\n",
      " |-- apparentTemperature: double (nullable = true)\n",
      " |-- windSpeed: double (nullable = true)\n",
      " |-- precipType: string (nullable = true)\n",
      " |-- humidity: double (nullable = true)\n",
      " |-- summary: string (nullable = true)\n",
      " |-- temperatureMax: double (nullable = true)\n",
      " |-- temperatureMin: double (nullable = true)\n",
      " |-- weekDay_index: double (nullable = true)\n",
      " |-- precipType_index: double (nullable = true)\n",
      " |-- summary_index: double (nullable = true)\n",
      " |-- holiday: integer (nullable = false)\n",
      " |-- category_weekDay_index: vector (nullable = true)\n",
      " |-- category_precipType_index: vector (nullable = true)\n",
      " |-- category_summary_index: vector (nullable = true)\n",
      " |-- features: vector (nullable = true)\n",
      "\n"
     ]
    }
   ],
   "source": [
    "df_feature = df_feature.withColumnRenamed(\"energy(kWh/h)\",\"label\")\n",
    "df_feature = df_feature.withColumn(\"date\",df_feature[\"date\"].cast(DateType()))\n",
    "df_feature.printSchema()"
   ]
  },
  {
   "cell_type": "markdown",
   "metadata": {},
   "source": [
    "##  actual and Predicted for given day"
   ]
  },
  {
   "cell_type": "code",
   "execution_count": 11,
   "metadata": {},
   "outputs": [],
   "source": [
    "def get_aggregate(df):\n",
    "    list = [\"date\",\"hour\"]\n",
    "    df = df.groupBy(list).agg(sum(\"label\"),sum(\"prediction\"))    \n",
    "    return df\n",
    "\n",
    "def select_predicted_actual(df,date,LCLid=None):\n",
    "    list = []\n",
    "    if LCLid != None:\n",
    "        list = df.where((df[\"LCLid\"] == LCLid) & (df[\"date\"] == date)).select(\"label\",\"prediction\").collect()\n",
    "    else:\n",
    "        list = df.where((df[\"date\"] == date)).select(\"label\",\"prediction\").collect()\n",
    "    actual = [int(row['label']) for row in list]\n",
    "    predicted = [int(row['prediction']) for row in list]\n",
    "    return actual,predicted\n",
    "\n",
    "def mean_absolute_percentage_error(y_true, y_pred): \n",
    "    y_true, y_pred = np.array(y_true), np.array(y_pred)\n",
    "    return np.mean(np.abs((y_true - y_pred) / y_true)) * 100\n",
    "\n",
    "def symmetric_mean_absolute_percentage_error(y_true, y_pred): \n",
    "    y_true, y_pred = np.array(y_true), np.array(y_pred)\n",
    "    return np.mean(np.abs((y_true - y_pred) / (y_true+y_pred))) * 200\n",
    "\n",
    "def root_mean_squared_error(y_true, y_pred): \n",
    "    y_true, y_pred = np.array(y_true), np.array(y_pred)\n",
    "    return np.sqrt(np.mean(np.abs((y_true - y_pred)**2)))"
   ]
  },
  {
   "cell_type": "markdown",
   "metadata": {},
   "source": [
    "# Train-Test Split"
   ]
  },
  {
   "cell_type": "code",
   "execution_count": 12,
   "metadata": {
    "scrolled": true
   },
   "outputs": [
    {
     "name": "stdout",
     "output_type": "stream",
     "text": [
      "Train_point = 7288, Test_point = 1464, cId = 0\n",
      "Train_point = 7288, Test_point = 1464, cId = 1\n",
      "Train_point = 7288, Test_point = 1464, cId = 2\n",
      "Train_point = 7288, Test_point = 1464, cId = 3\n",
      "Train_point = 7288, Test_point = 1464, cId = 4\n",
      "Train_point = 7288, Test_point = 1464, cId = 5\n",
      "Train_point = 7288, Test_point = 1464, cId = 6\n",
      "Train_point = 7288, Test_point = 1464, cId = 7\n"
     ]
    }
   ],
   "source": [
    "train_df_cluster = []\n",
    "test_df_cluster = []\n",
    "num_of_cluster = 8\n",
    "for cluster_id in range(num_of_cluster):\n",
    "    train_df = df_feature.where((df_feature[\"cluster_id\"] == cluster_id) & (df_feature[\"date\"] <= date(2013,10,31)))\n",
    "    test_df = df_feature.where((df_feature[\"cluster_id\"] == cluster_id) & (df_feature[\"date\"] > date(2013,10,31)))# & (df_feature[\"date\"] <= date(2013,1,2)))\n",
    "    print(\"Train_point = {}, Test_point = {}, cId = {}\".format(train_df.count(),test_df.count(),cluster_id))\n",
    "    train_df_cluster.append(train_df)\n",
    "    test_df_cluster.append(test_df)"
   ]
  },
  {
   "cell_type": "markdown",
   "metadata": {},
   "source": [
    "## Random Forest"
   ]
  },
  {
   "cell_type": "code",
   "execution_count": 14,
   "metadata": {},
   "outputs": [],
   "source": [
    "pred_val = []\n",
    "flag = 0\n",
    "for cluster_id in range(num_of_cluster):\n",
    "    rf = RandomForestRegressor(numTrees=20,maxDepth=10,maxBins=128,seed=4)\n",
    "    model = rf.fit(train_df_cluster[cluster_id])\n",
    "    model.save(base_path+\"/Model/rf_bkm/rf_model_bkm_{}\".format(cluster_id))\n",
    "    rf_pred_val = model.transform(test_df_cluster[cluster_id])\n",
    "    if flag == 0:\n",
    "        pred_val = sqlcontext.createDataFrame([],rf_pred_val.schema)\n",
    "        flag = 1\n",
    "    pred_val = pred_val.union(rf_pred_val)\n",
    "    pred_val = pred_val.cache()"
   ]
  },
  {
   "cell_type": "code",
   "execution_count": 15,
   "metadata": {},
   "outputs": [
    {
     "name": "stdout",
     "output_type": "stream",
     "text": [
      "root\n",
      " |-- cluster_id: integer (nullable = true)\n",
      " |-- date: date (nullable = true)\n",
      " |-- hour: integer (nullable = true)\n",
      " |-- label: double (nullable = true)\n",
      " |-- weekDay: string (nullable = true)\n",
      " |-- 1_diff_energy_t_0: double (nullable = true)\n",
      " |-- 2_diff_energy_t_0: double (nullable = true)\n",
      " |-- 3_diff_energy_t_0: double (nullable = true)\n",
      " |-- 4_diff_energy_t_0: double (nullable = true)\n",
      " |-- 5_diff_energy_t_0: double (nullable = true)\n",
      " |-- 6_diff_energy_t_0: double (nullable = true)\n",
      " |-- 7_diff_energy_t_0: double (nullable = true)\n",
      " |-- 1_diff_energy_t_1: double (nullable = true)\n",
      " |-- 2_diff_energy_t_1: double (nullable = true)\n",
      " |-- 3_diff_energy_t_1: double (nullable = true)\n",
      " |-- 4_diff_energy_t_1: double (nullable = true)\n",
      " |-- 5_diff_energy_t_1: double (nullable = true)\n",
      " |-- 6_diff_energy_t_1: double (nullable = true)\n",
      " |-- 7_diff_energy_t_1: double (nullable = true)\n",
      " |-- 1_diff_energy_t_2: double (nullable = true)\n",
      " |-- 2_diff_energy_t_2: double (nullable = true)\n",
      " |-- 3_diff_energy_t_2: double (nullable = true)\n",
      " |-- 4_diff_energy_t_2: double (nullable = true)\n",
      " |-- 5_diff_energy_t_2: double (nullable = true)\n",
      " |-- 6_diff_energy_t_2: double (nullable = true)\n",
      " |-- 7_diff_energy_t_2: double (nullable = true)\n",
      " |-- diff_energy_week_t_2: double (nullable = true)\n",
      " |-- diff_energy_week_t_3: double (nullable = true)\n",
      " |-- diff_energy_week_t_4: double (nullable = true)\n",
      " |-- mean_1: double (nullable = true)\n",
      " |-- mean_2: double (nullable = true)\n",
      " |-- mean_3: double (nullable = true)\n",
      " |-- mean_4: double (nullable = true)\n",
      " |-- mean_5: double (nullable = true)\n",
      " |-- mean_6: double (nullable = true)\n",
      " |-- mean_7: double (nullable = true)\n",
      " |-- min_1: double (nullable = true)\n",
      " |-- max_1: double (nullable = true)\n",
      " |-- min_2: double (nullable = true)\n",
      " |-- max_2: double (nullable = true)\n",
      " |-- min_3: double (nullable = true)\n",
      " |-- max_3: double (nullable = true)\n",
      " |-- min_4: double (nullable = true)\n",
      " |-- max_4: double (nullable = true)\n",
      " |-- min_5: double (nullable = true)\n",
      " |-- max_5: double (nullable = true)\n",
      " |-- min_6: double (nullable = true)\n",
      " |-- max_6: double (nullable = true)\n",
      " |-- min_7: double (nullable = true)\n",
      " |-- max_7: double (nullable = true)\n",
      " |-- visibility: double (nullable = true)\n",
      " |-- windBearing: integer (nullable = true)\n",
      " |-- dewPoint: double (nullable = true)\n",
      " |-- pressure: double (nullable = true)\n",
      " |-- apparentTemperature: double (nullable = true)\n",
      " |-- windSpeed: double (nullable = true)\n",
      " |-- precipType: string (nullable = true)\n",
      " |-- humidity: double (nullable = true)\n",
      " |-- summary: string (nullable = true)\n",
      " |-- temperatureMax: double (nullable = true)\n",
      " |-- temperatureMin: double (nullable = true)\n",
      " |-- weekDay_index: double (nullable = true)\n",
      " |-- precipType_index: double (nullable = true)\n",
      " |-- summary_index: double (nullable = true)\n",
      " |-- holiday: integer (nullable = false)\n",
      " |-- category_weekDay_index: vector (nullable = true)\n",
      " |-- category_precipType_index: vector (nullable = true)\n",
      " |-- category_summary_index: vector (nullable = true)\n",
      " |-- features: vector (nullable = true)\n",
      " |-- prediction: double (nullable = false)\n",
      "\n"
     ]
    }
   ],
   "source": [
    "pred_val.printSchema()"
   ]
  },
  {
   "cell_type": "code",
   "execution_count": 16,
   "metadata": {},
   "outputs": [
    {
     "name": "stdout",
     "output_type": "stream",
     "text": [
      "+----------+------------------+-------+\n",
      "|cluster_id|        prediction|  label|\n",
      "+----------+------------------+-------+\n",
      "|         0|121.42302123904317| 123.97|\n",
      "|         1|259.22181966505275|263.693|\n",
      "|         2|283.15635215744027|291.188|\n",
      "|         3|350.98862149721515|389.487|\n",
      "|         4| 381.2111842988883|384.711|\n",
      "|         5|230.79961723270102|225.555|\n",
      "|         6| 129.6833793591115|134.453|\n",
      "|         7| 40.03765680563949| 41.251|\n",
      "+----------+------------------+-------+\n",
      "\n"
     ]
    }
   ],
   "source": [
    "pred_val.where((pred_val[\"date\"]==date(2013,11,10)) & (pred_val.hour == 23)).select(\"cluster_id\",\"prediction\",\"label\").show()"
   ]
  },
  {
   "cell_type": "markdown",
   "metadata": {},
   "source": [
    "## Feature Importance"
   ]
  },
  {
   "cell_type": "code",
   "execution_count": 17,
   "metadata": {},
   "outputs": [
    {
     "data": {
      "text/plain": [
       "74"
      ]
     },
     "execution_count": 17,
     "metadata": {},
     "output_type": "execute_result"
    }
   ],
   "source": [
    "from itertools import chain\n",
    "attrs = sorted((attr[\"idx\"],attr[\"name\"]) for attr in (chain(*pred_val.schema[\"features\"].metadata[\"ml_attr\"][\"attrs\"].values())))\n",
    "len(attrs)"
   ]
  },
  {
   "cell_type": "code",
   "execution_count": 18,
   "metadata": {},
   "outputs": [
    {
     "data": {
      "text/plain": [
       "[('humidity', 0.007975632445239786),\n",
       " ('category_weekDay_index_0', 0.00015723897976698673),\n",
       " ('category_weekDay_index_1', 0.0006707507809616412),\n",
       " ('category_weekDay_index_2', 0.0007591087689505358),\n",
       " ('category_weekDay_index_3', 0.00036012731255504013),\n",
       " ('category_weekDay_index_4', 0.00032662156169518383),\n",
       " ('category_weekDay_index_5', 0.0001541607053927813),\n",
       " ('min_7', 0.0030727361225859266),\n",
       " ('max_3', 0.0015051155996349296),\n",
       " ('max_4', 0.0011139530622671766),\n",
       " ('windSpeed', 0.0018676296473756047),\n",
       " ('pressure', 0.003771173592429488),\n",
       " ('5_diff_energy_t_1', 0.0018321607596986725),\n",
       " ('7_diff_energy_t_2', 0.0018329971949892945),\n",
       " ('diff_energy_week_t_4', 0.005342145227495972),\n",
       " ('mean_1', 0.01452793401602323),\n",
       " ('max_6', 0.002032063599218013),\n",
       " ('1_diff_energy_t_2', 0.0016462172512178663),\n",
       " ('3_diff_energy_t_0', 0.09940439695300582),\n",
       " ('max_1', 0.01373873363296923),\n",
       " ('min_6', 0.002318025624609842),\n",
       " ('3_diff_energy_t_2', 0.001301908052750498),\n",
       " ('mean_4', 0.0014659395927328713),\n",
       " ('hour', 0.009402836471085717),\n",
       " ('5_diff_energy_t_0', 0.014544405099403074),\n",
       " ('mean_2', 0.002005453643915851),\n",
       " ('min_1', 0.00165998070364279),\n",
       " ('holiday', 0.0002630380558231822),\n",
       " ('4_diff_energy_t_0', 0.02347951528424107),\n",
       " ('6_diff_energy_t_0', 0.022134442114698043),\n",
       " ('min_3', 0.00220684182276837),\n",
       " ('category_summary_index_0', 0.00022441036590617616),\n",
       " ('category_summary_index_1', 0.00034277797489686647),\n",
       " ('category_summary_index_2', 0.0002804546432156851),\n",
       " ('category_summary_index_3', 0.00029879885730163286),\n",
       " ('category_summary_index_4', 6.825243899938458e-06),\n",
       " ('category_summary_index_5', 5.3833310782023256e-05),\n",
       " ('category_summary_index_6', 2.2905148906395666e-05),\n",
       " ('category_summary_index_7', 5.2584155436371365e-05),\n",
       " ('category_summary_index_8', 9.732157361813311e-05),\n",
       " ('category_summary_index_9', 0.0),\n",
       " ('category_summary_index_10', 0.0),\n",
       " ('min_2', 0.002151387185029699),\n",
       " ('4_diff_energy_t_2', 0.002061540261831003),\n",
       " ('mean_3', 0.004407599775578288),\n",
       " ('diff_energy_week_t_2', 0.012608817802657053),\n",
       " ('temperatureMin', 0.004435005491542299),\n",
       " ('mean_5', 0.002279062918249186),\n",
       " ('diff_energy_week_t_3', 0.004714353213111943),\n",
       " ('7_diff_energy_t_1', 0.003219062464436577),\n",
       " ('visibility', 0.0037638853285492475),\n",
       " ('2_diff_energy_t_2', 0.0014824135417208575),\n",
       " ('1_diff_energy_t_1', 0.015469775615869189),\n",
       " ('windBearing', 0.002932852427646642),\n",
       " ('7_diff_energy_t_0', 0.044991788199095994),\n",
       " ('min_5', 0.0019466067849712553),\n",
       " ('mean_6', 0.0014377065289779781),\n",
       " ('max_7', 0.0015342719146333313),\n",
       " ('dewPoint', 0.0030214768553190386),\n",
       " ('3_diff_energy_t_1', 0.0022372799345400994),\n",
       " ('6_diff_energy_t_1', 0.005517373002413458),\n",
       " ('mean_7', 0.0014584087439339659),\n",
       " ('min_4', 0.002213614111129747),\n",
       " ('2_diff_energy_t_0', 0.21264742599984537),\n",
       " ('1_diff_energy_t_0', 0.3684905612875244),\n",
       " ('max_2', 0.0027817755727636327),\n",
       " ('apparentTemperature', 0.01458942770987189),\n",
       " ('5_diff_energy_t_2', 0.0012578215957170765),\n",
       " ('temperatureMax', 0.02489087525377752),\n",
       " ('category_precipType_index_0', 0.0005787149385958339),\n",
       " ('4_diff_energy_t_1', 0.001981485472333281),\n",
       " ('max_5', 0.001415472371087346),\n",
       " ('6_diff_energy_t_2', 0.0016750019406918967),\n",
       " ('2_diff_energy_t_1', 0.001553960803447518)]"
      ]
     },
     "execution_count": 18,
     "metadata": {},
     "output_type": "execute_result"
    }
   ],
   "source": [
    "x = [(name,model.featureImportances[idx]) for idx,name in attrs]\n",
    "x"
   ]
  },
  {
   "cell_type": "code",
   "execution_count": 19,
   "metadata": {},
   "outputs": [
    {
     "data": {
      "text/plain": [
       "[('1_diff_energy_t_0', 0.3684905612875244),\n",
       " ('2_diff_energy_t_0', 0.21264742599984537),\n",
       " ('3_diff_energy_t_0', 0.09940439695300582),\n",
       " ('7_diff_energy_t_0', 0.044991788199095994),\n",
       " ('temperatureMax', 0.02489087525377752),\n",
       " ('4_diff_energy_t_0', 0.02347951528424107),\n",
       " ('6_diff_energy_t_0', 0.022134442114698043),\n",
       " ('1_diff_energy_t_1', 0.015469775615869189),\n",
       " ('apparentTemperature', 0.01458942770987189),\n",
       " ('5_diff_energy_t_0', 0.014544405099403074),\n",
       " ('mean_1', 0.01452793401602323),\n",
       " ('max_1', 0.01373873363296923),\n",
       " ('diff_energy_week_t_2', 0.012608817802657053),\n",
       " ('hour', 0.009402836471085717),\n",
       " ('humidity', 0.007975632445239786)]"
      ]
     },
     "execution_count": 19,
     "metadata": {},
     "output_type": "execute_result"
    }
   ],
   "source": [
    "x = sorted(x,key=lambda x:x[1],reverse=True)\n",
    "x = x[:15]\n",
    "x"
   ]
  },
  {
   "cell_type": "code",
   "execution_count": 20,
   "metadata": {},
   "outputs": [
    {
     "data": {
      "image/png": "[encoded data removed]",
      "text/plain": [
       "<Figure size 432x288 with 1 Axes>"
      ]
     },
     "metadata": {
      "needs_background": "light"
     },
     "output_type": "display_data"
    }
   ],
   "source": [
    "plt.bar(range(len(x)),[v[1] for v in x],align=\"center\")\n",
    "plt.xticks(range(len(x)),[v[0] for v in x])\n",
    "plt.xticks(rotation=90)\n",
    "plt.xlabel(\"Features in prediction\")\n",
    "plt.ylabel(\"Feature Importance\")\n",
    "plt.savefig(base_path+\"/feature_imp.png\",bbox_inches=\"tight\")\n",
    "plt.show()\n"
   ]
  },
  {
   "cell_type": "code",
   "execution_count": 39,
   "metadata": {},
   "outputs": [
    {
     "data": {
      "text/plain": [
       "SparseVector(74, {0: 0.008, 1: 0.0002, 2: 0.0007, 3: 0.0008, 4: 0.0004, 5: 0.0003, 6: 0.0002, 7: 0.0031, 8: 0.0015, 9: 0.0011, 10: 0.0019, 11: 0.0038, 12: 0.0018, 13: 0.0018, 14: 0.0053, 15: 0.0145, 16: 0.002, 17: 0.0016, 18: 0.0994, 19: 0.0137, 20: 0.0023, 21: 0.0013, 22: 0.0015, 23: 0.0094, 24: 0.0145, 25: 0.002, 26: 0.0017, 27: 0.0003, 28: 0.0235, 29: 0.0221, 30: 0.0022, 31: 0.0002, 32: 0.0003, 33: 0.0003, 34: 0.0003, 35: 0.0, 36: 0.0001, 37: 0.0, 38: 0.0001, 39: 0.0001, 42: 0.0022, 43: 0.0021, 44: 0.0044, 45: 0.0126, 46: 0.0044, 47: 0.0023, 48: 0.0047, 49: 0.0032, 50: 0.0038, 51: 0.0015, 52: 0.0155, 53: 0.0029, 54: 0.045, 55: 0.0019, 56: 0.0014, 57: 0.0015, 58: 0.003, 59: 0.0022, 60: 0.0055, 61: 0.0015, 62: 0.0022, 63: 0.2126, 64: 0.3685, 65: 0.0028, 66: 0.0146, 67: 0.0013, 68: 0.0249, 69: 0.0006, 70: 0.002, 71: 0.0014, 72: 0.0017, 73: 0.0016})"
      ]
     },
     "execution_count": 39,
     "metadata": {},
     "output_type": "execute_result"
    }
   ],
   "source": [
    "model.featureImportances"
   ]
  },
  {
   "cell_type": "markdown",
   "metadata": {},
   "source": [
    "## GBT"
   ]
  },
  {
   "cell_type": "code",
   "execution_count": 92,
   "metadata": {},
   "outputs": [],
   "source": [
    "pred_val = []\n",
    "flag = 0\n",
    "for cluster_id in range(num_of_cluster):\n",
    "    gbt = GBTRegressor(maxBins=128,maxDepth=10)\n",
    "    gbt_model = gbt.fit(train_df_cluster[cluster_id])\n",
    "    gbt_pred_val = gbt_model.transform(test_df_cluster[cluster_id])\n",
    "    if flag == 0:\n",
    "        pred_val = sqlcontext.createDataFrame([],gbt_pred_val.schema)\n",
    "        flag = 1\n",
    "    pred_val = pred_val.union(gbt_pred_val)\n",
    "    pred_val = pred_val.cache()"
   ]
  },
  {
   "cell_type": "code",
   "execution_count": 40,
   "metadata": {},
   "outputs": [],
   "source": [
    "aggregate_df = get_aggregate(pred_val)\n",
    "aggregate_df = aggregate_df.withColumnRenamed(\"sum(label)\",\"label\")\n",
    "aggregate_df = aggregate_df.withColumnRenamed(\"sum(prediction)\",\"prediction\")"
   ]
  },
  {
   "cell_type": "code",
   "execution_count": 41,
   "metadata": {
    "scrolled": true
   },
   "outputs": [
    {
     "name": "stdout",
     "output_type": "stream",
     "text": [
      "2013-11-01\n",
      "2013-11-02\n",
      "2013-11-03\n",
      "2013-11-04\n",
      "2013-11-05\n",
      "2013-11-06\n",
      "2013-11-07\n",
      "2013-11-08\n",
      "2013-11-09\n",
      "2013-11-10\n",
      "2013-11-11\n",
      "2013-11-12\n",
      "2013-11-13\n",
      "2013-11-14\n",
      "2013-11-15\n",
      "2013-11-16\n",
      "2013-11-17\n",
      "2013-11-18\n",
      "2013-11-19\n",
      "2013-11-20\n",
      "2013-11-21\n",
      "2013-11-22\n",
      "2013-11-23\n",
      "2013-11-24\n",
      "2013-11-25\n",
      "2013-11-26\n",
      "2013-11-27\n",
      "2013-11-28\n",
      "2013-11-29\n",
      "2013-11-30\n",
      "2013-12-01\n",
      "2013-12-02\n",
      "2013-12-03\n",
      "2013-12-04\n",
      "2013-12-05\n",
      "2013-12-06\n",
      "2013-12-07\n",
      "2013-12-08\n",
      "2013-12-09\n",
      "2013-12-10\n",
      "2013-12-11\n",
      "2013-12-12\n",
      "2013-12-13\n",
      "2013-12-14\n",
      "2013-12-15\n",
      "2013-12-16\n",
      "2013-12-17\n",
      "2013-12-18\n",
      "2013-12-19\n",
      "2013-12-20\n",
      "2013-12-21\n",
      "2013-12-22\n",
      "2013-12-23\n",
      "2013-12-24\n",
      "2013-12-25\n",
      "2013-12-26\n",
      "2013-12-27\n",
      "2013-12-28\n",
      "2013-12-29\n",
      "2013-12-30\n",
      "2013-12-31\n"
     ]
    }
   ],
   "source": [
    "train_start_date = date(2013,11,1)\n",
    "train_end_date = date(2013,12,31)\n",
    "y_date = []\n",
    "Mape_date = []\n",
    "rmse_date = []\n",
    "SMape_date = []\n",
    "while train_start_date <= train_end_date:\n",
    "    print(train_start_date)\n",
    "    y_actual,y_pred = select_predicted_actual(aggregate_df,train_start_date)\n",
    "    if len(y_actual) == 0:\n",
    "        train_start_date = train_start_date + timedelta(1)\n",
    "        continue\n",
    "    Mape_date.append(mean_absolute_percentage_error(y_actual,y_pred))\n",
    "    rmse_date.append(root_mean_squared_error(y_actual,y_pred))\n",
    "    SMape_date.append(symmetric_mean_absolute_percentage_error(y_actual,y_pred))\n",
    "    y_date.append(train_start_date)\n",
    "    train_start_date = train_start_date + timedelta(1)"
   ]
  },
  {
   "cell_type": "code",
   "execution_count": 43,
   "metadata": {},
   "outputs": [
    {
     "name": "stderr",
     "output_type": "stream",
     "text": [
      "/usr/local/lib/python3.5/dist-packages/pandas/plotting/_converter.py:129: FutureWarning: Using an implicitly registered datetime converter for a matplotlib plotting method. The converter was registered by pandas on import. Future versions of pandas will require you to explicitly register matplotlib converters.\n",
      "\n",
      "To register the converters:\n",
      "\t>>> from pandas.plotting import register_matplotlib_converters\n",
      "\t>>> register_matplotlib_converters()\n",
      "  warnings.warn(msg, FutureWarning)\n"
     ]
    },
    {
     "data": {
      "image/png": "[encoded data removed]",
      "text/plain": [
       "<Figure size 576x360 with 2 Axes>"
      ]
     },
     "metadata": {
      "needs_background": "light"
     },
     "output_type": "display_data"
    }
   ],
   "source": [
    "#del y_date[2]\n",
    "# fig, (ax1,ax2) = plt.subplots(1,2, figsize =(8,6))\n",
    "# ax1.xaxis.set_major_formatter(mdates.DateFormatter('%m/%d/%Y'))\n",
    "# ax1.xaxis.set_major_locator(mdates.DayLocator())\n",
    "# ax2.xaxis.set_major_formatter(mdates.DateFormatter('%m/%d/%Y'))\n",
    "# ax2.xaxis.set_major_locator(mdates.DayLocator())\n",
    "# ax1.plot(y_date,Mape_date)\n",
    "# ax2.plot(y_date,rmse_date)\n",
    "# fig.autofmt_xdate()\n",
    "# ax1.set_xlabel('k')\n",
    "# ax1.set_ylabel('cost')\n",
    "date_time = pd.to_datetime(y_date)\n",
    "DF = pd.DataFrame()\n",
    "DF['Mape_date'] = Mape_date\n",
    "DF = DF.set_index(date_time)\n",
    "\n",
    "DF1 = pd.DataFrame()\n",
    "DF1['rmse_date'] = rmse_date\n",
    "DF1 = DF1.set_index(date_time)\n",
    "\n",
    "#DF2 = pd.DataFrame()\n",
    "#DF2['SMape_date'] = SMape_date\n",
    "#DF2 = DF2.set_index(date_time)\n",
    "fig, ax1 = plt.subplots(1,2, figsize =(8,5))\n",
    "fig.subplots_adjust(bottom=0.3,wspace = 0.3)\n",
    "error = [\"MAPE\",\"RMSE\"]\n",
    "cnt = 0\n",
    "for ax in fig.axes:\n",
    "    plt.sca(ax)\n",
    "    plt.xticks(rotation=90)\n",
    "    plt.xlabel(\"Day\")\n",
    "    plt.ylabel(error[cnt])\n",
    "    cnt += 1\n",
    "ax1[0].plot(DF)\n",
    "ax1[1].plot(DF1)\n",
    "#ax1[1,0].plot(DF2)\n",
    "fig.tight_layout()\n",
    "#fig.delaxes(ax1[1,1])"
   ]
  },
  {
   "cell_type": "code",
   "execution_count": 45,
   "metadata": {},
   "outputs": [
    {
     "name": "stdout",
     "output_type": "stream",
     "text": [
      "Mean RMSE = 95.7840020908349, Mean Mape = 3.8993994183151455\n"
     ]
    }
   ],
   "source": [
    "from statistics import mean\n",
    "print(\"Mean RMSE = {}, Mean Mape = {}\".format(mean(rmse_date),mean(Mape_date)))"
   ]
  },
  {
   "cell_type": "code",
   "execution_count": 46,
   "metadata": {},
   "outputs": [],
   "source": [
    "fig.savefig(base_path+\"/plot/rf+bk=8-month.png\")"
   ]
  },
  {
   "cell_type": "code",
   "execution_count": 47,
   "metadata": {},
   "outputs": [
    {
     "data": {
      "text/html": [
       "<div>\n",
       "<style scoped>\n",
       "    .dataframe tbody tr th:only-of-type {\n",
       "        vertical-align: middle;\n",
       "    }\n",
       "\n",
       "    .dataframe tbody tr th {\n",
       "        vertical-align: top;\n",
       "    }\n",
       "\n",
       "    .dataframe thead th {\n",
       "        text-align: right;\n",
       "    }\n",
       "</style>\n",
       "<table border=\"1\" class=\"dataframe\">\n",
       "  <thead>\n",
       "    <tr style=\"text-align: right;\">\n",
       "      <th></th>\n",
       "      <th>label</th>\n",
       "      <th>prediction</th>\n",
       "    </tr>\n",
       "  </thead>\n",
       "  <tbody>\n",
       "    <tr>\n",
       "      <th>0</th>\n",
       "      <td>1673.318</td>\n",
       "      <td>1732.670862</td>\n",
       "    </tr>\n",
       "    <tr>\n",
       "      <th>1</th>\n",
       "      <td>1770.985</td>\n",
       "      <td>1698.225485</td>\n",
       "    </tr>\n",
       "    <tr>\n",
       "      <th>2</th>\n",
       "      <td>2698.482</td>\n",
       "      <td>2699.455642</td>\n",
       "    </tr>\n",
       "    <tr>\n",
       "      <th>3</th>\n",
       "      <td>1620.043</td>\n",
       "      <td>1636.150595</td>\n",
       "    </tr>\n",
       "    <tr>\n",
       "      <th>4</th>\n",
       "      <td>1242.961</td>\n",
       "      <td>1286.330933</td>\n",
       "    </tr>\n",
       "  </tbody>\n",
       "</table>\n",
       "</div>"
      ],
      "text/plain": [
       "      label   prediction\n",
       "0  1673.318  1732.670862\n",
       "1  1770.985  1698.225485\n",
       "2  2698.482  2699.455642\n",
       "3  1620.043  1636.150595\n",
       "4  1242.961  1286.330933"
      ]
     },
     "execution_count": 47,
     "metadata": {},
     "output_type": "execute_result"
    }
   ],
   "source": [
    "actual_predicted = aggregate_df.where((aggregate_df.date==date(2013,11,29))).select(\"label\",\"prediction\").toPandas()\n",
    "actual_predicted.head()"
   ]
  },
  {
   "cell_type": "code",
   "execution_count": 57,
   "metadata": {},
   "outputs": [
    {
     "data": {
      "text/plain": [
       "<matplotlib.legend.Legend at 0x7f0309873a20>"
      ]
     },
     "execution_count": 57,
     "metadata": {},
     "output_type": "execute_result"
    },
    {
     "data": {
      "image/png": "[encoded data removed]",
      "text/plain": [
       "<Figure size 432x288 with 1 Axes>"
      ]
     },
     "metadata": {
      "needs_background": "light"
     },
     "output_type": "display_data"
    }
   ],
   "source": [
    "ax = actual_predicted.plot(style=[\"bs--\",\"ro--\"])\n",
    "ax.set_xlabel(\"Hour of Day\")\n",
    "ax.set_ylabel(\"Load (Kw/h)\")\n",
    "ax.legend(loc=1)"
   ]
  },
  {
   "cell_type": "code",
   "execution_count": 58,
   "metadata": {},
   "outputs": [],
   "source": [
    "ax.get_figure().savefig(base_path+\"/plot/rf+bk=8_predVSact29-11-month.png\")"
   ]
  },
  {
   "cell_type": "code",
   "execution_count": 100,
   "metadata": {},
   "outputs": [
    {
     "data": {
      "text/plain": [
       "datetime.date(2013, 12, 25)"
      ]
     },
     "execution_count": 100,
     "metadata": {},
     "output_type": "execute_result"
    }
   ],
   "source": [
    "y_date[54]"
   ]
  },
  {
   "cell_type": "code",
   "execution_count": null,
   "metadata": {},
   "outputs": [],
   "source": []
  }
 ],
 "metadata": {
  "kernelspec": {
   "display_name": "Python 3",
   "language": "python",
   "name": "python3"
  },
  "language_info": {
   "codemirror_mode": {
    "name": "ipython",
    "version": 3
   },
   "file_extension": ".py",
   "mimetype": "text/x-python",
   "name": "python",
   "nbconvert_exporter": "python",
   "pygments_lexer": "ipython3",
   "version": "3.5.2+"
  }
 },
 "nbformat": 4,
 "nbformat_minor": 2
}
