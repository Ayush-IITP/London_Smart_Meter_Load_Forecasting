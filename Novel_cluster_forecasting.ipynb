{
 "cells": [
  {
   "cell_type": "code",
   "execution_count": 45,
   "metadata": {},
   "outputs": [],
   "source": [
    "from pyspark.sql import SQLContext\n",
    "from pyspark.sql import functions as sf\n",
    "from pyspark.ml.feature import StandardScaler, MinMaxScaler\n",
    "from pyspark.ml.feature import OneHotEncoder\n",
    "from pyspark.ml.feature import VectorAssembler\n",
    "from pyspark.sql.types import DateType\n",
    "from datetime import date, timedelta\n",
    "import datetime as dt\n",
    "from pyspark.ml.tuning import ParamGridBuilder, TrainValidationSplit\n",
    "from pyspark.ml.regression import RandomForestRegressor\n",
    "from pyspark.ml.evaluation import RegressionEvaluator\n",
    "from pyspark.ml.regression import GBTRegressor\n",
    "from pyspark.sql.functions import col, avg, sum, first\n",
    "import numpy as np\n",
    "import matplotlib.dates as mdates\n",
    "from matplotlib import pyplot as plt\n",
    "import pandas as pd\n",
    "from pyspark.ml.regression import LinearRegression\n",
    "import pyspark"
   ]
  },
  {
   "cell_type": "code",
   "execution_count": 9,
   "metadata": {},
   "outputs": [],
   "source": [
    "log4jLogger = sc._jvm.org.apache.log4j\n",
    "LOGGER = log4jLogger.LogManager.getLogger(__name__)\n",
    "LOGGER.error(\"pyspark script logger initialized\")"
   ]
  },
  {
   "cell_type": "code",
   "execution_count": 10,
   "metadata": {},
   "outputs": [
    {
     "data": {
      "text/html": [
       "\n",
       "        <div>\n",
       "            <p><b>SparkContext</b></p>\n",
       "\n",
       "            <p><a href=\"http://master:4044\">Spark UI</a></p>\n",
       "\n",
       "            <dl>\n",
       "              <dt>Version</dt>\n",
       "                <dd><code>v2.4.0</code></dd>\n",
       "              <dt>Master</dt>\n",
       "                <dd><code>spark://172.16.27.208:7077</code></dd>\n",
       "              <dt>AppName</dt>\n",
       "                <dd><code>spark</code></dd>\n",
       "            </dl>\n",
       "        </div>\n",
       "        "
      ],
      "text/plain": [
       "<SparkContext master=spark://172.16.27.208:7077 appName=spark>"
      ]
     },
     "execution_count": 10,
     "metadata": {},
     "output_type": "execute_result"
    }
   ],
   "source": [
    "sc.stop()\n",
    "sc = pyspark.SparkContext(master=\"spark://172.16.27.208:7077\",appName=\"spark\")\n",
    "sc"
   ]
  },
  {
   "cell_type": "code",
   "execution_count": 11,
   "metadata": {},
   "outputs": [],
   "source": [
    "base_path = \"/home/test5/Desktop/smart-meters-in-london/\"\n",
    "sqlcontext = SQLContext(sc)"
   ]
  },
  {
   "cell_type": "code",
   "execution_count": 12,
   "metadata": {},
   "outputs": [
    {
     "name": "stdout",
     "output_type": "stream",
     "text": [
      "root\n",
      " |-- _c0: integer (nullable = true)\n",
      " |-- cluster_id: integer (nullable = true)\n",
      " |-- date: timestamp (nullable = true)\n",
      " |-- hour: integer (nullable = true)\n",
      " |-- energy(kWh/h): double (nullable = true)\n",
      " |-- month: integer (nullable = true)\n",
      " |-- weekDay: string (nullable = true)\n",
      " |-- 1_diff_energy_t_0: double (nullable = true)\n",
      " |-- 2_diff_energy_t_0: double (nullable = true)\n",
      " |-- 3_diff_energy_t_0: double (nullable = true)\n",
      " |-- 4_diff_energy_t_0: double (nullable = true)\n",
      " |-- 5_diff_energy_t_0: double (nullable = true)\n",
      " |-- 6_diff_energy_t_0: double (nullable = true)\n",
      " |-- 7_diff_energy_t_0: double (nullable = true)\n",
      " |-- 1_diff_energy_t_1: double (nullable = true)\n",
      " |-- 2_diff_energy_t_1: double (nullable = true)\n",
      " |-- 3_diff_energy_t_1: double (nullable = true)\n",
      " |-- 4_diff_energy_t_1: double (nullable = true)\n",
      " |-- 5_diff_energy_t_1: double (nullable = true)\n",
      " |-- 6_diff_energy_t_1: double (nullable = true)\n",
      " |-- 7_diff_energy_t_1: double (nullable = true)\n",
      " |-- 1_diff_energy_t_2: double (nullable = true)\n",
      " |-- 2_diff_energy_t_2: double (nullable = true)\n",
      " |-- 3_diff_energy_t_2: double (nullable = true)\n",
      " |-- 4_diff_energy_t_2: double (nullable = true)\n",
      " |-- 5_diff_energy_t_2: double (nullable = true)\n",
      " |-- 6_diff_energy_t_2: double (nullable = true)\n",
      " |-- 7_diff_energy_t_2: double (nullable = true)\n",
      " |-- diff_energy_week_t_1: double (nullable = true)\n",
      " |-- diff_energy_week_t_2: double (nullable = true)\n",
      " |-- diff_energy_week_t_3: double (nullable = true)\n",
      " |-- diff_energy_week_t_4: double (nullable = true)\n",
      " |-- rnk: integer (nullable = true)\n",
      " |-- mean_1: double (nullable = true)\n",
      " |-- mean_2: double (nullable = true)\n",
      " |-- mean_3: double (nullable = true)\n",
      " |-- mean_4: double (nullable = true)\n",
      " |-- mean_5: double (nullable = true)\n",
      " |-- mean_6: double (nullable = true)\n",
      " |-- mean_7: double (nullable = true)\n",
      " |-- min_1: double (nullable = true)\n",
      " |-- max_1: double (nullable = true)\n",
      " |-- min_2: double (nullable = true)\n",
      " |-- max_2: double (nullable = true)\n",
      " |-- min_3: double (nullable = true)\n",
      " |-- max_3: double (nullable = true)\n",
      " |-- min_4: double (nullable = true)\n",
      " |-- max_4: double (nullable = true)\n",
      " |-- min_5: double (nullable = true)\n",
      " |-- max_5: double (nullable = true)\n",
      " |-- min_6: double (nullable = true)\n",
      " |-- max_6: double (nullable = true)\n",
      " |-- min_7: double (nullable = true)\n",
      " |-- max_7: double (nullable = true)\n",
      " |-- visibility: double (nullable = true)\n",
      " |-- windBearing: integer (nullable = true)\n",
      " |-- dewPoint: double (nullable = true)\n",
      " |-- pressure: double (nullable = true)\n",
      " |-- apparentTemperature: double (nullable = true)\n",
      " |-- windSpeed: double (nullable = true)\n",
      " |-- precipType: string (nullable = true)\n",
      " |-- humidity: double (nullable = true)\n",
      " |-- summary: string (nullable = true)\n",
      " |-- date2: timestamp (nullable = true)\n",
      " |-- temperatureMax: double (nullable = true)\n",
      " |-- temperatureMin: double (nullable = true)\n",
      " |-- holiday: integer (nullable = true)\n",
      " |-- Weekday/end: integer (nullable = true)\n",
      " |-- weekDay_index: double (nullable = true)\n",
      " |-- precipType_index: double (nullable = true)\n",
      " |-- summary_index: double (nullable = true)\n",
      "\n"
     ]
    }
   ],
   "source": [
    "cluster_feature = sqlcontext.read.csv(path=base_path+\"k=8_means_Feature.csv\",header=True,inferSchema=True)\n",
    "# cluster_feature = cluster_feature.drop(\"_c0\",\"date2\",\"diff_energy_week_t_1\",\"rnk\",\"month\")\n",
    "# cluster_feature = cluster_feature.withColumn(\"windSpeed\",cluster_feature[\"windSpeed\"].cast(\"float\"))\n",
    "# cluster_feature = cluster_feature.withColumn(\"dewPoint\",cluster_feature[\"dewPoint\"].cast(\"float\"))\n",
    "cluster_feature.printSchema()"
   ]
  },
  {
   "cell_type": "code",
   "execution_count": 13,
   "metadata": {},
   "outputs": [
    {
     "data": {
      "text/plain": [
       "[Row(cluster_id=1, date=datetime.datetime(2013, 1, 1, 0, 0), hour=0, energy(kWh/h)=26.887, weekDay='Tue', 1_diff_energy_t_0=27.66, 2_diff_energy_t_0=24.897, 3_diff_energy_t_0=26.95, 4_diff_energy_t_0=28.878, 5_diff_energy_t_0=30.769, 6_diff_energy_t_0=24.581, 7_diff_energy_t_0=36.469, 1_diff_energy_t_1=29.753, 2_diff_energy_t_1=34.267, 3_diff_energy_t_1=32.199, 4_diff_energy_t_1=39.245, 5_diff_energy_t_1=39.218, 6_diff_energy_t_1=27.46, 7_diff_energy_t_1=36.102, 1_diff_energy_t_2=33.561, 2_diff_energy_t_2=36.934, 3_diff_energy_t_2=35.116, 4_diff_energy_t_2=43.89, 5_diff_energy_t_2=44.017, 6_diff_energy_t_2=34.315, 7_diff_energy_t_2=33.88, diff_energy_week_t_2=28.705, diff_energy_week_t_3=29.39, diff_energy_week_t_4=27.736, rnk=32, mean_1=31.05083333333333, mean_2=31.69304166666667, mean_3=30.185666666666663, mean_4=33.873416666666664, mean_5=35.266625000000005, mean_6=34.071625000000004, mean_7=34.696125, min_1=18.814, max_1=40.693, min_2=20.052, max_2=42.29, min_3=17.198, max_3=38.897, min_4=18.76, max_4=48.829, min_5=19.321, max_5=48.099, min_6=19.443, max_6=46.699, min_7=20.354, max_7=49.092, visibility=13.28, windBearing=269, dewPoint=2.6, pressure=1008.19, apparentTemperature=3.66, windSpeed=5.46, precipType='rain', humidity=0.73, summary='Partly Cloudy', temperatureMax=7.49, temperatureMin=3.31, weekDay_index=5.0, precipType_index=0.0, summary_index=2.0, holiday=1)]"
      ]
     },
     "execution_count": 13,
     "metadata": {},
     "output_type": "execute_result"
    }
   ],
   "source": [
    "cluster_feature = cluster_feature.withColumn(\"holiday1\",sf.when((col(\"Weekday/end\")==1) | (col(\"holiday\")==1),1).otherwise(0))\n",
    "cluster_feature = cluster_feature.drop(\"_c0\",\"diff_energy_week_t_1\",\"date2\",\"holiday\",\"month\",\"Weekday/end\")\n",
    "cluster_feature = cluster_feature.withColumnRenamed(\"holiday1\",\"holiday\")\n",
    "cluster_feature.take(1)"
   ]
  },
  {
   "cell_type": "code",
   "execution_count": 14,
   "metadata": {},
   "outputs": [
    {
     "name": "stdout",
     "output_type": "stream",
     "text": [
      "root\n",
      " |-- cluster_id: integer (nullable = true)\n",
      " |-- date: timestamp (nullable = true)\n",
      " |-- hour: integer (nullable = true)\n",
      " |-- energy(kWh/h): double (nullable = true)\n",
      " |-- weekDay: string (nullable = true)\n",
      " |-- 1_diff_energy_t_0: double (nullable = true)\n",
      " |-- 2_diff_energy_t_0: double (nullable = true)\n",
      " |-- 3_diff_energy_t_0: double (nullable = true)\n",
      " |-- 4_diff_energy_t_0: double (nullable = true)\n",
      " |-- 5_diff_energy_t_0: double (nullable = true)\n",
      " |-- 6_diff_energy_t_0: double (nullable = true)\n",
      " |-- 7_diff_energy_t_0: double (nullable = true)\n",
      " |-- 1_diff_energy_t_1: double (nullable = true)\n",
      " |-- 2_diff_energy_t_1: double (nullable = true)\n",
      " |-- 3_diff_energy_t_1: double (nullable = true)\n",
      " |-- 4_diff_energy_t_1: double (nullable = true)\n",
      " |-- 5_diff_energy_t_1: double (nullable = true)\n",
      " |-- 6_diff_energy_t_1: double (nullable = true)\n",
      " |-- 7_diff_energy_t_1: double (nullable = true)\n",
      " |-- 1_diff_energy_t_2: double (nullable = true)\n",
      " |-- 2_diff_energy_t_2: double (nullable = true)\n",
      " |-- 3_diff_energy_t_2: double (nullable = true)\n",
      " |-- 4_diff_energy_t_2: double (nullable = true)\n",
      " |-- 5_diff_energy_t_2: double (nullable = true)\n",
      " |-- 6_diff_energy_t_2: double (nullable = true)\n",
      " |-- 7_diff_energy_t_2: double (nullable = true)\n",
      " |-- diff_energy_week_t_2: double (nullable = true)\n",
      " |-- diff_energy_week_t_3: double (nullable = true)\n",
      " |-- diff_energy_week_t_4: double (nullable = true)\n",
      " |-- mean_1: double (nullable = true)\n",
      " |-- mean_2: double (nullable = true)\n",
      " |-- mean_3: double (nullable = true)\n",
      " |-- mean_4: double (nullable = true)\n",
      " |-- mean_5: double (nullable = true)\n",
      " |-- mean_6: double (nullable = true)\n",
      " |-- mean_7: double (nullable = true)\n",
      " |-- min_1: double (nullable = true)\n",
      " |-- max_1: double (nullable = true)\n",
      " |-- min_2: double (nullable = true)\n",
      " |-- max_2: double (nullable = true)\n",
      " |-- min_3: double (nullable = true)\n",
      " |-- max_3: double (nullable = true)\n",
      " |-- min_4: double (nullable = true)\n",
      " |-- max_4: double (nullable = true)\n",
      " |-- min_5: double (nullable = true)\n",
      " |-- max_5: double (nullable = true)\n",
      " |-- min_6: double (nullable = true)\n",
      " |-- max_6: double (nullable = true)\n",
      " |-- min_7: double (nullable = true)\n",
      " |-- max_7: double (nullable = true)\n",
      " |-- visibility: double (nullable = true)\n",
      " |-- windBearing: integer (nullable = true)\n",
      " |-- dewPoint: double (nullable = true)\n",
      " |-- pressure: double (nullable = true)\n",
      " |-- apparentTemperature: double (nullable = true)\n",
      " |-- windSpeed: double (nullable = true)\n",
      " |-- precipType: string (nullable = true)\n",
      " |-- humidity: double (nullable = true)\n",
      " |-- summary: string (nullable = true)\n",
      " |-- temperatureMax: double (nullable = true)\n",
      " |-- temperatureMin: double (nullable = true)\n",
      " |-- weekDay_index: double (nullable = true)\n",
      " |-- precipType_index: double (nullable = true)\n",
      " |-- summary_index: double (nullable = true)\n",
      " |-- holiday: integer (nullable = false)\n",
      " |-- category_weekDay_index: vector (nullable = true)\n",
      " |-- category_precipType_index: vector (nullable = true)\n",
      " |-- category_summary_index: vector (nullable = true)\n",
      "\n"
     ]
    }
   ],
   "source": [
    "outputCols = [\"weekDay_index\",\"precipType_index\",\"summary_index\"]\n",
    "df_encoded = cluster_feature\n",
    "df_encoded = df_encoded.na.drop()\n",
    "for col in outputCols: \n",
    "    encoder = OneHotEncoder(inputCol=col, outputCol=\"category_{}\".format(col))\n",
    "    df_encoded = encoder.transform(df_encoded).cache()\n",
    "df_encoded = df_encoded.drop(\"rnk\")\n",
    "df_encoded.printSchema()"
   ]
  },
  {
   "cell_type": "code",
   "execution_count": 15,
   "metadata": {},
   "outputs": [
    {
     "data": {
      "text/plain": [
       "59"
      ]
     },
     "execution_count": 15,
     "metadata": {},
     "output_type": "execute_result"
    }
   ],
   "source": [
    "inputCols = [\"weekDay\",\"precipType\",\"summary\",]\n",
    "columns = df_encoded.columns\n",
    "feature_col = columns[4:]\n",
    "feature_col.append(columns[2])\n",
    "feature_col = set(feature_col) - set(inputCols)\n",
    "feature_col = feature_col - set(outputCols)\n",
    "feature_col = list(feature_col)\n",
    "df_encoded = df_encoded.na.drop()\n",
    "len(feature_col)"
   ]
  },
  {
   "cell_type": "code",
   "execution_count": 16,
   "metadata": {},
   "outputs": [
    {
     "data": {
      "text/plain": [
       "[Row(cluster_id=1, date=datetime.datetime(2013, 1, 1, 0, 0), hour=0, energy(kWh/h)=26.887, weekDay='Tue', 1_diff_energy_t_0=27.66, 2_diff_energy_t_0=24.897, 3_diff_energy_t_0=26.95, 4_diff_energy_t_0=28.878, 5_diff_energy_t_0=30.769, 6_diff_energy_t_0=24.581, 7_diff_energy_t_0=36.469, 1_diff_energy_t_1=29.753, 2_diff_energy_t_1=34.267, 3_diff_energy_t_1=32.199, 4_diff_energy_t_1=39.245, 5_diff_energy_t_1=39.218, 6_diff_energy_t_1=27.46, 7_diff_energy_t_1=36.102, 1_diff_energy_t_2=33.561, 2_diff_energy_t_2=36.934, 3_diff_energy_t_2=35.116, 4_diff_energy_t_2=43.89, 5_diff_energy_t_2=44.017, 6_diff_energy_t_2=34.315, 7_diff_energy_t_2=33.88, diff_energy_week_t_2=28.705, diff_energy_week_t_3=29.39, diff_energy_week_t_4=27.736, mean_1=31.05083333333333, mean_2=31.69304166666667, mean_3=30.185666666666663, mean_4=33.873416666666664, mean_5=35.266625000000005, mean_6=34.071625000000004, mean_7=34.696125, min_1=18.814, max_1=40.693, min_2=20.052, max_2=42.29, min_3=17.198, max_3=38.897, min_4=18.76, max_4=48.829, min_5=19.321, max_5=48.099, min_6=19.443, max_6=46.699, min_7=20.354, max_7=49.092, visibility=13.28, windBearing=269, dewPoint=2.6, pressure=1008.19, apparentTemperature=3.66, windSpeed=5.46, precipType='rain', humidity=0.73, summary='Partly Cloudy', temperatureMax=7.49, temperatureMin=3.31, weekDay_index=5.0, precipType_index=0.0, summary_index=2.0, holiday=1, category_weekDay_index=SparseVector(6, {5: 1.0}), category_precipType_index=SparseVector(1, {0: 1.0}), category_summary_index=SparseVector(11, {2: 1.0}), features=DenseVector([0.73, 0.0, 0.0, 0.0, 0.0, 0.0, 1.0, 20.354, 38.897, 48.829, 5.46, 1008.19, 39.218, 33.88, 27.736, 31.0508, 46.699, 33.561, 26.95, 40.693, 19.443, 35.116, 33.8734, 0.0, 30.769, 31.693, 18.814, 1.0, 28.878, 24.581, 17.198, 0.0, 0.0, 1.0, 0.0, 0.0, 0.0, 0.0, 0.0, 0.0, 0.0, 0.0, 20.052, 43.89, 30.1857, 28.705, 3.31, 35.2666, 29.39, 36.102, 13.28, 36.934, 29.753, 269.0, 36.469, 19.321, 34.0716, 49.092, 2.6, 32.199, 27.46, 34.6961, 18.76, 24.897, 27.66, 42.29, 3.66, 44.017, 7.49, 1.0, 39.245, 48.099, 34.315, 34.267]))]"
      ]
     },
     "execution_count": 16,
     "metadata": {},
     "output_type": "execute_result"
    }
   ],
   "source": [
    "vecAssembler = VectorAssembler(inputCols=feature_col, outputCol=\"features\")\n",
    "df_feature = vecAssembler.transform(df_encoded)\n",
    "df_feature.take(1)"
   ]
  },
  {
   "cell_type": "code",
   "execution_count": 17,
   "metadata": {},
   "outputs": [
    {
     "name": "stdout",
     "output_type": "stream",
     "text": [
      "root\n",
      " |-- cluster_id: integer (nullable = true)\n",
      " |-- date: date (nullable = true)\n",
      " |-- hour: integer (nullable = true)\n",
      " |-- label: double (nullable = true)\n",
      " |-- weekDay: string (nullable = true)\n",
      " |-- 1_diff_energy_t_0: double (nullable = true)\n",
      " |-- 2_diff_energy_t_0: double (nullable = true)\n",
      " |-- 3_diff_energy_t_0: double (nullable = true)\n",
      " |-- 4_diff_energy_t_0: double (nullable = true)\n",
      " |-- 5_diff_energy_t_0: double (nullable = true)\n",
      " |-- 6_diff_energy_t_0: double (nullable = true)\n",
      " |-- 7_diff_energy_t_0: double (nullable = true)\n",
      " |-- 1_diff_energy_t_1: double (nullable = true)\n",
      " |-- 2_diff_energy_t_1: double (nullable = true)\n",
      " |-- 3_diff_energy_t_1: double (nullable = true)\n",
      " |-- 4_diff_energy_t_1: double (nullable = true)\n",
      " |-- 5_diff_energy_t_1: double (nullable = true)\n",
      " |-- 6_diff_energy_t_1: double (nullable = true)\n",
      " |-- 7_diff_energy_t_1: double (nullable = true)\n",
      " |-- 1_diff_energy_t_2: double (nullable = true)\n",
      " |-- 2_diff_energy_t_2: double (nullable = true)\n",
      " |-- 3_diff_energy_t_2: double (nullable = true)\n",
      " |-- 4_diff_energy_t_2: double (nullable = true)\n",
      " |-- 5_diff_energy_t_2: double (nullable = true)\n",
      " |-- 6_diff_energy_t_2: double (nullable = true)\n",
      " |-- 7_diff_energy_t_2: double (nullable = true)\n",
      " |-- diff_energy_week_t_2: double (nullable = true)\n",
      " |-- diff_energy_week_t_3: double (nullable = true)\n",
      " |-- diff_energy_week_t_4: double (nullable = true)\n",
      " |-- mean_1: double (nullable = true)\n",
      " |-- mean_2: double (nullable = true)\n",
      " |-- mean_3: double (nullable = true)\n",
      " |-- mean_4: double (nullable = true)\n",
      " |-- mean_5: double (nullable = true)\n",
      " |-- mean_6: double (nullable = true)\n",
      " |-- mean_7: double (nullable = true)\n",
      " |-- min_1: double (nullable = true)\n",
      " |-- max_1: double (nullable = true)\n",
      " |-- min_2: double (nullable = true)\n",
      " |-- max_2: double (nullable = true)\n",
      " |-- min_3: double (nullable = true)\n",
      " |-- max_3: double (nullable = true)\n",
      " |-- min_4: double (nullable = true)\n",
      " |-- max_4: double (nullable = true)\n",
      " |-- min_5: double (nullable = true)\n",
      " |-- max_5: double (nullable = true)\n",
      " |-- min_6: double (nullable = true)\n",
      " |-- max_6: double (nullable = true)\n",
      " |-- min_7: double (nullable = true)\n",
      " |-- max_7: double (nullable = true)\n",
      " |-- visibility: double (nullable = true)\n",
      " |-- windBearing: integer (nullable = true)\n",
      " |-- dewPoint: double (nullable = true)\n",
      " |-- pressure: double (nullable = true)\n",
      " |-- apparentTemperature: double (nullable = true)\n",
      " |-- windSpeed: double (nullable = true)\n",
      " |-- precipType: string (nullable = true)\n",
      " |-- humidity: double (nullable = true)\n",
      " |-- summary: string (nullable = true)\n",
      " |-- temperatureMax: double (nullable = true)\n",
      " |-- temperatureMin: double (nullable = true)\n",
      " |-- weekDay_index: double (nullable = true)\n",
      " |-- precipType_index: double (nullable = true)\n",
      " |-- summary_index: double (nullable = true)\n",
      " |-- holiday: integer (nullable = false)\n",
      " |-- category_weekDay_index: vector (nullable = true)\n",
      " |-- category_precipType_index: vector (nullable = true)\n",
      " |-- category_summary_index: vector (nullable = true)\n",
      " |-- features: vector (nullable = true)\n",
      "\n"
     ]
    }
   ],
   "source": [
    "df_feature = df_feature.withColumnRenamed(\"energy(kWh/h)\",\"label\")\n",
    "df_feature = df_feature.withColumn(\"date\",df_feature[\"date\"].cast(DateType()))\n",
    "df_feature.printSchema()"
   ]
  },
  {
   "cell_type": "markdown",
   "metadata": {},
   "source": [
    "##  actual and Predicted for given day"
   ]
  },
  {
   "cell_type": "code",
   "execution_count": 18,
   "metadata": {},
   "outputs": [],
   "source": [
    "def get_aggregate(df):\n",
    "    list = [\"date\",\"hour\"]\n",
    "    df = df.groupBy(list).agg(sum(\"label\"),sum(\"prediction\"))    \n",
    "    return df\n",
    "\n",
    "def select_predicted_actual(df,date,LCLid=None):\n",
    "    list = []\n",
    "    if LCLid != None:\n",
    "        list = df.where((df[\"LCLid\"] == LCLid) & (df[\"date\"] == date)).select(\"label\",\"prediction\").collect()\n",
    "    else:\n",
    "        list = df.where((df[\"date\"] == date)).select(\"label\",\"prediction\").collect()\n",
    "    actual = [int(row['label']) for row in list]\n",
    "    predicted = [int(row['prediction']) for row in list]\n",
    "    return actual,predicted\n",
    "\n",
    "def mean_absolute_percentage_error(y_true, y_pred): \n",
    "    y_true, y_pred = np.array(y_true), np.array(y_pred)\n",
    "    return np.mean(np.abs((y_true - y_pred) / y_true)) * 100\n",
    "\n",
    "def root_mean_squared_error(y_true, y_pred): \n",
    "    y_true, y_pred = np.array(y_true), np.array(y_pred)\n",
    "    return np.sqrt(np.mean(np.abs((y_true - y_pred)**2)))"
   ]
  },
  {
   "cell_type": "markdown",
   "metadata": {},
   "source": [
    "# Train-Test Split"
   ]
  },
  {
   "cell_type": "code",
   "execution_count": 19,
   "metadata": {},
   "outputs": [
    {
     "name": "stdout",
     "output_type": "stream",
     "text": [
      "Train_point = 6904,val_df = 408, Test_point = 1464, cId = 0\n",
      "Train_point = 6904,val_df = 408, Test_point = 1464, cId = 1\n",
      "Train_point = 6904,val_df = 408, Test_point = 1464, cId = 2\n",
      "Train_point = 6904,val_df = 408, Test_point = 1464, cId = 3\n",
      "Train_point = 6904,val_df = 408, Test_point = 1464, cId = 4\n",
      "Train_point = 6904,val_df = 408, Test_point = 1464, cId = 5\n",
      "Train_point = 6904,val_df = 408, Test_point = 1464, cId = 6\n",
      "Train_point = 6904,val_df = 408, Test_point = 1464, cId = 7\n"
     ]
    }
   ],
   "source": [
    "train_df_cluster = []\n",
    "val_df_cluster = []\n",
    "test_df_cluster = []\n",
    "num_of_cluster = 8\n",
    "for cluster_id in range(num_of_cluster):\n",
    "    train_df = df_feature.where((df_feature[\"cluster_id\"] == cluster_id) & (df_feature[\"date\"] <= date(2013,10,15)))\n",
    "    val_df = df_feature.where((df_feature[\"cluster_id\"] == cluster_id) & (df_feature[\"date\"] <= date(2013,10,31)) & (df_feature[\"date\"] >= date(2013,10,15)))\n",
    "    test_df = df_feature.where((df_feature[\"cluster_id\"] == cluster_id) & (df_feature[\"date\"] > date(2013,10,31)))# & (df_feature[\"date\"] <= date(2013,1,2)))\n",
    "    print(\"Train_point = {},val_df = {}, Test_point = {}, cId = {}\".format(train_df.count(),val_df.count(),test_df.count(),cluster_id))\n",
    "    train_df_cluster.append(train_df)\n",
    "    val_df_cluster.append(val_df)\n",
    "    test_df_cluster.append(test_df)"
   ]
  },
  {
   "cell_type": "markdown",
   "metadata": {},
   "source": [
    "## RF"
   ]
  },
  {
   "cell_type": "code",
   "execution_count": 20,
   "metadata": {},
   "outputs": [],
   "source": [
    "pred_val = []\n",
    "val_pred_val = []\n",
    "flag = 0\n",
    "for cluster_id in range(num_of_cluster):\n",
    "    rf = RandomForestRegressor(numTrees=20,maxDepth=10,maxBins=128,seed=4)\n",
    "    model = rf.fit(train_df_cluster[cluster_id])\n",
    "    rf_pred_val = model.transform(test_df_cluster[cluster_id])\n",
    "    rf_val_pred_val = model.transform(val_df_cluster[cluster_id])\n",
    "    if flag == 0:\n",
    "        val_pred_val = sqlcontext.createDataFrame([],rf_val_pred_val.schema)\n",
    "        pred_val = sqlcontext.createDataFrame([],rf_pred_val.schema)\n",
    "        flag = 1\n",
    "    pred_val = pred_val.union(rf_pred_val)\n",
    "    pred_val = pred_val.cache()\n",
    "    val_pred_val = val_pred_val.union(rf_val_pred_val)\n",
    "    val_pred_val = val_pred_val.cache()"
   ]
  },
  {
   "cell_type": "markdown",
   "metadata": {},
   "source": [
    "## GBT"
   ]
  },
  {
   "cell_type": "code",
   "execution_count": null,
   "metadata": {},
   "outputs": [],
   "source": [
    "pred_val = []\n",
    "val_pred_val = []\n",
    "flag = 0\n",
    "for cluster_id in range(num_of_cluster):\n",
    "    gbt = GBTRegressor(maxBins=128,maxDepth=10)\n",
    "    gbt_model = gbt.fit(train_df_cluster[cluster_id])\n",
    "    gbt_pred_val = model.transform(test_df_cluster[cluster_id])\n",
    "    gbt_val_pred_val = model.transform(val_df_cluster[cluster_id])\n",
    "    if flag == 0:\n",
    "        val_pred_val = sqlcontext.createDataFrame([],gbt_val_pred_val.schema)\n",
    "        pred_val = sqlcontext.createDataFrame([],gbt_pred_val.schema)\n",
    "        flag = 1\n",
    "    pred_val = pred_val.union(gbt_pred_val)\n",
    "    pred_val = pred_val.cache()\n",
    "    val_pred_val = val_pred_val.union(gbt_val_pred_val)\n",
    "    val_pred_val = val_pred_val.cache()"
   ]
  },
  {
   "cell_type": "code",
   "execution_count": 21,
   "metadata": {},
   "outputs": [
    {
     "name": "stdout",
     "output_type": "stream",
     "text": [
      "root\n",
      " |-- date: date (nullable = true)\n",
      " |-- hour: integer (nullable = true)\n",
      " |-- cluster_id: integer (nullable = true)\n",
      " |-- prediction: double (nullable = false)\n",
      " |-- label: double (nullable = true)\n",
      "\n"
     ]
    }
   ],
   "source": [
    "val_pred_val = val_pred_val.select(\"date\",\"hour\",\"cluster_id\",\"prediction\",\"label\")\n",
    "val_pred_val.printSchema()"
   ]
  },
  {
   "cell_type": "code",
   "execution_count": 22,
   "metadata": {},
   "outputs": [
    {
     "name": "stdout",
     "output_type": "stream",
     "text": [
      "root\n",
      " |-- date: date (nullable = true)\n",
      " |-- hour: integer (nullable = true)\n",
      " |-- 0: double (nullable = true)\n",
      " |-- 1: double (nullable = true)\n",
      " |-- 2: double (nullable = true)\n",
      " |-- 3: double (nullable = true)\n",
      " |-- 4: double (nullable = true)\n",
      " |-- 5: double (nullable = true)\n",
      " |-- 6: double (nullable = true)\n",
      " |-- 7: double (nullable = true)\n",
      "\n"
     ]
    }
   ],
   "source": [
    "LR_pivot = val_pred_val.groupBy(\"date\",\"hour\").pivot(\"cluster_id\").agg(first(\"prediction\"))\n",
    "LR_pivot.printSchema()"
   ]
  },
  {
   "cell_type": "code",
   "execution_count": 23,
   "metadata": {},
   "outputs": [
    {
     "name": "stdout",
     "output_type": "stream",
     "text": [
      "+----+----+----------+----------+-----+\n",
      "|date|hour|cluster_id|prediction|label|\n",
      "+----+----+----------+----------+-----+\n",
      "+----+----+----------+----------+-----+\n",
      "\n",
      "+----+----+---+---+---+---+---+---+---+---+\n",
      "|date|hour|  0|  1|  2|  3|  4|  5|  6|  7|\n",
      "+----+----+---+---+---+---+---+---+---+---+\n",
      "+----+----+---+---+---+---+---+---+---+---+\n",
      "\n"
     ]
    }
   ],
   "source": [
    "val_pred_val.where((LR_pivot[\"date\"] == date(2013,10,1)) & (LR_pivot[\"hour\"] == 1)).show()\n",
    "LR_pivot.where((LR_pivot[\"date\"] == date(2013,10,1)) & (LR_pivot[\"hour\"] == 1)).show(2)\n"
   ]
  },
  {
   "cell_type": "code",
   "execution_count": 24,
   "metadata": {},
   "outputs": [
    {
     "name": "stdout",
     "output_type": "stream",
     "text": [
      "root\n",
      " |-- date: date (nullable = true)\n",
      " |-- hour: integer (nullable = true)\n",
      " |-- sum(label): double (nullable = true)\n",
      "\n"
     ]
    }
   ],
   "source": [
    "LR_actual = val_pred_val.groupBy(\"date\",\"hour\").sum(\"label\")\n",
    "LR_actual.printSchema()"
   ]
  },
  {
   "cell_type": "code",
   "execution_count": 25,
   "metadata": {},
   "outputs": [
    {
     "name": "stdout",
     "output_type": "stream",
     "text": [
      "root\n",
      " |-- date: date (nullable = true)\n",
      " |-- hour: integer (nullable = true)\n",
      " |-- 0: double (nullable = true)\n",
      " |-- 1: double (nullable = true)\n",
      " |-- 2: double (nullable = true)\n",
      " |-- 3: double (nullable = true)\n",
      " |-- 4: double (nullable = true)\n",
      " |-- 5: double (nullable = true)\n",
      " |-- 6: double (nullable = true)\n",
      " |-- 7: double (nullable = true)\n",
      " |-- label: double (nullable = true)\n",
      "\n"
     ]
    }
   ],
   "source": [
    "LR_feature = LR_pivot.join(LR_actual,[\"date\",\"hour\"])\n",
    "LR_feature = LR_feature.withColumnRenamed(\"sum(label)\",\"label\")\n",
    "LR_feature.printSchema()"
   ]
  },
  {
   "cell_type": "code",
   "execution_count": 26,
   "metadata": {},
   "outputs": [
    {
     "data": {
      "text/plain": [
       "['0', '1', '2', '3', '4', '5', '6', '7']"
      ]
     },
     "execution_count": 26,
     "metadata": {},
     "output_type": "execute_result"
    }
   ],
   "source": [
    "feature_col = LR_feature.columns\n",
    "feature_col = feature_col[2:10]\n",
    "feature_col"
   ]
  },
  {
   "cell_type": "code",
   "execution_count": 41,
   "metadata": {},
   "outputs": [
    {
     "data": {
      "text/plain": [
       "[Row(date=datetime.date(2013, 10, 23), hour=10, 0=355.86641914398695, 1=37.47424767213652, 2=298.6944581873407, 3=10.961227767082402, 4=385.3858608292361, 5=98.95995366156907, 6=151.1262115744309, 7=174.85446834055335, label=1414.518, features=DenseVector([355.8664, 37.4742, 298.6945, 10.9612, 385.3859, 98.96, 151.1262, 174.8545]))]"
      ]
     },
     "execution_count": 41,
     "metadata": {},
     "output_type": "execute_result"
    }
   ],
   "source": [
    "vecAssembler = VectorAssembler(inputCols=feature_col, outputCol=\"features\")\n",
    "df_feature = vecAssembler.transform(LR_feature)\n",
    "df_feature.take(1)"
   ]
  },
  {
   "cell_type": "code",
   "execution_count": 46,
   "metadata": {},
   "outputs": [],
   "source": [
    "scaler = MinMaxScaler(inputCol=\"features\",outputCol=\"scaled_features\")\n",
    "df_feature = scaler.fit(df_feature).transform(df_feature)\n",
    "df_feature = df_feature.drop(\"features\")\n",
    "df_feature = df_feature.withColumnRenamed(\"scaled_features\",\"features\")"
   ]
  },
  {
   "cell_type": "code",
   "execution_count": 72,
   "metadata": {},
   "outputs": [
    {
     "name": "stdout",
     "output_type": "stream",
     "text": [
      "_________________________________________________________________\n",
      "Layer (type)                 Output Shape              Param #   \n",
      "=================================================================\n",
      "dense_10 (Dense)             (None, 128)               1152      \n",
      "_________________________________________________________________\n",
      "dense_11 (Dense)             (None, 64)                8256      \n",
      "_________________________________________________________________\n",
      "dense_12 (Dense)             (None, 1)                 65        \n",
      "=================================================================\n",
      "Total params: 9,473\n",
      "Trainable params: 9,473\n",
      "Non-trainable params: 0\n",
      "_________________________________________________________________\n"
     ]
    }
   ],
   "source": [
    "# from keras.models import Sequential\n",
    "# from keras.layers.core import Dense, Dropout\n",
    "# from elephas.ml_model import ElephasEstimator\n",
    "# model = Sequential()\n",
    "# model.add(Dense(128,input_dim=8,activation=\"relu\"))\n",
    "# model.add(Dense(64,activation=\"relu\"))\n",
    "# model.add(Dense(1,activation=\"linear\"))\n",
    "# model.compile(loss=\"mse\",optimizer=\"adam\",metrics=[\"mae\",\"mse\"])\n",
    "# model.summary()"
   ]
  },
  {
   "cell_type": "code",
   "execution_count": 79,
   "metadata": {},
   "outputs": [
    {
     "ename": "TypeError",
     "evalue": "Method __init__ forces keyword arguments.",
     "output_type": "error",
     "traceback": [
      "\u001b[0;31m---------------------------------------------------------------------------\u001b[0m",
      "\u001b[0;31mTypeError\u001b[0m                                 Traceback (most recent call last)",
      "\u001b[0;32m<ipython-input-79-b7025824f24d>\u001b[0m in \u001b[0;36m<module>\u001b[0;34m\u001b[0m\n\u001b[1;32m      1\u001b[0m \u001b[0;32mfrom\u001b[0m \u001b[0melephas\u001b[0m\u001b[0;34m.\u001b[0m\u001b[0mml_model\u001b[0m \u001b[0;32mimport\u001b[0m \u001b[0mElephasEstimator\u001b[0m\u001b[0;34m\u001b[0m\u001b[0m\n\u001b[0;32m----> 2\u001b[0;31m \u001b[0mestimator\u001b[0m \u001b[0;34m=\u001b[0m \u001b[0mElephasEstimator\u001b[0m\u001b[0;34m(\u001b[0m\u001b[0mmodel\u001b[0m\u001b[0;34m,\u001b[0m\u001b[0mepochs\u001b[0m\u001b[0;34m=\u001b[0m\u001b[0;36m50\u001b[0m\u001b[0;34m,\u001b[0m\u001b[0mbatch_size\u001b[0m\u001b[0;34m=\u001b[0m\u001b[0;36m32\u001b[0m\u001b[0;34m)\u001b[0m\u001b[0;34m\u001b[0m\u001b[0m\n\u001b[0m\u001b[1;32m      3\u001b[0m \u001b[0;31m# lrModel = estimator.fit(df_feature)\u001b[0m\u001b[0;34m\u001b[0m\u001b[0;34m\u001b[0m\u001b[0m\n\u001b[1;32m      4\u001b[0m \u001b[0;31m# from elephas.spark_model import SparkModel\u001b[0m\u001b[0;34m\u001b[0m\u001b[0;34m\u001b[0m\u001b[0m\n\u001b[1;32m      5\u001b[0m \u001b[0;31m# spark_model = SparkModel(model,frequency=\"epoch\")\u001b[0m\u001b[0;34m\u001b[0m\u001b[0;34m\u001b[0m\u001b[0m\n",
      "\u001b[0;32m/usr/local/spark/python/pyspark/__init__.py\u001b[0m in \u001b[0;36mwrapper\u001b[0;34m(self, *args, **kwargs)\u001b[0m\n\u001b[1;32m    106\u001b[0m     \u001b[0;32mdef\u001b[0m \u001b[0mwrapper\u001b[0m\u001b[0;34m(\u001b[0m\u001b[0mself\u001b[0m\u001b[0;34m,\u001b[0m \u001b[0;34m*\u001b[0m\u001b[0margs\u001b[0m\u001b[0;34m,\u001b[0m \u001b[0;34m**\u001b[0m\u001b[0mkwargs\u001b[0m\u001b[0;34m)\u001b[0m\u001b[0;34m:\u001b[0m\u001b[0;34m\u001b[0m\u001b[0m\n\u001b[1;32m    107\u001b[0m         \u001b[0;32mif\u001b[0m \u001b[0mlen\u001b[0m\u001b[0;34m(\u001b[0m\u001b[0margs\u001b[0m\u001b[0;34m)\u001b[0m \u001b[0;34m>\u001b[0m \u001b[0;36m0\u001b[0m\u001b[0;34m:\u001b[0m\u001b[0;34m\u001b[0m\u001b[0m\n\u001b[0;32m--> 108\u001b[0;31m             \u001b[0;32mraise\u001b[0m \u001b[0mTypeError\u001b[0m\u001b[0;34m(\u001b[0m\u001b[0;34m\"Method %s forces keyword arguments.\"\u001b[0m \u001b[0;34m%\u001b[0m \u001b[0mfunc\u001b[0m\u001b[0;34m.\u001b[0m\u001b[0m__name__\u001b[0m\u001b[0;34m)\u001b[0m\u001b[0;34m\u001b[0m\u001b[0m\n\u001b[0m\u001b[1;32m    109\u001b[0m         \u001b[0mself\u001b[0m\u001b[0;34m.\u001b[0m\u001b[0m_input_kwargs\u001b[0m \u001b[0;34m=\u001b[0m \u001b[0mkwargs\u001b[0m\u001b[0;34m\u001b[0m\u001b[0m\n\u001b[1;32m    110\u001b[0m         \u001b[0;32mreturn\u001b[0m \u001b[0mfunc\u001b[0m\u001b[0;34m(\u001b[0m\u001b[0mself\u001b[0m\u001b[0;34m,\u001b[0m \u001b[0;34m**\u001b[0m\u001b[0mkwargs\u001b[0m\u001b[0;34m)\u001b[0m\u001b[0;34m\u001b[0m\u001b[0m\n",
      "\u001b[0;31mTypeError\u001b[0m: Method __init__ forces keyword arguments."
     ]
    },
    {
     "name": "stderr",
     "output_type": "stream",
     "text": [
      "ERROR:root:Invalid alias: The name clear can't be aliased because it is another magic command.\n",
      "ERROR:root:Invalid alias: The name more can't be aliased because it is another magic command.\n",
      "ERROR:root:Invalid alias: The name less can't be aliased because it is another magic command.\n",
      "ERROR:root:Invalid alias: The name man can't be aliased because it is another magic command.\n"
     ]
    }
   ],
   "source": [
    "# from elephas.ml_model import ElephasEstimator\n",
    "# estimator = ElephasEstimator(model,epochs=50,batch_size=32)\n",
    "# # lrModel = estimator.fit(df_feature)\n",
    "# # from elephas.spark_model import SparkModel\n",
    "# # spark_model = SparkModel(model,frequency=\"epoch\")\n",
    "# # spark_model.fit(df_feature.select(\"features\",\"label\").rdd,epochs=20,batch_size=32)"
   ]
  },
  {
   "cell_type": "code",
   "execution_count": 47,
   "metadata": {},
   "outputs": [],
   "source": [
    "lr = LinearRegression(solver=\"auto\",loss = \"huber\")\n",
    "lrModel = lr.fit(df_feature)"
   ]
  },
  {
   "cell_type": "code",
   "execution_count": 48,
   "metadata": {},
   "outputs": [
    {
     "data": {
      "text/plain": [
       "[Row(date=datetime.date(2013, 10, 22), hour=12, 0=344.02265898774357, 1=34.102411067602915, 2=312.0785311953068, 3=11.180294335543362, 4=376.31510039567496, 5=96.34104801098275, 6=147.23699363130535, 7=187.27927530400413, label=1516.204, features=DenseVector([0.3681, 0.5136, 0.4581, 0.0179, 0.3516, 0.4564, 0.4572, 0.3731]))]"
      ]
     },
     "execution_count": 48,
     "metadata": {},
     "output_type": "execute_result"
    }
   ],
   "source": [
    "df_feature.take(1)"
   ]
  },
  {
   "cell_type": "markdown",
   "metadata": {},
   "source": [
    "## Perform CLuster+RF+LR"
   ]
  },
  {
   "cell_type": "code",
   "execution_count": 49,
   "metadata": {},
   "outputs": [],
   "source": [
    "def get_aggregate_LR(pred_val,lrModel):\n",
    "    pred_val = pred_val.select(\"date\",\"hour\",\"cluster_id\",\"prediction\",\"label\")\n",
    "    LR_pivot = pred_val.groupBy(\"date\",\"hour\").pivot(\"cluster_id\").agg(first(\"prediction\"))\n",
    "    LR_actual = pred_val.groupBy(\"date\",\"hour\").sum(\"label\")\n",
    "    LR_feature = LR_pivot.join(LR_actual,[\"date\",\"hour\"])\n",
    "    LR_feature = LR_feature.withColumnRenamed(\"sum(label)\",\"label\")\n",
    "    feature_col = LR_feature.columns\n",
    "    feature_col = feature_col[2:10]\n",
    "    vecAssembler = VectorAssembler(inputCols=feature_col, outputCol=\"features\")\n",
    "    df_feature = vecAssembler.transform(LR_feature)\n",
    "    scaler = MinMaxScaler(inputCol=\"features\",outputCol=\"scaled_features\")\n",
    "    df_feature = scaler.fit(df_feature).transform(df_feature)\n",
    "    df_feature = df_feature.drop(\"features\")\n",
    "    df_feature = df_feature.withColumnRenamed(\"scaled_features\",\"features\")\n",
    "    lr_prediction = lrModel.transform(df_feature)\n",
    "    return lr_prediction"
   ]
  },
  {
   "cell_type": "code",
   "execution_count": 50,
   "metadata": {
    "scrolled": true
   },
   "outputs": [
    {
     "name": "stdout",
     "output_type": "stream",
     "text": [
      "[478.97576574571644,95.60007528996601,69.4434004129869,214.39444896233232,803.8956864678642,177.97158342663855,286.01789145698984,61.406618304282226]\n",
      "root\n",
      " |-- date: date (nullable = true)\n",
      " |-- hour: integer (nullable = true)\n",
      " |-- 0: double (nullable = true)\n",
      " |-- 1: double (nullable = true)\n",
      " |-- 2: double (nullable = true)\n",
      " |-- 3: double (nullable = true)\n",
      " |-- 4: double (nullable = true)\n",
      " |-- 5: double (nullable = true)\n",
      " |-- 6: double (nullable = true)\n",
      " |-- 7: double (nullable = true)\n",
      " |-- label: double (nullable = true)\n",
      " |-- features: vector (nullable = true)\n",
      " |-- prediction: double (nullable = false)\n",
      "\n"
     ]
    }
   ],
   "source": [
    "aggregate_df = get_aggregate_LR(pred_val,lrModel)\n",
    "print(lrModel.coefficients)\n",
    "aggregate_df.printSchema()\n",
    "# aggregate_df = aggregate_df.withColumnRenamed(\"sum(label)\",\"label\")\n",
    "# aggregate_df = aggregate_df.withColumnRenamed(\"sum(prediction)\",\"prediction\")"
   ]
  },
  {
   "cell_type": "code",
   "execution_count": 51,
   "metadata": {
    "scrolled": true
   },
   "outputs": [
    {
     "name": "stdout",
     "output_type": "stream",
     "text": [
      "2013-11-01\n",
      "2013-11-02\n",
      "2013-11-03\n",
      "2013-11-04\n",
      "2013-11-05\n",
      "2013-11-06\n",
      "2013-11-07\n",
      "2013-11-08\n",
      "2013-11-09\n",
      "2013-11-10\n",
      "2013-11-11\n",
      "2013-11-12\n",
      "2013-11-13\n",
      "2013-11-14\n",
      "2013-11-15\n",
      "2013-11-16\n",
      "2013-11-17\n",
      "2013-11-18\n",
      "2013-11-19\n",
      "2013-11-20\n",
      "2013-11-21\n",
      "2013-11-22\n",
      "2013-11-23\n",
      "2013-11-24\n",
      "2013-11-25\n",
      "2013-11-26\n",
      "2013-11-27\n",
      "2013-11-28\n",
      "2013-11-29\n",
      "2013-11-30\n",
      "2013-12-01\n",
      "2013-12-02\n",
      "2013-12-03\n",
      "2013-12-04\n",
      "2013-12-05\n",
      "2013-12-06\n",
      "2013-12-07\n",
      "2013-12-08\n",
      "2013-12-09\n",
      "2013-12-10\n",
      "2013-12-11\n",
      "2013-12-12\n",
      "2013-12-13\n",
      "2013-12-14\n",
      "2013-12-15\n",
      "2013-12-16\n",
      "2013-12-17\n",
      "2013-12-18\n",
      "2013-12-19\n",
      "2013-12-20\n",
      "2013-12-21\n",
      "2013-12-22\n",
      "2013-12-23\n",
      "2013-12-24\n",
      "2013-12-25\n",
      "2013-12-26\n",
      "2013-12-27\n",
      "2013-12-28\n",
      "2013-12-29\n",
      "2013-12-30\n",
      "2013-12-31\n"
     ]
    }
   ],
   "source": [
    "train_start_date = date(2013,11,1)\n",
    "train_end_date = date(2013,12,31)\n",
    "y_date = []\n",
    "Mape_date = []\n",
    "rmse_date = []\n",
    "while train_start_date <= train_end_date:\n",
    "    print(train_start_date)\n",
    "    y_actual,y_pred = select_predicted_actual(aggregate_df,train_start_date)\n",
    "    if len(y_actual) == 0:\n",
    "        train_start_date = train_start_date + timedelta(1)\n",
    "        continue\n",
    "    Mape_date.append(mean_absolute_percentage_error(y_actual,y_pred))\n",
    "    rmse_date.append(root_mean_squared_error(y_actual,y_pred))\n",
    "    y_date.append(train_start_date)\n",
    "    train_start_date = train_start_date + timedelta(1)"
   ]
  },
  {
   "cell_type": "code",
   "execution_count": 52,
   "metadata": {},
   "outputs": [
    {
     "data": {
      "text/plain": [
       "[<matplotlib.lines.Line2D at 0x7f91f0ca25f8>]"
      ]
     },
     "execution_count": 52,
     "metadata": {},
     "output_type": "execute_result"
    },
    {
     "data": {
      "image/png": "[encoded data removed]",
      "text/plain": [
       "<Figure size 576x432 with 2 Axes>"
      ]
     },
     "metadata": {
      "needs_background": "light"
     },
     "output_type": "display_data"
    }
   ],
   "source": [
    "#del y_date[2]\n",
    "# fig, (ax1,ax2) = plt.subplots(1,2, figsize =(8,6))\n",
    "# ax1.xaxis.set_major_formatter(mdates.DateFormatter('%m/%d/%Y'))\n",
    "# ax1.xaxis.set_major_locator(mdates.DayLocator())\n",
    "# ax2.xaxis.set_major_formatter(mdates.DateFormatter('%m/%d/%Y'))\n",
    "# ax2.xaxis.set_major_locator(mdates.DayLocator())\n",
    "# ax1.plot(y_date,Mape_date)\n",
    "# ax2.plot(y_date,rmse_date)\n",
    "# fig.autofmt_xdate()\n",
    "# ax1.set_xlabel('k')\n",
    "# ax1.set_ylabel('cost')\n",
    "date_time = pd.to_datetime(y_date)\n",
    "DF = pd.DataFrame()\n",
    "DF['Mape_date'] = Mape_date\n",
    "DF = DF.set_index(date_time)\n",
    "\n",
    "DF1 = pd.DataFrame()\n",
    "DF1['rmse_date'] = rmse_date\n",
    "DF1 = DF1.set_index(date_time)\n",
    "fig, (ax1,ax2) = plt.subplots(1,2, figsize =(8,6))\n",
    "fig.subplots_adjust(bottom=0.3,wspace = 0.3)\n",
    "error = [\"MAPE\",\"RMSE\"]\n",
    "cnt = 0\n",
    "for ax in fig.axes:\n",
    "    plt.sca(ax)\n",
    "    plt.xticks(rotation=90)\n",
    "    plt.xlabel(\"Day\")\n",
    "    plt.ylabel(error[cnt])\n",
    "    cnt += 1\n",
    "ax1.plot(DF)\n",
    "ax2.plot(DF1)"
   ]
  },
  {
   "cell_type": "code",
   "execution_count": 53,
   "metadata": {
    "scrolled": true
   },
   "outputs": [
    {
     "name": "stdout",
     "output_type": "stream",
     "text": [
      "Mean RMSE = 261.8336723907792, Mean Mape = 11.364451988937452\n"
     ]
    }
   ],
   "source": [
    "from statistics import mean\n",
    "print(\"Mean RMSE = {}, Mean Mape = {}\".format(mean(rmse_date),mean(Mape_date)))"
   ]
  },
  {
   "cell_type": "code",
   "execution_count": 39,
   "metadata": {},
   "outputs": [
    {
     "data": {
      "text/html": [
       "<div>\n",
       "<style scoped>\n",
       "    .dataframe tbody tr th:only-of-type {\n",
       "        vertical-align: middle;\n",
       "    }\n",
       "\n",
       "    .dataframe tbody tr th {\n",
       "        vertical-align: top;\n",
       "    }\n",
       "\n",
       "    .dataframe thead th {\n",
       "        text-align: right;\n",
       "    }\n",
       "</style>\n",
       "<table border=\"1\" class=\"dataframe\">\n",
       "  <thead>\n",
       "    <tr style=\"text-align: right;\">\n",
       "      <th></th>\n",
       "      <th>label</th>\n",
       "      <th>prediction</th>\n",
       "    </tr>\n",
       "  </thead>\n",
       "  <tbody>\n",
       "    <tr>\n",
       "      <th>0</th>\n",
       "      <td>1673.318</td>\n",
       "      <td>1432.482789</td>\n",
       "    </tr>\n",
       "    <tr>\n",
       "      <th>1</th>\n",
       "      <td>1770.985</td>\n",
       "      <td>1443.964637</td>\n",
       "    </tr>\n",
       "    <tr>\n",
       "      <th>2</th>\n",
       "      <td>2698.482</td>\n",
       "      <td>2303.040835</td>\n",
       "    </tr>\n",
       "    <tr>\n",
       "      <th>3</th>\n",
       "      <td>1620.043</td>\n",
       "      <td>1352.062822</td>\n",
       "    </tr>\n",
       "    <tr>\n",
       "      <th>4</th>\n",
       "      <td>1242.961</td>\n",
       "      <td>1032.584991</td>\n",
       "    </tr>\n",
       "  </tbody>\n",
       "</table>\n",
       "</div>"
      ],
      "text/plain": [
       "      label   prediction\n",
       "0  1673.318  1432.482789\n",
       "1  1770.985  1443.964637\n",
       "2  2698.482  2303.040835\n",
       "3  1620.043  1352.062822\n",
       "4  1242.961  1032.584991"
      ]
     },
     "execution_count": 39,
     "metadata": {},
     "output_type": "execute_result"
    }
   ],
   "source": [
    "actual_predicted = aggregate_df.where((aggregate_df.date==date(2013,11,29))).select(\"label\",\"prediction\").toPandas()\n",
    "actual_predicted.head()"
   ]
  },
  {
   "cell_type": "code",
   "execution_count": 40,
   "metadata": {},
   "outputs": [
    {
     "data": {
      "text/plain": [
       "Text(0, 0.5, 'Load (Kw/h)')"
      ]
     },
     "execution_count": 40,
     "metadata": {},
     "output_type": "execute_result"
    },
    {
     "data": {
      "image/png": "[encoded data removed]",
      "text/plain": [
       "<Figure size 432x288 with 1 Axes>"
      ]
     },
     "metadata": {
      "needs_background": "light"
     },
     "output_type": "display_data"
    }
   ],
   "source": [
    "ax = actual_predicted.plot()\n",
    "ax.set_xlabel(\"Hour of Day\")\n",
    "ax.set_ylabel(\"Load (Kw/h)\")"
   ]
  },
  {
   "cell_type": "code",
   "execution_count": null,
   "metadata": {},
   "outputs": [],
   "source": []
  }
 ],
 "metadata": {
  "kernelspec": {
   "display_name": "Python 3",
   "language": "python",
   "name": "python3"
  },
  "language_info": {
   "codemirror_mode": {
    "name": "ipython",
    "version": 3
   },
   "file_extension": ".py",
   "mimetype": "text/x-python",
   "name": "python",
   "nbconvert_exporter": "python",
   "pygments_lexer": "ipython3",
   "version": "3.5.2+"
  }
 },
 "nbformat": 4,
 "nbformat_minor": 2
}
