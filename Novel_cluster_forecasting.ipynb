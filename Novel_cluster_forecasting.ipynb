{
 "cells": [
  {
   "cell_type": "code",
   "execution_count": 128,
   "metadata": {},
   "outputs": [],
   "source": [
    "from pyspark.sql import SQLContext\n",
    "from pyspark.sql import functions as sf\n",
    "from pyspark.ml.feature import StandardScaler, MinMaxScaler\n",
    "from pyspark.ml.feature import OneHotEncoder\n",
    "from pyspark.ml.feature import VectorAssembler\n",
    "from pyspark.sql.types import DateType\n",
    "from datetime import date, timedelta\n",
    "import datetime as dt\n",
    "from pyspark.ml.tuning import ParamGridBuilder, TrainValidationSplit\n",
    "from pyspark.ml.regression import RandomForestRegressor\n",
    "from pyspark.ml.evaluation import RegressionEvaluator\n",
    "from pyspark.ml.regression import GBTRegressor\n",
    "from pyspark.sql.functions import col, avg, sum, first\n",
    "import numpy as np\n",
    "import matplotlib.dates as mdates\n",
    "from matplotlib import pyplot as plt\n",
    "import pandas as pd\n",
    "from pyspark.ml.regression import LinearRegression\n",
    "import pyspark"
   ]
  },
  {
   "cell_type": "code",
   "execution_count": 129,
   "metadata": {},
   "outputs": [],
   "source": [
    "log4jLogger = sc._jvm.org.apache.log4j\n",
    "LOGGER = log4jLogger.LogManager.getLogger(__name__)\n",
    "LOGGER.error(\"pyspark script logger initialized\")"
   ]
  },
  {
   "cell_type": "code",
   "execution_count": 130,
   "metadata": {},
   "outputs": [
    {
     "data": {
      "text/html": [
       "\n",
       "        <div>\n",
       "            <p><b>SparkContext</b></p>\n",
       "\n",
       "            <p><a href=\"http://master:4043\">Spark UI</a></p>\n",
       "\n",
       "            <dl>\n",
       "              <dt>Version</dt>\n",
       "                <dd><code>v2.4.0</code></dd>\n",
       "              <dt>Master</dt>\n",
       "                <dd><code>spark://172.16.27.208:7077</code></dd>\n",
       "              <dt>AppName</dt>\n",
       "                <dd><code>spark</code></dd>\n",
       "            </dl>\n",
       "        </div>\n",
       "        "
      ],
      "text/plain": [
       "<SparkContext master=spark://172.16.27.208:7077 appName=spark>"
      ]
     },
     "execution_count": 130,
     "metadata": {},
     "output_type": "execute_result"
    }
   ],
   "source": [
    "sc.stop()\n",
    "sc = pyspark.SparkContext(master=\"spark://172.16.27.208:7077\",appName=\"spark\")\n",
    "sc"
   ]
  },
  {
   "cell_type": "code",
   "execution_count": 131,
   "metadata": {},
   "outputs": [],
   "source": [
    "base_path = \"/home/test5/Desktop/smart-meters-in-london/\"\n",
    "sqlcontext = SQLContext(sc)"
   ]
  },
  {
   "cell_type": "code",
   "execution_count": 132,
   "metadata": {},
   "outputs": [
    {
     "name": "stdout",
     "output_type": "stream",
     "text": [
      "root\n",
      " |-- _c0: integer (nullable = true)\n",
      " |-- cluster_id: integer (nullable = true)\n",
      " |-- date: timestamp (nullable = true)\n",
      " |-- hour: integer (nullable = true)\n",
      " |-- energy(kWh/h): double (nullable = true)\n",
      " |-- month: integer (nullable = true)\n",
      " |-- weekDay: string (nullable = true)\n",
      " |-- 1_diff_energy_t_0: double (nullable = true)\n",
      " |-- 2_diff_energy_t_0: double (nullable = true)\n",
      " |-- 3_diff_energy_t_0: double (nullable = true)\n",
      " |-- 4_diff_energy_t_0: double (nullable = true)\n",
      " |-- 5_diff_energy_t_0: double (nullable = true)\n",
      " |-- 6_diff_energy_t_0: double (nullable = true)\n",
      " |-- 7_diff_energy_t_0: double (nullable = true)\n",
      " |-- 1_diff_energy_t_1: double (nullable = true)\n",
      " |-- 2_diff_energy_t_1: double (nullable = true)\n",
      " |-- 3_diff_energy_t_1: double (nullable = true)\n",
      " |-- 4_diff_energy_t_1: double (nullable = true)\n",
      " |-- 5_diff_energy_t_1: double (nullable = true)\n",
      " |-- 6_diff_energy_t_1: double (nullable = true)\n",
      " |-- 7_diff_energy_t_1: double (nullable = true)\n",
      " |-- 1_diff_energy_t_2: double (nullable = true)\n",
      " |-- 2_diff_energy_t_2: double (nullable = true)\n",
      " |-- 3_diff_energy_t_2: double (nullable = true)\n",
      " |-- 4_diff_energy_t_2: double (nullable = true)\n",
      " |-- 5_diff_energy_t_2: double (nullable = true)\n",
      " |-- 6_diff_energy_t_2: double (nullable = true)\n",
      " |-- 7_diff_energy_t_2: double (nullable = true)\n",
      " |-- diff_energy_week_t_1: double (nullable = true)\n",
      " |-- diff_energy_week_t_2: double (nullable = true)\n",
      " |-- diff_energy_week_t_3: double (nullable = true)\n",
      " |-- diff_energy_week_t_4: double (nullable = true)\n",
      " |-- rnk: integer (nullable = true)\n",
      " |-- mean_1: double (nullable = true)\n",
      " |-- mean_2: double (nullable = true)\n",
      " |-- mean_3: double (nullable = true)\n",
      " |-- mean_4: double (nullable = true)\n",
      " |-- mean_5: double (nullable = true)\n",
      " |-- mean_6: double (nullable = true)\n",
      " |-- mean_7: double (nullable = true)\n",
      " |-- min_1: double (nullable = true)\n",
      " |-- max_1: double (nullable = true)\n",
      " |-- min_2: double (nullable = true)\n",
      " |-- max_2: double (nullable = true)\n",
      " |-- min_3: double (nullable = true)\n",
      " |-- max_3: double (nullable = true)\n",
      " |-- min_4: double (nullable = true)\n",
      " |-- max_4: double (nullable = true)\n",
      " |-- min_5: double (nullable = true)\n",
      " |-- max_5: double (nullable = true)\n",
      " |-- min_6: double (nullable = true)\n",
      " |-- max_6: double (nullable = true)\n",
      " |-- min_7: double (nullable = true)\n",
      " |-- max_7: double (nullable = true)\n",
      " |-- visibility: double (nullable = true)\n",
      " |-- windBearing: integer (nullable = true)\n",
      " |-- dewPoint: double (nullable = true)\n",
      " |-- pressure: double (nullable = true)\n",
      " |-- apparentTemperature: double (nullable = true)\n",
      " |-- windSpeed: double (nullable = true)\n",
      " |-- precipType: string (nullable = true)\n",
      " |-- humidity: double (nullable = true)\n",
      " |-- summary: string (nullable = true)\n",
      " |-- date2: timestamp (nullable = true)\n",
      " |-- temperatureMax: double (nullable = true)\n",
      " |-- temperatureMin: double (nullable = true)\n",
      " |-- holiday: integer (nullable = true)\n",
      " |-- Weekday/end: integer (nullable = true)\n",
      " |-- weekDay_index: double (nullable = true)\n",
      " |-- precipType_index: double (nullable = true)\n",
      " |-- summary_index: double (nullable = true)\n",
      "\n"
     ]
    }
   ],
   "source": [
    "cluster_feature = sqlcontext.read.csv(path=base_path+\"bk=8_means_Feature.csv\",header=True,inferSchema=True)\n",
    "# cluster_feature = cluster_feature.drop(\"_c0\",\"date2\",\"diff_energy_week_t_1\",\"rnk\",\"month\")\n",
    "# cluster_feature = cluster_feature.withColumn(\"windSpeed\",cluster_feature[\"windSpeed\"].cast(\"float\"))\n",
    "# cluster_feature = cluster_feature.withColumn(\"dewPoint\",cluster_feature[\"dewPoint\"].cast(\"float\"))\n",
    "cluster_feature.printSchema()"
   ]
  },
  {
   "cell_type": "code",
   "execution_count": 133,
   "metadata": {},
   "outputs": [
    {
     "name": "stdout",
     "output_type": "stream",
     "text": [
      "+-------------+\n",
      "|energy(kWh/h)|\n",
      "+-------------+\n",
      "|      265.413|\n",
      "|       217.73|\n",
      "|      176.672|\n",
      "|      151.297|\n",
      "|      139.542|\n",
      "|      140.463|\n",
      "|      152.272|\n",
      "|      171.886|\n",
      "|      212.541|\n",
      "|      261.072|\n",
      "+-------------+\n",
      "only showing top 10 rows\n",
      "\n"
     ]
    }
   ],
   "source": [
    "cluster_feature.where(cluster_feature.cluster_id == 1).select(\"energy(kWh/h)\").show(10)"
   ]
  },
  {
   "cell_type": "code",
   "execution_count": 134,
   "metadata": {},
   "outputs": [
    {
     "name": "stdout",
     "output_type": "stream",
     "text": [
      "+----------+-----+\n",
      "|cluster_id|count|\n",
      "+----------+-----+\n",
      "|         1|  940|\n",
      "|         6|   75|\n",
      "|         3|  652|\n",
      "|         5|  209|\n",
      "|         4|  501|\n",
      "|         7|   14|\n",
      "|         2|  738|\n",
      "|         0|  801|\n",
      "+----------+-----+\n",
      "\n"
     ]
    }
   ],
   "source": [
    "cluster_feature1 = sqlcontext.read.csv(path=base_path+\"cluster_info_b-k_means_k-8.csv\",header=True,inferSchema=True)\n",
    "#cluster_feature1.where(cluster_feature1.cluster_id==7).select(\"LCLid\").show()\n",
    "cluster_feature1.groupBy(\"cluster_id\").count().show()"
   ]
  },
  {
   "cell_type": "code",
   "execution_count": 135,
   "metadata": {},
   "outputs": [
    {
     "data": {
      "text/plain": [
       "[Row(cluster_id=1, date=datetime.datetime(2013, 1, 1, 0, 0), hour=0, energy(kWh/h)=265.413, weekDay='Tue', 1_diff_energy_t_0=230.108, 2_diff_energy_t_0=242.838, 3_diff_energy_t_0=239.363, 4_diff_energy_t_0=231.928, 5_diff_energy_t_0=230.906, 6_diff_energy_t_0=236.636, 7_diff_energy_t_0=235.955, 1_diff_energy_t_1=278.6, 2_diff_energy_t_1=282.455, 3_diff_energy_t_1=289.14, 4_diff_energy_t_1=281.541, 5_diff_energy_t_1=268.213, 6_diff_energy_t_1=272.572, 7_diff_energy_t_1=277.427, 1_diff_energy_t_2=346.241, 2_diff_energy_t_2=334.529, 3_diff_energy_t_2=342.058, 4_diff_energy_t_2=342.666, 5_diff_energy_t_2=326.166, 6_diff_energy_t_2=304.912, 7_diff_energy_t_2=333.314, diff_energy_week_t_2=217.882, diff_energy_week_t_3=218.23, diff_energy_week_t_4=212.166, rnk=32, mean_1=283.6334583333333, mean_2=283.55745833333333, mean_3=283.9150833333333, mean_4=279.71179166666667, mean_5=276.9005, mean_6=269.6797916666667, mean_7=286.57225, min_1=136.298, max_1=468.535, min_2=133.018, max_2=438.373, min_3=130.779, max_3=461.318, min_4=132.471, max_4=443.296, min_5=129.196, max_5=438.833, min_6=132.342, max_6=392.676, min_7=134.089, max_7=407.235, visibility=13.28, windBearing=269, dewPoint=2.6, pressure=1008.19, apparentTemperature=3.66, windSpeed=5.46, precipType='rain', humidity=0.73, summary='Partly Cloudy', temperatureMax=7.49, temperatureMin=3.31, weekDay_index=5.0, precipType_index=0.0, summary_index=2.0, holiday=1)]"
      ]
     },
     "execution_count": 135,
     "metadata": {},
     "output_type": "execute_result"
    }
   ],
   "source": [
    "cluster_feature = cluster_feature.withColumn(\"holiday1\",sf.when((col(\"Weekday/end\")==1) | (col(\"holiday\")==1),1).otherwise(0))\n",
    "cluster_feature = cluster_feature.drop(\"_c0\",\"diff_energy_week_t_1\",\"date2\",\"holiday\",\"month\",\"Weekday/end\")\n",
    "cluster_feature = cluster_feature.withColumnRenamed(\"holiday1\",\"holiday\")\n",
    "cluster_feature.take(1)"
   ]
  },
  {
   "cell_type": "code",
   "execution_count": 136,
   "metadata": {},
   "outputs": [
    {
     "name": "stdout",
     "output_type": "stream",
     "text": [
      "root\n",
      " |-- cluster_id: integer (nullable = true)\n",
      " |-- date: timestamp (nullable = true)\n",
      " |-- hour: integer (nullable = true)\n",
      " |-- energy(kWh/h): double (nullable = true)\n",
      " |-- weekDay: string (nullable = true)\n",
      " |-- 1_diff_energy_t_0: double (nullable = true)\n",
      " |-- 2_diff_energy_t_0: double (nullable = true)\n",
      " |-- 3_diff_energy_t_0: double (nullable = true)\n",
      " |-- 4_diff_energy_t_0: double (nullable = true)\n",
      " |-- 5_diff_energy_t_0: double (nullable = true)\n",
      " |-- 6_diff_energy_t_0: double (nullable = true)\n",
      " |-- 7_diff_energy_t_0: double (nullable = true)\n",
      " |-- 1_diff_energy_t_1: double (nullable = true)\n",
      " |-- 2_diff_energy_t_1: double (nullable = true)\n",
      " |-- 3_diff_energy_t_1: double (nullable = true)\n",
      " |-- 4_diff_energy_t_1: double (nullable = true)\n",
      " |-- 5_diff_energy_t_1: double (nullable = true)\n",
      " |-- 6_diff_energy_t_1: double (nullable = true)\n",
      " |-- 7_diff_energy_t_1: double (nullable = true)\n",
      " |-- 1_diff_energy_t_2: double (nullable = true)\n",
      " |-- 2_diff_energy_t_2: double (nullable = true)\n",
      " |-- 3_diff_energy_t_2: double (nullable = true)\n",
      " |-- 4_diff_energy_t_2: double (nullable = true)\n",
      " |-- 5_diff_energy_t_2: double (nullable = true)\n",
      " |-- 6_diff_energy_t_2: double (nullable = true)\n",
      " |-- 7_diff_energy_t_2: double (nullable = true)\n",
      " |-- diff_energy_week_t_2: double (nullable = true)\n",
      " |-- diff_energy_week_t_3: double (nullable = true)\n",
      " |-- diff_energy_week_t_4: double (nullable = true)\n",
      " |-- mean_1: double (nullable = true)\n",
      " |-- mean_2: double (nullable = true)\n",
      " |-- mean_3: double (nullable = true)\n",
      " |-- mean_4: double (nullable = true)\n",
      " |-- mean_5: double (nullable = true)\n",
      " |-- mean_6: double (nullable = true)\n",
      " |-- mean_7: double (nullable = true)\n",
      " |-- min_1: double (nullable = true)\n",
      " |-- max_1: double (nullable = true)\n",
      " |-- min_2: double (nullable = true)\n",
      " |-- max_2: double (nullable = true)\n",
      " |-- min_3: double (nullable = true)\n",
      " |-- max_3: double (nullable = true)\n",
      " |-- min_4: double (nullable = true)\n",
      " |-- max_4: double (nullable = true)\n",
      " |-- min_5: double (nullable = true)\n",
      " |-- max_5: double (nullable = true)\n",
      " |-- min_6: double (nullable = true)\n",
      " |-- max_6: double (nullable = true)\n",
      " |-- min_7: double (nullable = true)\n",
      " |-- max_7: double (nullable = true)\n",
      " |-- visibility: double (nullable = true)\n",
      " |-- windBearing: integer (nullable = true)\n",
      " |-- dewPoint: double (nullable = true)\n",
      " |-- pressure: double (nullable = true)\n",
      " |-- apparentTemperature: double (nullable = true)\n",
      " |-- windSpeed: double (nullable = true)\n",
      " |-- precipType: string (nullable = true)\n",
      " |-- humidity: double (nullable = true)\n",
      " |-- summary: string (nullable = true)\n",
      " |-- temperatureMax: double (nullable = true)\n",
      " |-- temperatureMin: double (nullable = true)\n",
      " |-- weekDay_index: double (nullable = true)\n",
      " |-- precipType_index: double (nullable = true)\n",
      " |-- summary_index: double (nullable = true)\n",
      " |-- holiday: integer (nullable = false)\n",
      " |-- category_weekDay_index: vector (nullable = true)\n",
      " |-- category_precipType_index: vector (nullable = true)\n",
      " |-- category_summary_index: vector (nullable = true)\n",
      "\n"
     ]
    }
   ],
   "source": [
    "outputCols = [\"weekDay_index\",\"precipType_index\",\"summary_index\"]\n",
    "df_encoded = cluster_feature\n",
    "df_encoded = df_encoded.na.drop()\n",
    "for col in outputCols: \n",
    "    encoder = OneHotEncoder(inputCol=col, outputCol=\"category_{}\".format(col))\n",
    "    df_encoded = encoder.transform(df_encoded).cache()\n",
    "df_encoded = df_encoded.drop(\"rnk\")\n",
    "df_encoded.printSchema()"
   ]
  },
  {
   "cell_type": "code",
   "execution_count": 137,
   "metadata": {},
   "outputs": [
    {
     "data": {
      "text/plain": [
       "59"
      ]
     },
     "execution_count": 137,
     "metadata": {},
     "output_type": "execute_result"
    }
   ],
   "source": [
    "inputCols = [\"weekDay\",\"precipType\",\"summary\",]\n",
    "columns = df_encoded.columns\n",
    "feature_col = columns[4:]\n",
    "feature_col.append(columns[2])\n",
    "feature_col = set(feature_col) - set(inputCols)\n",
    "feature_col = feature_col - set(outputCols)\n",
    "feature_col = list(feature_col)\n",
    "df_encoded = df_encoded.na.drop()\n",
    "len(feature_col)"
   ]
  },
  {
   "cell_type": "code",
   "execution_count": 138,
   "metadata": {},
   "outputs": [
    {
     "data": {
      "text/plain": [
       "['humidity',\n",
       " 'category_weekDay_index',\n",
       " 'min_7',\n",
       " 'max_3',\n",
       " 'max_4',\n",
       " 'windSpeed',\n",
       " 'pressure',\n",
       " '5_diff_energy_t_1',\n",
       " '7_diff_energy_t_2',\n",
       " 'diff_energy_week_t_4',\n",
       " 'mean_1',\n",
       " 'max_6',\n",
       " '1_diff_energy_t_2',\n",
       " '3_diff_energy_t_0',\n",
       " 'max_1',\n",
       " 'min_6',\n",
       " '3_diff_energy_t_2',\n",
       " 'mean_4',\n",
       " 'hour',\n",
       " '5_diff_energy_t_0',\n",
       " 'mean_2',\n",
       " 'min_1',\n",
       " 'holiday',\n",
       " '4_diff_energy_t_0',\n",
       " '6_diff_energy_t_0',\n",
       " 'min_3',\n",
       " 'category_summary_index',\n",
       " 'min_2',\n",
       " '4_diff_energy_t_2',\n",
       " 'mean_3',\n",
       " 'diff_energy_week_t_2',\n",
       " 'temperatureMin',\n",
       " 'mean_5',\n",
       " 'diff_energy_week_t_3',\n",
       " '7_diff_energy_t_1',\n",
       " 'visibility',\n",
       " '2_diff_energy_t_2',\n",
       " '1_diff_energy_t_1',\n",
       " 'windBearing',\n",
       " '7_diff_energy_t_0',\n",
       " 'min_5',\n",
       " 'mean_6',\n",
       " 'max_7',\n",
       " 'dewPoint',\n",
       " '3_diff_energy_t_1',\n",
       " '6_diff_energy_t_1',\n",
       " 'mean_7',\n",
       " 'min_4',\n",
       " '2_diff_energy_t_0',\n",
       " '1_diff_energy_t_0',\n",
       " 'max_2',\n",
       " 'apparentTemperature',\n",
       " '5_diff_energy_t_2',\n",
       " 'temperatureMax',\n",
       " 'category_precipType_index',\n",
       " '4_diff_energy_t_1',\n",
       " 'max_5',\n",
       " '6_diff_energy_t_2',\n",
       " '2_diff_energy_t_1']"
      ]
     },
     "execution_count": 138,
     "metadata": {},
     "output_type": "execute_result"
    }
   ],
   "source": [
    "feature_col"
   ]
  },
  {
   "cell_type": "code",
   "execution_count": 139,
   "metadata": {},
   "outputs": [
    {
     "data": {
      "text/plain": [
       "[Row(cluster_id=1, date=datetime.datetime(2013, 1, 1, 0, 0), hour=0, energy(kWh/h)=265.413, weekDay='Tue', 1_diff_energy_t_0=230.108, 2_diff_energy_t_0=242.838, 3_diff_energy_t_0=239.363, 4_diff_energy_t_0=231.928, 5_diff_energy_t_0=230.906, 6_diff_energy_t_0=236.636, 7_diff_energy_t_0=235.955, 1_diff_energy_t_1=278.6, 2_diff_energy_t_1=282.455, 3_diff_energy_t_1=289.14, 4_diff_energy_t_1=281.541, 5_diff_energy_t_1=268.213, 6_diff_energy_t_1=272.572, 7_diff_energy_t_1=277.427, 1_diff_energy_t_2=346.241, 2_diff_energy_t_2=334.529, 3_diff_energy_t_2=342.058, 4_diff_energy_t_2=342.666, 5_diff_energy_t_2=326.166, 6_diff_energy_t_2=304.912, 7_diff_energy_t_2=333.314, diff_energy_week_t_2=217.882, diff_energy_week_t_3=218.23, diff_energy_week_t_4=212.166, mean_1=283.6334583333333, mean_2=283.55745833333333, mean_3=283.9150833333333, mean_4=279.71179166666667, mean_5=276.9005, mean_6=269.6797916666667, mean_7=286.57225, min_1=136.298, max_1=468.535, min_2=133.018, max_2=438.373, min_3=130.779, max_3=461.318, min_4=132.471, max_4=443.296, min_5=129.196, max_5=438.833, min_6=132.342, max_6=392.676, min_7=134.089, max_7=407.235, visibility=13.28, windBearing=269, dewPoint=2.6, pressure=1008.19, apparentTemperature=3.66, windSpeed=5.46, precipType='rain', humidity=0.73, summary='Partly Cloudy', temperatureMax=7.49, temperatureMin=3.31, weekDay_index=5.0, precipType_index=0.0, summary_index=2.0, holiday=1, category_weekDay_index=SparseVector(6, {5: 1.0}), category_precipType_index=SparseVector(1, {0: 1.0}), category_summary_index=SparseVector(11, {2: 1.0}), features=DenseVector([0.73, 0.0, 0.0, 0.0, 0.0, 0.0, 1.0, 134.089, 461.318, 443.296, 5.46, 1008.19, 268.213, 333.314, 212.166, 283.6335, 392.676, 346.241, 239.363, 468.535, 132.342, 342.058, 279.7118, 0.0, 230.906, 283.5575, 136.298, 1.0, 231.928, 236.636, 130.779, 0.0, 0.0, 1.0, 0.0, 0.0, 0.0, 0.0, 0.0, 0.0, 0.0, 0.0, 133.018, 342.666, 283.9151, 217.882, 3.31, 276.9005, 218.23, 277.427, 13.28, 334.529, 278.6, 269.0, 235.955, 129.196, 269.6798, 407.235, 2.6, 289.14, 272.572, 286.5722, 132.471, 242.838, 230.108, 438.373, 3.66, 326.166, 7.49, 1.0, 281.541, 438.833, 304.912, 282.455]))]"
      ]
     },
     "execution_count": 139,
     "metadata": {},
     "output_type": "execute_result"
    }
   ],
   "source": [
    "vecAssembler = VectorAssembler(inputCols=feature_col, outputCol=\"features\")\n",
    "df_feature = vecAssembler.transform(df_encoded)\n",
    "df_feature.take(1)"
   ]
  },
  {
   "cell_type": "code",
   "execution_count": 140,
   "metadata": {},
   "outputs": [
    {
     "name": "stdout",
     "output_type": "stream",
     "text": [
      "root\n",
      " |-- cluster_id: integer (nullable = true)\n",
      " |-- date: date (nullable = true)\n",
      " |-- hour: integer (nullable = true)\n",
      " |-- label: double (nullable = true)\n",
      " |-- weekDay: string (nullable = true)\n",
      " |-- 1_diff_energy_t_0: double (nullable = true)\n",
      " |-- 2_diff_energy_t_0: double (nullable = true)\n",
      " |-- 3_diff_energy_t_0: double (nullable = true)\n",
      " |-- 4_diff_energy_t_0: double (nullable = true)\n",
      " |-- 5_diff_energy_t_0: double (nullable = true)\n",
      " |-- 6_diff_energy_t_0: double (nullable = true)\n",
      " |-- 7_diff_energy_t_0: double (nullable = true)\n",
      " |-- 1_diff_energy_t_1: double (nullable = true)\n",
      " |-- 2_diff_energy_t_1: double (nullable = true)\n",
      " |-- 3_diff_energy_t_1: double (nullable = true)\n",
      " |-- 4_diff_energy_t_1: double (nullable = true)\n",
      " |-- 5_diff_energy_t_1: double (nullable = true)\n",
      " |-- 6_diff_energy_t_1: double (nullable = true)\n",
      " |-- 7_diff_energy_t_1: double (nullable = true)\n",
      " |-- 1_diff_energy_t_2: double (nullable = true)\n",
      " |-- 2_diff_energy_t_2: double (nullable = true)\n",
      " |-- 3_diff_energy_t_2: double (nullable = true)\n",
      " |-- 4_diff_energy_t_2: double (nullable = true)\n",
      " |-- 5_diff_energy_t_2: double (nullable = true)\n",
      " |-- 6_diff_energy_t_2: double (nullable = true)\n",
      " |-- 7_diff_energy_t_2: double (nullable = true)\n",
      " |-- diff_energy_week_t_2: double (nullable = true)\n",
      " |-- diff_energy_week_t_3: double (nullable = true)\n",
      " |-- diff_energy_week_t_4: double (nullable = true)\n",
      " |-- mean_1: double (nullable = true)\n",
      " |-- mean_2: double (nullable = true)\n",
      " |-- mean_3: double (nullable = true)\n",
      " |-- mean_4: double (nullable = true)\n",
      " |-- mean_5: double (nullable = true)\n",
      " |-- mean_6: double (nullable = true)\n",
      " |-- mean_7: double (nullable = true)\n",
      " |-- min_1: double (nullable = true)\n",
      " |-- max_1: double (nullable = true)\n",
      " |-- min_2: double (nullable = true)\n",
      " |-- max_2: double (nullable = true)\n",
      " |-- min_3: double (nullable = true)\n",
      " |-- max_3: double (nullable = true)\n",
      " |-- min_4: double (nullable = true)\n",
      " |-- max_4: double (nullable = true)\n",
      " |-- min_5: double (nullable = true)\n",
      " |-- max_5: double (nullable = true)\n",
      " |-- min_6: double (nullable = true)\n",
      " |-- max_6: double (nullable = true)\n",
      " |-- min_7: double (nullable = true)\n",
      " |-- max_7: double (nullable = true)\n",
      " |-- visibility: double (nullable = true)\n",
      " |-- windBearing: integer (nullable = true)\n",
      " |-- dewPoint: double (nullable = true)\n",
      " |-- pressure: double (nullable = true)\n",
      " |-- apparentTemperature: double (nullable = true)\n",
      " |-- windSpeed: double (nullable = true)\n",
      " |-- precipType: string (nullable = true)\n",
      " |-- humidity: double (nullable = true)\n",
      " |-- summary: string (nullable = true)\n",
      " |-- temperatureMax: double (nullable = true)\n",
      " |-- temperatureMin: double (nullable = true)\n",
      " |-- weekDay_index: double (nullable = true)\n",
      " |-- precipType_index: double (nullable = true)\n",
      " |-- summary_index: double (nullable = true)\n",
      " |-- holiday: integer (nullable = false)\n",
      " |-- category_weekDay_index: vector (nullable = true)\n",
      " |-- category_precipType_index: vector (nullable = true)\n",
      " |-- category_summary_index: vector (nullable = true)\n",
      " |-- features: vector (nullable = true)\n",
      "\n"
     ]
    }
   ],
   "source": [
    "df_feature = df_feature.withColumnRenamed(\"energy(kWh/h)\",\"label\")\n",
    "df_feature = df_feature.withColumn(\"date\",df_feature[\"date\"].cast(DateType()))\n",
    "df_feature.printSchema()"
   ]
  },
  {
   "cell_type": "markdown",
   "metadata": {},
   "source": [
    "##  actual and Predicted for given day"
   ]
  },
  {
   "cell_type": "code",
   "execution_count": 141,
   "metadata": {},
   "outputs": [],
   "source": [
    "def get_aggregate(df):\n",
    "    list = [\"date\",\"hour\"]\n",
    "    df = df.groupBy(list).agg(sum(\"label\"),sum(\"prediction\"))    \n",
    "    return df\n",
    "\n",
    "def select_predicted_actual(df,date,LCLid=None):\n",
    "    list = []\n",
    "    if LCLid != None:\n",
    "        list = df.where((df[\"LCLid\"] == LCLid) & (df[\"date\"] == date)).select(\"label\",\"prediction\").collect()\n",
    "    else:\n",
    "        list = df.where((df[\"date\"] == date)).select(\"label\",\"prediction\").collect()\n",
    "    actual = [int(row['label']) for row in list]\n",
    "    predicted = [int(row['prediction']) for row in list]\n",
    "    return actual,predicted\n",
    "\n",
    "def mean_absolute_percentage_error(y_true, y_pred): \n",
    "    y_true, y_pred = np.array(y_true), np.array(y_pred)\n",
    "    return np.mean(np.abs((y_true - y_pred) / y_true)) * 100\n",
    "\n",
    "def root_mean_squared_error(y_true, y_pred): \n",
    "    y_true, y_pred = np.array(y_true), np.array(y_pred)\n",
    "    return np.sqrt(np.mean(np.abs((y_true - y_pred)**2)))"
   ]
  },
  {
   "cell_type": "markdown",
   "metadata": {},
   "source": [
    "# Train-Test Split"
   ]
  },
  {
   "cell_type": "code",
   "execution_count": 144,
   "metadata": {},
   "outputs": [
    {
     "name": "stdout",
     "output_type": "stream",
     "text": [
      "Train_point = 6904, Test_point = 1464, cId = 0\n",
      "Train_point = 6904, Test_point = 1464, cId = 1\n",
      "Train_point = 6904, Test_point = 1464, cId = 2\n",
      "Train_point = 6904, Test_point = 1464, cId = 3\n",
      "Train_point = 6904, Test_point = 1464, cId = 4\n",
      "Train_point = 6904, Test_point = 1464, cId = 5\n",
      "Train_point = 6904, Test_point = 1464, cId = 6\n",
      "Train_point = 6904, Test_point = 1464, cId = 7\n"
     ]
    }
   ],
   "source": [
    "train_df_cluster = []\n",
    "val_df_cluster = []\n",
    "test_df_cluster = []\n",
    "num_of_cluster = 8\n",
    "for cluster_id in range(num_of_cluster):\n",
    "    train_df = df_feature.where((df_feature[\"cluster_id\"] == cluster_id) & (df_feature[\"date\"] <= date(2013,10,15)))\n",
    "    val_df = df_feature.where((df_feature[\"cluster_id\"] == cluster_id) & (df_feature[\"date\"] <= date(2013,10,31)) & (df_feature[\"date\"] >= date(2013,10,15)))\n",
    "    test_df = df_feature.where((df_feature[\"cluster_id\"] == cluster_id) & (df_feature[\"date\"] > date(2013,10,31)))# & (df_feature[\"date\"] <= date(2013,1,2)))\n",
    "    print(\"Train_point = {}, Test_point = {}, cId = {}\".format(train_df.count(),test_df.count(),cluster_id))\n",
    "    train_df_cluster.append(train_df)\n",
    "    val_df_cluster.append(val_df)\n",
    "    test_df_cluster.append(test_df)"
   ]
  },
  {
   "cell_type": "markdown",
   "metadata": {},
   "source": [
    "## RF"
   ]
  },
  {
   "cell_type": "code",
   "execution_count": null,
   "metadata": {},
   "outputs": [],
   "source": [
    "pred_val = []\n",
    "#val_pred_val = []\n",
    "flag = 0\n",
    "for cluster_id in range(num_of_cluster):\n",
    "    rf = RandomForestRegressor(numTrees=20,maxDepth=10,maxBins=128,seed=4)\n",
    "    model = rf.fit(train_df_cluster[cluster_id])\n",
    "    rf_pred_val = model.transform(test_df_cluster[cluster_id])\n",
    "    #rf_val_pred_val = model.transform(val_df_cluster[cluster_id])\n",
    "    if flag == 0:\n",
    "        #val_pred_val = sqlcontext.createDataFrame([],rf_val_pred_val.schema)\n",
    "        pred_val = sqlcontext.createDataFrame([],rf_pred_val.schema)\n",
    "        flag = 1\n",
    "    pred_val = pred_val.union(rf_pred_val)\n",
    "    pred_val = pred_val.cache()\n",
    "    #val_pred_val = val_pred_val.union(rf_val_pred_val)\n",
    "    #val_pred_val = val_pred_val.cache()"
   ]
  },
  {
   "cell_type": "markdown",
   "metadata": {},
   "source": [
    "## GBT"
   ]
  },
  {
   "cell_type": "code",
   "execution_count": 145,
   "metadata": {},
   "outputs": [],
   "source": [
    "pred_val = []\n",
    "val_pred_val = []\n",
    "flag = 0\n",
    "for cluster_id in range(num_of_cluster):\n",
    "    gbt = GBTRegressor(maxBins=128,maxDepth=10)\n",
    "    gbt_model = gbt.fit(train_df_cluster[cluster_id])\n",
    "    gbt_pred_val = model.transform(test_df_cluster[cluster_id])\n",
    "    gbt_val_pred_val = model.transform(val_df_cluster[cluster_id])\n",
    "    if flag == 0:\n",
    "        val_pred_val = sqlcontext.createDataFrame([],gbt_val_pred_val.schema)\n",
    "        pred_val = sqlcontext.createDataFrame([],gbt_pred_val.schema)\n",
    "        flag = 1\n",
    "    pred_val = pred_val.union(gbt_pred_val)\n",
    "    pred_val = pred_val.cache()\n",
    "    val_pred_val = val_pred_val.union(gbt_val_pred_val)\n",
    "    val_pred_val = val_pred_val.cache()"
   ]
  },
  {
   "cell_type": "code",
   "execution_count": 146,
   "metadata": {},
   "outputs": [
    {
     "name": "stdout",
     "output_type": "stream",
     "text": [
      "root\n",
      " |-- date: date (nullable = true)\n",
      " |-- hour: integer (nullable = true)\n",
      " |-- cluster_id: integer (nullable = true)\n",
      " |-- prediction: double (nullable = false)\n",
      " |-- label: double (nullable = true)\n",
      "\n"
     ]
    }
   ],
   "source": [
    "val_pred_val = val_pred_val.select(\"date\",\"hour\",\"cluster_id\",\"prediction\",\"label\")\n",
    "val_pred_val.printSchema()\n",
    "#pred_val = pred_val.select(\"date\",\"hour\",\"cluster_id\",\"prediction\",\"label\").orderBy(\"cluster_id\")\n",
    "#pred_val.printSchema()"
   ]
  },
  {
   "cell_type": "code",
   "execution_count": 147,
   "metadata": {},
   "outputs": [
    {
     "name": "stdout",
     "output_type": "stream",
     "text": [
      "root\n",
      " |-- date: date (nullable = true)\n",
      " |-- hour: integer (nullable = true)\n",
      " |-- 0: double (nullable = true)\n",
      " |-- 1: double (nullable = true)\n",
      " |-- 2: double (nullable = true)\n",
      " |-- 3: double (nullable = true)\n",
      " |-- 4: double (nullable = true)\n",
      " |-- 5: double (nullable = true)\n",
      " |-- 6: double (nullable = true)\n",
      " |-- 7: double (nullable = true)\n",
      "\n"
     ]
    }
   ],
   "source": [
    "LR_pivot = val_pred_val.groupBy(\"date\",\"hour\").pivot(\"cluster_id\").agg(first(\"prediction\"))\n",
    "#LR_pivot = pred_val.groupBy(\"date\",\"hour\").pivot(\"cluster_id\").agg(first(\"prediction\"))\n",
    "LR_pivot.printSchema()"
   ]
  },
  {
   "cell_type": "code",
   "execution_count": null,
   "metadata": {},
   "outputs": [],
   "source": [
    "pred_val.where((pred_val[\"date\"] == date(2013,11,10)) & (pred_val[\"hour\"] == 23)).show()\n",
    "LR_pivot.where((LR_pivot[\"date\"] == date(2013,11,10)) & (LR_pivot[\"hour\"] == 23)).show(2)\n"
   ]
  },
  {
   "cell_type": "code",
   "execution_count": 148,
   "metadata": {},
   "outputs": [
    {
     "name": "stdout",
     "output_type": "stream",
     "text": [
      "root\n",
      " |-- date: date (nullable = true)\n",
      " |-- hour: integer (nullable = true)\n",
      " |-- sum(label): double (nullable = true)\n",
      "\n"
     ]
    }
   ],
   "source": [
    "LR_actual = val_pred_val.groupBy(\"date\",\"hour\").sum(\"label\")\n",
    "#LR_actual = pred_val.groupBy(\"date\",\"hour\").sum(\"label\")\n",
    "LR_actual.printSchema()"
   ]
  },
  {
   "cell_type": "code",
   "execution_count": 149,
   "metadata": {},
   "outputs": [
    {
     "name": "stdout",
     "output_type": "stream",
     "text": [
      "root\n",
      " |-- date: date (nullable = true)\n",
      " |-- hour: integer (nullable = true)\n",
      " |-- 0: double (nullable = true)\n",
      " |-- 1: double (nullable = true)\n",
      " |-- 2: double (nullable = true)\n",
      " |-- 3: double (nullable = true)\n",
      " |-- 4: double (nullable = true)\n",
      " |-- 5: double (nullable = true)\n",
      " |-- 6: double (nullable = true)\n",
      " |-- 7: double (nullable = true)\n",
      " |-- label: double (nullable = true)\n",
      "\n"
     ]
    }
   ],
   "source": [
    "LR_feature = LR_pivot.join(LR_actual,[\"date\",\"hour\"])\n",
    "LR_feature = LR_feature.withColumnRenamed(\"sum(label)\",\"label\")\n",
    "LR_feature.printSchema()"
   ]
  },
  {
   "cell_type": "code",
   "execution_count": 150,
   "metadata": {},
   "outputs": [
    {
     "data": {
      "text/plain": [
       "['0', '1', '2', '3', '4', '5', '6', '7']"
      ]
     },
     "execution_count": 150,
     "metadata": {},
     "output_type": "execute_result"
    }
   ],
   "source": [
    "feature_col = LR_feature.columns\n",
    "feature_col = feature_col[2:10]\n",
    "feature_col"
   ]
  },
  {
   "cell_type": "code",
   "execution_count": 151,
   "metadata": {},
   "outputs": [
    {
     "name": "stdout",
     "output_type": "stream",
     "text": [
      "+----+----+---+---+---+---+---+---+---+---+-----+--------+\n",
      "|date|hour|  0|  1|  2|  3|  4|  5|  6|  7|label|features|\n",
      "+----+----+---+---+---+---+---+---+---+---+-----+--------+\n",
      "+----+----+---+---+---+---+---+---+---+---+-----+--------+\n",
      "\n"
     ]
    }
   ],
   "source": [
    "vecAssembler = VectorAssembler(inputCols=feature_col, outputCol=\"features\")\n",
    "df_feature = vecAssembler.transform(LR_feature)\n",
    "df_feature.where((df_feature[\"date\"] == date(2013,11,10)) & (df_feature[\"hour\"] == 23)).show()"
   ]
  },
  {
   "cell_type": "code",
   "execution_count": 152,
   "metadata": {},
   "outputs": [],
   "source": [
    "scaler = StandardScaler(withMean=True,inputCol=\"features\",outputCol=\"scaled_features\")\n",
    "df_feature = scaler.fit(df_feature).transform(df_feature)\n",
    "df_feature = df_feature.drop(\"features\")\n",
    "df_feature = df_feature.withColumnRenamed(\"scaled_features\",\"features\")"
   ]
  },
  {
   "cell_type": "code",
   "execution_count": 153,
   "metadata": {},
   "outputs": [],
   "source": [
    "# from keras.models import Sequential\n",
    "# from keras.layers.core import Dense, Dropout\n",
    "# from elephas.ml_model import ElephasEstimator\n",
    "# model = Sequential()\n",
    "# model.add(Dense(128,input_dim=8,activation=\"relu\"))\n",
    "# model.add(Dense(64,activation=\"relu\"))\n",
    "# model.add(Dense(1,activation=\"linear\"))\n",
    "# model.compile(loss=\"mse\",optimizer=\"adam\",metrics=[\"mae\",\"mse\"])\n",
    "# model.summary()"
   ]
  },
  {
   "cell_type": "code",
   "execution_count": 154,
   "metadata": {},
   "outputs": [],
   "source": [
    "# from elephas.ml_model import ElephasEstimator\n",
    "# estimator = ElephasEstimator(model,epochs=50,batch_size=32)\n",
    "# # lrModel = estimator.fit(df_feature)\n",
    "# # from elephas.spark_model import SparkModel\n",
    "# # spark_model = SparkModel(model,frequency=\"epoch\")\n",
    "# # spark_model.fit(df_feature.select(\"features\",\"label\").rdd,epochs=20,batch_size=32)"
   ]
  },
  {
   "cell_type": "code",
   "execution_count": 155,
   "metadata": {},
   "outputs": [],
   "source": [
    "lr = LinearRegression(solver=\"auto\",loss = \"huber\")\n",
    "lrModel = lr.fit(df_feature)"
   ]
  },
  {
   "cell_type": "code",
   "execution_count": 156,
   "metadata": {},
   "outputs": [
    {
     "data": {
      "text/plain": [
       "[Row(date=datetime.date(2013, 10, 23), hour=10, 0=53.41388648412699, 1=53.41388648412699, 2=53.41388648412699, 3=53.41388648412699, 4=53.41388648412699, 5=53.41388648412699, 6=53.41388648412699, 7=41.3229548429247, label=1414.5180000000003, features=DenseVector([0.3511, 0.236, 0.236, 0.236, 0.236, 0.236, 0.543, 0.5372]))]"
      ]
     },
     "execution_count": 156,
     "metadata": {},
     "output_type": "execute_result"
    }
   ],
   "source": [
    "df_feature.take(1)"
   ]
  },
  {
   "cell_type": "markdown",
   "metadata": {},
   "source": [
    "## Perform CLuster+RF+LR"
   ]
  },
  {
   "cell_type": "code",
   "execution_count": 157,
   "metadata": {},
   "outputs": [],
   "source": [
    "def get_aggregate_LR(pred_val,lrModel):\n",
    "    pred_val = pred_val.select(\"date\",\"hour\",\"cluster_id\",\"prediction\",\"label\")\n",
    "    LR_pivot = pred_val.groupBy(\"date\",\"hour\").pivot(\"cluster_id\").agg(first(\"prediction\"))\n",
    "    LR_actual = pred_val.groupBy(\"date\",\"hour\").sum(\"label\")\n",
    "    LR_feature = LR_pivot.join(LR_actual,[\"date\",\"hour\"])\n",
    "    LR_feature = LR_feature.withColumnRenamed(\"sum(label)\",\"label\")\n",
    "    feature_col = LR_feature.columns\n",
    "    feature_col = feature_col[2:10]\n",
    "    vecAssembler = VectorAssembler(inputCols=feature_col, outputCol=\"features\")\n",
    "    df_feature = vecAssembler.transform(LR_feature)\n",
    "    scaler = StandardScaler(withMean=True,inputCol=\"features\",outputCol=\"scaled_features\")\n",
    "    df_feature = scaler.fit(df_feature).transform(df_feature)\n",
    "    df_feature = df_feature.drop(\"features\")\n",
    "    df_feature = df_feature.withColumnRenamed(\"scaled_features\",\"features\")\n",
    "    lr_prediction = lrModel.transform(df_feature)\n",
    "    return lr_prediction\n",
    "\n",
    "def weighted_avg(predval):\n",
    "    predval = predval.withColumn(\"prediction\",8*(predval[\"0\"]*(801/3930)+predval[\"1\"]*(940/3930)+predval[\"2\"]*(738/3930)+predval[\"3\"]*(652/3930)+predval[\"4\"]*(501/3930)+predval[\"5\"]*(209/3930)+predval[\"6\"]*(75/3930)+predval[\"7\"]*(14/3930)))\n",
    "    return predval"
   ]
  },
  {
   "cell_type": "code",
   "execution_count": 158,
   "metadata": {
    "scrolled": true
   },
   "outputs": [
    {
     "name": "stdout",
     "output_type": "stream",
     "text": [
      "root\n",
      " |-- date: date (nullable = true)\n",
      " |-- hour: integer (nullable = true)\n",
      " |-- 0: double (nullable = true)\n",
      " |-- 1: double (nullable = true)\n",
      " |-- 2: double (nullable = true)\n",
      " |-- 3: double (nullable = true)\n",
      " |-- 4: double (nullable = true)\n",
      " |-- 5: double (nullable = true)\n",
      " |-- 6: double (nullable = true)\n",
      " |-- 7: double (nullable = true)\n",
      " |-- label: double (nullable = true)\n",
      " |-- features: vector (nullable = true)\n",
      " |-- prediction: double (nullable = false)\n",
      "\n"
     ]
    }
   ],
   "source": [
    "aggregate_df = get_aggregate_LR(pred_val,lrModel)\n",
    "#aggregate_df = weighted_avg(df_feature)\n",
    "#print(lrModel.coefficients)\n",
    "aggregate_df.printSchema()\n",
    "# aggregate_df = aggregate_df.withColumnRenamed(\"sum(label)\",\"label\")\n",
    "# aggregate_df = aggregate_df.withColumnRenamed(\"sum(prediction)\",\"prediction\")"
   ]
  },
  {
   "cell_type": "code",
   "execution_count": 159,
   "metadata": {},
   "outputs": [
    {
     "name": "stdout",
     "output_type": "stream",
     "text": [
      "+----------+----+------------------+------------------+------------------+------------------+------------------+------------------+------------------+-----------------+--------+--------------------+------------------+\n",
      "|      date|hour|                 0|                 1|                 2|                 3|                 4|                 5|                 6|                7|   label|            features|        prediction|\n",
      "+----------+----+------------------+------------------+------------------+------------------+------------------+------------------+------------------+-----------------+--------+--------------------+------------------+\n",
      "|2013-11-10|  23|55.288050531968885|55.288050531968885|55.288050531968885|55.288050531968885|55.288050531968885|55.288050531968885|55.288050531968885|40.03765680563949|1854.308|[0.95144358797718...|1497.2833674431122|\n",
      "+----------+----+------------------+------------------+------------------+------------------+------------------+------------------+------------------+-----------------+--------+--------------------+------------------+\n",
      "\n"
     ]
    }
   ],
   "source": [
    "aggregate_df.where((aggregate_df[\"date\"] == date(2013,11,10)) & (aggregate_df[\"hour\"]==23)).show(5)"
   ]
  },
  {
   "cell_type": "code",
   "execution_count": 160,
   "metadata": {
    "scrolled": true
   },
   "outputs": [
    {
     "name": "stdout",
     "output_type": "stream",
     "text": [
      "2013-11-01\n",
      "2013-11-02\n",
      "2013-11-03\n",
      "2013-11-04\n",
      "2013-11-05\n",
      "2013-11-06\n",
      "2013-11-07\n",
      "2013-11-08\n",
      "2013-11-09\n",
      "2013-11-10\n",
      "2013-11-11\n",
      "2013-11-12\n",
      "2013-11-13\n",
      "2013-11-14\n",
      "2013-11-15\n",
      "2013-11-16\n",
      "2013-11-17\n",
      "2013-11-18\n",
      "2013-11-19\n",
      "2013-11-20\n",
      "2013-11-21\n",
      "2013-11-22\n",
      "2013-11-23\n",
      "2013-11-24\n",
      "2013-11-25\n",
      "2013-11-26\n",
      "2013-11-27\n",
      "2013-11-28\n",
      "2013-11-29\n",
      "2013-11-30\n",
      "2013-12-01\n",
      "2013-12-02\n",
      "2013-12-03\n",
      "2013-12-04\n",
      "2013-12-05\n",
      "2013-12-06\n",
      "2013-12-07\n",
      "2013-12-08\n",
      "2013-12-09\n",
      "2013-12-10\n",
      "2013-12-11\n",
      "2013-12-12\n",
      "2013-12-13\n",
      "2013-12-14\n",
      "2013-12-15\n",
      "2013-12-16\n",
      "2013-12-17\n",
      "2013-12-18\n",
      "2013-12-19\n",
      "2013-12-20\n",
      "2013-12-21\n",
      "2013-12-22\n",
      "2013-12-23\n",
      "2013-12-24\n",
      "2013-12-25\n",
      "2013-12-26\n",
      "2013-12-27\n",
      "2013-12-28\n",
      "2013-12-29\n",
      "2013-12-30\n",
      "2013-12-31\n"
     ]
    }
   ],
   "source": [
    "train_start_date = date(2013,11,1)\n",
    "train_end_date = date(2013,12,31)\n",
    "y_date = []\n",
    "Mape_date = []\n",
    "rmse_date = []\n",
    "while train_start_date <= train_end_date:\n",
    "    print(train_start_date)\n",
    "    y_actual,y_pred = select_predicted_actual(aggregate_df,train_start_date)\n",
    "    if len(y_actual) == 0:\n",
    "        train_start_date = train_start_date + timedelta(1)\n",
    "        continue\n",
    "    Mape_date.append(mean_absolute_percentage_error(y_actual,y_pred))\n",
    "    rmse_date.append(root_mean_squared_error(y_actual,y_pred))\n",
    "    y_date.append(train_start_date)\n",
    "    train_start_date = train_start_date + timedelta(1)"
   ]
  },
  {
   "cell_type": "code",
   "execution_count": 161,
   "metadata": {},
   "outputs": [
    {
     "data": {
      "text/plain": [
       "[<matplotlib.lines.Line2D at 0x7f83e66a0dd8>]"
      ]
     },
     "execution_count": 161,
     "metadata": {},
     "output_type": "execute_result"
    },
    {
     "data": {
      "image/png": "[encoded data removed]",
      "text/plain": [
       "<Figure size 576x432 with 2 Axes>"
      ]
     },
     "metadata": {
      "needs_background": "light"
     },
     "output_type": "display_data"
    }
   ],
   "source": [
    "#del y_date[2]\n",
    "# fig, (ax1,ax2) = plt.subplots(1,2, figsize =(8,6))\n",
    "# ax1.xaxis.set_major_formatter(mdates.DateFormatter('%m/%d/%Y'))\n",
    "# ax1.xaxis.set_major_locator(mdates.DayLocator())\n",
    "# ax2.xaxis.set_major_formatter(mdates.DateFormatter('%m/%d/%Y'))\n",
    "# ax2.xaxis.set_major_locator(mdates.DayLocator())\n",
    "# ax1.plot(y_date,Mape_date)\n",
    "# ax2.plot(y_date,rmse_date)\n",
    "# fig.autofmt_xdate()\n",
    "# ax1.set_xlabel('k')\n",
    "# ax1.set_ylabel('cost')\n",
    "date_time = pd.to_datetime(y_date)\n",
    "DF = pd.DataFrame()\n",
    "DF['Mape_date'] = Mape_date\n",
    "DF = DF.set_index(date_time)\n",
    "\n",
    "DF1 = pd.DataFrame()\n",
    "DF1['rmse_date'] = rmse_date\n",
    "DF1 = DF1.set_index(date_time)\n",
    "fig, (ax1,ax2) = plt.subplots(1,2, figsize =(8,6))\n",
    "fig.subplots_adjust(bottom=0.3,wspace = 0.3)\n",
    "error = [\"MAPE\",\"RMSE\"]\n",
    "cnt = 0\n",
    "for ax in fig.axes:\n",
    "    plt.sca(ax)\n",
    "    plt.xticks(rotation=90)\n",
    "    plt.xlabel(\"Day\")\n",
    "    plt.ylabel(error[cnt])\n",
    "    cnt += 1\n",
    "ax1.plot(DF)\n",
    "ax2.plot(DF1)"
   ]
  },
  {
   "cell_type": "code",
   "execution_count": 162,
   "metadata": {
    "scrolled": true
   },
   "outputs": [
    {
     "name": "stdout",
     "output_type": "stream",
     "text": [
      "Mean RMSE = 433.1813969876743, Mean Mape = 15.933571153891874\n"
     ]
    }
   ],
   "source": [
    "from statistics import mean\n",
    "print(\"Mean RMSE = {}, Mean Mape = {}\".format(mean(rmse_date),mean(Mape_date)))"
   ]
  },
  {
   "cell_type": "code",
   "execution_count": null,
   "metadata": {},
   "outputs": [],
   "source": [
    "actual_predicted = aggregate_df.where((aggregate_df.date==date(2013,11,29))).select(\"label\",\"prediction\").toPandas()\n",
    "actual_predicted.head()"
   ]
  },
  {
   "cell_type": "code",
   "execution_count": null,
   "metadata": {},
   "outputs": [],
   "source": [
    "ax = actual_predicted.plot()\n",
    "ax.set_xlabel(\"Hour of Day\")\n",
    "ax.set_ylabel(\"Load (Kw/h)\")"
   ]
  },
  {
   "cell_type": "code",
   "execution_count": null,
   "metadata": {},
   "outputs": [],
   "source": []
  },
  {
   "cell_type": "code",
   "execution_count": null,
   "metadata": {},
   "outputs": [],
   "source": []
  },
  {
   "cell_type": "code",
   "execution_count": null,
   "metadata": {},
   "outputs": [],
   "source": []
  },
  {
   "cell_type": "code",
   "execution_count": null,
   "metadata": {},
   "outputs": [],
   "source": []
  },
  {
   "cell_type": "code",
   "execution_count": null,
   "metadata": {},
   "outputs": [],
   "source": []
  },
  {
   "cell_type": "code",
   "execution_count": null,
   "metadata": {},
   "outputs": [],
   "source": []
  },
  {
   "cell_type": "code",
   "execution_count": null,
   "metadata": {},
   "outputs": [],
   "source": []
  },
  {
   "cell_type": "code",
   "execution_count": null,
   "metadata": {},
   "outputs": [],
   "source": []
  },
  {
   "cell_type": "code",
   "execution_count": null,
   "metadata": {},
   "outputs": [],
   "source": []
  }
 ],
 "metadata": {
  "kernelspec": {
   "display_name": "Python 3",
   "language": "python",
   "name": "python3"
  },
  "language_info": {
   "codemirror_mode": {
    "name": "ipython",
    "version": 3
   },
   "file_extension": ".py",
   "mimetype": "text/x-python",
   "name": "python",
   "nbconvert_exporter": "python",
   "pygments_lexer": "ipython3",
   "version": "3.5.2+"
  }
 },
 "nbformat": 4,
 "nbformat_minor": 2
}
